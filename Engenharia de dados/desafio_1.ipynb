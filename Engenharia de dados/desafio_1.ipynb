{
  "nbformat": 4,
  "nbformat_minor": 0,
  "metadata": {
    "colab": {
      "name": "desafio_1.ipynb",
      "provenance": [],
      "collapsed_sections": [],
      "mount_file_id": "1FgjJ2xq--9e5VqzGG_QUlYLwZ6aMmM9L",
      "authorship_tag": "ABX9TyPnz25otQxUJHxkPHeDoUt4",
      "include_colab_link": true
    },
    "kernelspec": {
      "name": "python3",
      "display_name": "Python 3"
    },
    "language_info": {
      "name": "python"
    }
  },
  "cells": [
    {
      "cell_type": "markdown",
      "metadata": {
        "id": "view-in-github",
        "colab_type": "text"
      },
      "source": [
        "<a href=\"https://colab.research.google.com/github/cmlins/fast_track/blob/main/Engenharia%20de%20dados/desafio_1.ipynb\" target=\"_parent\"><img src=\"https://colab.research.google.com/assets/colab-badge.svg\" alt=\"Open In Colab\"/></a>"
      ]
    },
    {
      "cell_type": "markdown",
      "metadata": {
        "id": "3sGGHomlJTyz"
      },
      "source": [
        "# Desafio 1\n",
        "\n",
        "## Votação Eleições 2014"
      ]
    },
    {
      "cell_type": "markdown",
      "metadata": {
        "id": "pwwrzudxJf6k"
      },
      "source": [
        "### Imports de bibliotecas"
      ]
    },
    {
      "cell_type": "code",
      "metadata": {
        "colab": {
          "base_uri": "https://localhost:8080/"
        },
        "id": "Fb4aFo8KkfEx",
        "outputId": "c11aef26-04bd-4832-81d9-7546af0b3254"
      },
      "source": [
        "# Instalar o plotly\n",
        "\n",
        "!pip install --upgrade plotly"
      ],
      "execution_count": null,
      "outputs": [
        {
          "output_type": "stream",
          "text": [
            "Collecting plotly\n",
            "\u001b[?25l  Downloading https://files.pythonhosted.org/packages/1f/f6/bd3c17c8003b6641df1228e80e1acac97ed8402635e46c2571f8e1ef63af/plotly-4.14.3-py2.py3-none-any.whl (13.2MB)\n",
            "\u001b[K     |████████████████████████████████| 13.2MB 274kB/s \n",
            "\u001b[?25hRequirement already satisfied, skipping upgrade: retrying>=1.3.3 in /usr/local/lib/python3.7/dist-packages (from plotly) (1.3.3)\n",
            "Requirement already satisfied, skipping upgrade: six in /usr/local/lib/python3.7/dist-packages (from plotly) (1.15.0)\n",
            "Installing collected packages: plotly\n",
            "  Found existing installation: plotly 4.4.1\n",
            "    Uninstalling plotly-4.4.1:\n",
            "      Successfully uninstalled plotly-4.4.1\n",
            "Successfully installed plotly-4.14.3\n"
          ],
          "name": "stdout"
        }
      ]
    },
    {
      "cell_type": "code",
      "metadata": {
        "colab": {
          "base_uri": "https://localhost:8080/"
        },
        "id": "u_UfvhOwD47E",
        "outputId": "5d887811-6302-4892-dc0f-5893b6f7805c"
      },
      "source": [
        "# Instalar o pyspark\n",
        "\n",
        "!pip install pyspark"
      ],
      "execution_count": null,
      "outputs": [
        {
          "output_type": "stream",
          "text": [
            "Collecting pyspark\n",
            "\u001b[?25l  Downloading https://files.pythonhosted.org/packages/45/b0/9d6860891ab14a39d4bddf80ba26ce51c2f9dc4805e5c6978ac0472c120a/pyspark-3.1.1.tar.gz (212.3MB)\n",
            "\u001b[K     |████████████████████████████████| 212.3MB 71kB/s \n",
            "\u001b[?25hCollecting py4j==0.10.9\n",
            "\u001b[?25l  Downloading https://files.pythonhosted.org/packages/9e/b6/6a4fb90cd235dc8e265a6a2067f2a2c99f0d91787f06aca4bcf7c23f3f80/py4j-0.10.9-py2.py3-none-any.whl (198kB)\n",
            "\u001b[K     |████████████████████████████████| 204kB 16.7MB/s \n",
            "\u001b[?25hBuilding wheels for collected packages: pyspark\n",
            "  Building wheel for pyspark (setup.py) ... \u001b[?25l\u001b[?25hdone\n",
            "  Created wheel for pyspark: filename=pyspark-3.1.1-py2.py3-none-any.whl size=212767604 sha256=a2d192294d9055a2dca276b03ae03e26f3a0d52ac7f14153b06271e7179bb9b6\n",
            "  Stored in directory: /root/.cache/pip/wheels/0b/90/c0/01de724414ef122bd05f056541fb6a0ecf47c7ca655f8b3c0f\n",
            "Successfully built pyspark\n",
            "Installing collected packages: py4j, pyspark\n",
            "Successfully installed py4j-0.10.9 pyspark-3.1.1\n"
          ],
          "name": "stdout"
        }
      ]
    },
    {
      "cell_type": "code",
      "metadata": {
        "id": "YHappuS1D56W"
      },
      "source": [
        "# import das bibliotecas usadas\n",
        "\n",
        "import pandas as pd\n",
        "import numpy as np\n",
        "import pyspark\n",
        "from pyspark.sql import SparkSession\n",
        "from pyspark.sql.functions import isnan, when, count, col, isnull, asc, desc, mean\n",
        "\n",
        "import plotly.express as px\n",
        "import plotly.graph_objects as go\n",
        "from plotly.subplots import make_subplots"
      ],
      "execution_count": null,
      "outputs": []
    },
    {
      "cell_type": "code",
      "metadata": {
        "id": "hDX770q7LsS8"
      },
      "source": [
        "# Cria uma sessão spark\n",
        "spark = SparkSession.builder.master('local').appName('DataWrangling').getOrCreate()\n",
        "\n",
        "# Configura para que a visualização das saídas seja similar ao Pandas\n",
        "spark.conf.set('spark.sql.repl.eagerEval.enabled', True)"
      ],
      "execution_count": null,
      "outputs": []
    },
    {
      "cell_type": "code",
      "metadata": {
        "colab": {
          "base_uri": "https://localhost:8080/"
        },
        "id": "nz7V7A6YNLCC",
        "outputId": "c08654b0-e1a2-4f6a-c877-96f57b678ebb"
      },
      "source": [
        "#montar o drive\n",
        "from google.colab import drive\n",
        "drive.mount('/drive')"
      ],
      "execution_count": null,
      "outputs": [
        {
          "output_type": "stream",
          "text": [
            "Mounted at /drive\n"
          ],
          "name": "stdout"
        }
      ]
    },
    {
      "cell_type": "markdown",
      "metadata": {
        "id": "a5BOq5rVJp_E"
      },
      "source": [
        "### Lista de todos os candidatos a presidente nas eleições de 2014"
      ]
    },
    {
      "cell_type": "code",
      "metadata": {
        "id": "QmQDpv6rKmX0"
      },
      "source": [
        "candidatos = spark.read.csv('/drive/MyDrive/Desafio/receitas_candidatos_2014_brasil_english.csv', header=True)\n",
        "# candidatos.limit(5)"
      ],
      "execution_count": null,
      "outputs": []
    },
    {
      "cell_type": "code",
      "metadata": {
        "colab": {
          "base_uri": "https://localhost:8080/"
        },
        "id": "YLrYBJCORT0D",
        "outputId": "33cf7da7-3b61-4ec1-ebbe-6b7e1ed86783"
      },
      "source": [
        "candidatos = candidatos.select('cat_candidate_name', 'id_candidate_num', 'cat_party', 'cat_political_office')\n",
        "presidentes = candidatos.filter(candidatos.cat_political_office == 'Presidente')\n",
        "presidentes = presidentes.dropDuplicates()\n",
        "presidentes.show()"
      ],
      "execution_count": null,
      "outputs": [
        {
          "output_type": "stream",
          "text": [
            "+--------------------+----------------+---------+--------------------+\n",
            "|  cat_candidate_name|id_candidate_num|cat_party|cat_political_office|\n",
            "+--------------------+----------------+---------+--------------------+\n",
            "|JOSÉ LEVY FIDELIX...|              28|     PRTB|          Presidente|\n",
            "| LUCIANA KREBS GENRO|              50|     PSOL|          Presidente|\n",
            "|   RUI COSTA PIMENTA|              29|      PCO|          Presidente|\n",
            "|JOSÉ MARIA DE ALM...|              16|     PSTU|          Presidente|\n",
            "|   JOSE MARIA EYMAEL|              27|     PSDC|          Presidente|\n",
            "|EDUARDO JORGE MAR...|              43|       PV|          Presidente|\n",
            "|MARIA OSMARINA MA...|              40|      PSB|          Presidente|\n",
            "|     MAURO LUÍS IASI|              21|      PCB|          Presidente|\n",
            "|EDUARDO HENRIQUE ...|              40|      PSB|          Presidente|\n",
            "|AÉCIO NEVES DA CUNHA|              45|     PSDB|          Presidente|\n",
            "|EVERALDO DIAS PER...|              20|      PSC|          Presidente|\n",
            "| DILMA VANA ROUSSEFF|              13|       PT|          Presidente|\n",
            "+--------------------+----------------+---------+--------------------+\n",
            "\n"
          ],
          "name": "stdout"
        }
      ]
    },
    {
      "cell_type": "code",
      "metadata": {
        "colab": {
          "base_uri": "https://localhost:8080/"
        },
        "id": "godxqgvgcS1i",
        "outputId": "01162269-f904-458f-ad33-887d4d3e9e87"
      },
      "source": [
        "candidatos.printSchema()"
      ],
      "execution_count": null,
      "outputs": [
        {
          "output_type": "stream",
          "text": [
            "root\n",
            " |-- cat_candidate_name: string (nullable = true)\n",
            " |-- id_candidate_num: string (nullable = true)\n",
            " |-- cat_party: string (nullable = true)\n",
            " |-- cat_political_office: string (nullable = true)\n",
            "\n"
          ],
          "name": "stdout"
        }
      ]
    },
    {
      "cell_type": "markdown",
      "metadata": {
        "id": "C8EGtmmVNCMS"
      },
      "source": [
        "### Votos que cada candidato à Presidência fez na região Sul do Brasil"
      ]
    },
    {
      "cell_type": "code",
      "metadata": {
        "id": "ja8O94rgOOUw",
        "colab": {
          "base_uri": "https://localhost:8080/",
          "height": 159
        },
        "outputId": "3d5a9314-c435-4fb6-f308-694a50ff9e26"
      },
      "source": [
        "#  Carrega tabela com os votos das eleições\n",
        "\n",
        "votacao = spark.read.csv('/drive/MyDrive/Desafio/votacao_brasil_english.csv',header=True)\n",
        "votacao.limit(5)"
      ],
      "execution_count": null,
      "outputs": [
        {
          "output_type": "execute_result",
          "data": {
            "text/html": [
              "<table border='1'>\n",
              "<tr><th>id_candidate_seq</th><th>id_candidate_num</th><th>cat_candidate_name</th><th>cat_state</th><th>cat_party</th><th>cat_coalition</th><th>cat_composition</th><th>cat_eletion_result</th><th>num_turn</th><th>num_votes</th></tr>\n",
              "<tr><td>10000000001</td><td>111</td><td>GLADSON DE LIMA C...</td><td>AC</td><td>PP</td><td>ALIANÇA POR UM AC...</td><td>PMDB / PSDB / PT ...</td><td>ELEITO</td><td>1</td><td>218756</td></tr>\n",
              "<tr><td>10000000003</td><td>45</td><td>MÁRCIO MIGUEL BITTAR</td><td>AC</td><td>PSDB</td><td>ALIANÇA POR UM AC...</td><td>PMDB / PSDB / PT ...</td><td>2º TURNO</td><td>1</td><td>116948</td></tr>\n",
              "<tr><td>10000000003</td><td>45</td><td>MÁRCIO MIGUEL BITTAR</td><td>AC</td><td>PSDB</td><td>ALIANÇA POR UM AC...</td><td>PMDB / PSDB / PT ...</td><td>NÃO ELEITO</td><td>2</td><td>186658</td></tr>\n",
              "<tr><td>10000000021</td><td>12123</td><td>HENRY ANTONIO SIL...</td><td>AC</td><td>PDT</td><td>PARTIDO ISOLADO</td><td>PDT</td><td>SUPLENTE</td><td>1</td><td>2605</td></tr>\n",
              "<tr><td>10000000022</td><td>12012</td><td>ZENILDO VIEIRA DA...</td><td>AC</td><td>PDT</td><td>PARTIDO ISOLADO</td><td>PDT</td><td>NÃO ELEITO</td><td>1</td><td>0</td></tr>\n",
              "</table>\n"
            ],
            "text/plain": [
              "+----------------+----------------+--------------------+---------+---------+--------------------+--------------------+------------------+--------+---------+\n",
              "|id_candidate_seq|id_candidate_num|  cat_candidate_name|cat_state|cat_party|       cat_coalition|     cat_composition|cat_eletion_result|num_turn|num_votes|\n",
              "+----------------+----------------+--------------------+---------+---------+--------------------+--------------------+------------------+--------+---------+\n",
              "|     10000000001|             111|GLADSON DE LIMA C...|       AC|       PP|ALIANÇA POR UM AC...|PMDB / PSDB / PT ...|            ELEITO|       1|   218756|\n",
              "|     10000000003|              45|MÁRCIO MIGUEL BITTAR|       AC|     PSDB|ALIANÇA POR UM AC...|PMDB / PSDB / PT ...|          2º TURNO|       1|   116948|\n",
              "|     10000000003|              45|MÁRCIO MIGUEL BITTAR|       AC|     PSDB|ALIANÇA POR UM AC...|PMDB / PSDB / PT ...|        NÃO ELEITO|       2|   186658|\n",
              "|     10000000021|           12123|HENRY ANTONIO SIL...|       AC|      PDT|     PARTIDO ISOLADO|                 PDT|          SUPLENTE|       1|     2605|\n",
              "|     10000000022|           12012|ZENILDO VIEIRA DA...|       AC|      PDT|     PARTIDO ISOLADO|                 PDT|        NÃO ELEITO|       1|        0|\n",
              "+----------------+----------------+--------------------+---------+---------+--------------------+--------------------+------------------+--------+---------+"
            ]
          },
          "metadata": {
            "tags": []
          },
          "execution_count": 8
        }
      ]
    },
    {
      "cell_type": "code",
      "metadata": {
        "id": "WWhJ7ibCHEDI",
        "colab": {
          "base_uri": "https://localhost:8080/",
          "height": 521
        },
        "outputId": "4647cbb8-a04e-4c03-f0b1-5e0fb3dd4233"
      },
      "source": [
        "# seleção das colunas necessárias para a avaliação\n",
        "\n",
        "tb_votacao = votacao[['id_candidate_num', 'cat_candidate_name', 'cat_state', 'cat_party', 'num_turn', 'num_votes']]\n",
        "tb_votacao"
      ],
      "execution_count": null,
      "outputs": [
        {
          "output_type": "execute_result",
          "data": {
            "text/html": [
              "<table border='1'>\n",
              "<tr><th>id_candidate_num</th><th>cat_candidate_name</th><th>cat_state</th><th>cat_party</th><th>num_turn</th><th>num_votes</th></tr>\n",
              "<tr><td>111</td><td>GLADSON DE LIMA C...</td><td>AC</td><td>PP</td><td>1</td><td>218756</td></tr>\n",
              "<tr><td>45</td><td>MÁRCIO MIGUEL BITTAR</td><td>AC</td><td>PSDB</td><td>1</td><td>116948</td></tr>\n",
              "<tr><td>45</td><td>MÁRCIO MIGUEL BITTAR</td><td>AC</td><td>PSDB</td><td>2</td><td>186658</td></tr>\n",
              "<tr><td>12123</td><td>HENRY ANTONIO SIL...</td><td>AC</td><td>PDT</td><td>1</td><td>2605</td></tr>\n",
              "<tr><td>12012</td><td>ZENILDO VIEIRA DA...</td><td>AC</td><td>PDT</td><td>1</td><td>0</td></tr>\n",
              "<tr><td>12570</td><td>JOSÉ ALVES DA SILVA</td><td>AC</td><td>PDT</td><td>1</td><td>47</td></tr>\n",
              "<tr><td>12456</td><td>MARCOS GLAY RIBEI...</td><td>AC</td><td>PDT</td><td>1</td><td>172</td></tr>\n",
              "<tr><td>12111</td><td>JOSÉ ALTANIZIO TA...</td><td>AC</td><td>PDT</td><td>1</td><td>2196</td></tr>\n",
              "<tr><td>12147</td><td>AURELIANO ALVES R...</td><td>AC</td><td>PDT</td><td>1</td><td>486</td></tr>\n",
              "<tr><td>12580</td><td>JOSE AUGUSTO PINH...</td><td>AC</td><td>PDT</td><td>1</td><td>1454</td></tr>\n",
              "<tr><td>12777</td><td>GILBERTO CABRAL D...</td><td>AC</td><td>PDT</td><td>1</td><td>1563</td></tr>\n",
              "<tr><td>12600</td><td>MARIA DE FATIMA B...</td><td>AC</td><td>PDT</td><td>1</td><td>14</td></tr>\n",
              "<tr><td>12320</td><td>LUZIA MONTEIRO DE...</td><td>AC</td><td>PDT</td><td>1</td><td>2</td></tr>\n",
              "<tr><td>12000</td><td>MAURICIO DE OLIVE...</td><td>AC</td><td>PDT</td><td>1</td><td>1586</td></tr>\n",
              "<tr><td>12312</td><td>MARIA DAS DORES T...</td><td>AC</td><td>PDT</td><td>1</td><td>75</td></tr>\n",
              "<tr><td>12789</td><td>EDVALDO ALMEIDA D...</td><td>AC</td><td>PDT</td><td>1</td><td>2448</td></tr>\n",
              "<tr><td>12080</td><td>ADALBERTO FELISMI...</td><td>AC</td><td>PDT</td><td>1</td><td>74</td></tr>\n",
              "<tr><td>12333</td><td>RAIMUNDO NONATO D...</td><td>AC</td><td>PDT</td><td>1</td><td>551</td></tr>\n",
              "<tr><td>12300</td><td>HEITOR ANDRADE DE...</td><td>AC</td><td>PDT</td><td>1</td><td>2683</td></tr>\n",
              "<tr><td>12987</td><td>SEBASTIÃO DOS SAN...</td><td>AC</td><td>PDT</td><td>1</td><td>178</td></tr>\n",
              "</table>\n",
              "only showing top 20 rows\n"
            ],
            "text/plain": [
              "+----------------+--------------------+---------+---------+--------+---------+\n",
              "|id_candidate_num|  cat_candidate_name|cat_state|cat_party|num_turn|num_votes|\n",
              "+----------------+--------------------+---------+---------+--------+---------+\n",
              "|             111|GLADSON DE LIMA C...|       AC|       PP|       1|   218756|\n",
              "|              45|MÁRCIO MIGUEL BITTAR|       AC|     PSDB|       1|   116948|\n",
              "|              45|MÁRCIO MIGUEL BITTAR|       AC|     PSDB|       2|   186658|\n",
              "|           12123|HENRY ANTONIO SIL...|       AC|      PDT|       1|     2605|\n",
              "|           12012|ZENILDO VIEIRA DA...|       AC|      PDT|       1|        0|\n",
              "|           12570| JOSÉ ALVES DA SILVA|       AC|      PDT|       1|       47|\n",
              "|           12456|MARCOS GLAY RIBEI...|       AC|      PDT|       1|      172|\n",
              "|           12111|JOSÉ ALTANIZIO TA...|       AC|      PDT|       1|     2196|\n",
              "|           12147|AURELIANO ALVES R...|       AC|      PDT|       1|      486|\n",
              "|           12580|JOSE AUGUSTO PINH...|       AC|      PDT|       1|     1454|\n",
              "|           12777|GILBERTO CABRAL D...|       AC|      PDT|       1|     1563|\n",
              "|           12600|MARIA DE FATIMA B...|       AC|      PDT|       1|       14|\n",
              "|           12320|LUZIA MONTEIRO DE...|       AC|      PDT|       1|        2|\n",
              "|           12000|MAURICIO DE OLIVE...|       AC|      PDT|       1|     1586|\n",
              "|           12312|MARIA DAS DORES T...|       AC|      PDT|       1|       75|\n",
              "|           12789|EDVALDO ALMEIDA D...|       AC|      PDT|       1|     2448|\n",
              "|           12080|ADALBERTO FELISMI...|       AC|      PDT|       1|       74|\n",
              "|           12333|RAIMUNDO NONATO D...|       AC|      PDT|       1|      551|\n",
              "|           12300|HEITOR ANDRADE DE...|       AC|      PDT|       1|     2683|\n",
              "|           12987|SEBASTIÃO DOS SAN...|       AC|      PDT|       1|      178|\n",
              "+----------------+--------------------+---------+---------+--------+---------+\n",
              "only showing top 20 rows"
            ]
          },
          "metadata": {
            "tags": []
          },
          "execution_count": 9
        }
      ]
    },
    {
      "cell_type": "code",
      "metadata": {
        "id": "rTCfbGdcIA91",
        "colab": {
          "base_uri": "https://localhost:8080/",
          "height": 159
        },
        "outputId": "6dc7a8b8-e0fc-4cf1-f75c-a4d795fc15d8"
      },
      "source": [
        "# Seleção dos votos dos estados do Sul\n",
        "\n",
        "tb_votacao_sul = tb_votacao[(tb_votacao['cat_state'] == 'RS') | (tb_votacao['cat_state'] == 'SC') | (tb_votacao['cat_state'] == 'PR')]\n",
        "tb_votacao_sul.limit(5)"
      ],
      "execution_count": null,
      "outputs": [
        {
          "output_type": "execute_result",
          "data": {
            "text/html": [
              "<table border='1'>\n",
              "<tr><th>id_candidate_num</th><th>cat_candidate_name</th><th>cat_state</th><th>cat_party</th><th>num_turn</th><th>num_votes</th></tr>\n",
              "<tr><td>50069</td><td>XÊNIA KAROLINE MELLO</td><td>PR</td><td>PSOL</td><td>1</td><td>2399</td></tr>\n",
              "<tr><td>50</td><td>BERNARDO SEIXAS P...</td><td>PR</td><td>PSOL</td><td>1</td><td>35327</td></tr>\n",
              "<tr><td>5055</td><td>ANDERSON ANDREAZZA</td><td>PR</td><td>PSOL</td><td>1</td><td>1438</td></tr>\n",
              "<tr><td>5090</td><td>SIRINEU ZANCHI ME...</td><td>PR</td><td>PSOL</td><td>1</td><td>568</td></tr>\n",
              "<tr><td>5050</td><td>THIAGO DE SOUSA B...</td><td>PR</td><td>PSOL</td><td>1</td><td>5366</td></tr>\n",
              "</table>\n"
            ],
            "text/plain": [
              "+----------------+--------------------+---------+---------+--------+---------+\n",
              "|id_candidate_num|  cat_candidate_name|cat_state|cat_party|num_turn|num_votes|\n",
              "+----------------+--------------------+---------+---------+--------+---------+\n",
              "|           50069|XÊNIA KAROLINE MELLO|       PR|     PSOL|       1|     2399|\n",
              "|              50|BERNARDO SEIXAS P...|       PR|     PSOL|       1|    35327|\n",
              "|            5055|  ANDERSON ANDREAZZA|       PR|     PSOL|       1|     1438|\n",
              "|            5090|SIRINEU ZANCHI ME...|       PR|     PSOL|       1|      568|\n",
              "|            5050|THIAGO DE SOUSA B...|       PR|     PSOL|       1|     5366|\n",
              "+----------------+--------------------+---------+---------+--------+---------+"
            ]
          },
          "metadata": {
            "tags": []
          },
          "execution_count": 10
        }
      ]
    },
    {
      "cell_type": "code",
      "metadata": {
        "id": "2423YeFOSbmv"
      },
      "source": [
        "# candidatos.columns"
      ],
      "execution_count": null,
      "outputs": []
    },
    {
      "cell_type": "code",
      "metadata": {
        "id": "NoneW0NGbY7S"
      },
      "source": [
        "# Renomeia as colunas da tabela com os cadidatos à presidência\n",
        "\n",
        "presidentes_renamed = presidentes.withColumnRenamed('cat_candidate_name','cat_candidate_name_pres').withColumnRenamed('id_candidate_num','id_candidate_num_pres').withColumnRenamed('cat_party','cat_party_pres').withColumnRenamed('cat_political_office','cat_political_office_pres')\n",
        "\n",
        "# 'cat_candidate_name','id_candidate_num','cat_party','cat_political_office'\n",
        "# 'cat_candidate_name_pres','id_candidate_num_pres','cat_party_pres','cat_political_office_pres'"
      ],
      "execution_count": null,
      "outputs": []
    },
    {
      "cell_type": "code",
      "metadata": {
        "id": "JBHdfdAVR1DE"
      },
      "source": [
        "# Join das tabelas dos cadidatos à Presidência com a tabela dos votos nos estados do Sul usando como referência os nomes do candidatos\n",
        "\n",
        "join = tb_votacao_sul.join(presidentes_renamed, tb_votacao_sul.cat_candidate_name == presidentes_renamed.cat_candidate_name_pres)"
      ],
      "execution_count": null,
      "outputs": []
    },
    {
      "cell_type": "code",
      "metadata": {
        "colab": {
          "base_uri": "https://localhost:8080/"
        },
        "id": "_jAj5TAjWfv3",
        "outputId": "8c408a29-eed6-4e0d-d17e-591fbd051486"
      },
      "source": [
        "#  Seleção dos votos somente do primeiro turno\n",
        "\n",
        "primeiro_turno = join.filter(join.num_turn == 1)\n",
        "primeiro_turno.show()"
      ],
      "execution_count": null,
      "outputs": [
        {
          "output_type": "stream",
          "text": [
            "+----------------+--------------------+---------+---------+--------+---------+-----------------------+---------------------+--------------+-------------------------+\n",
            "|id_candidate_num|  cat_candidate_name|cat_state|cat_party|num_turn|num_votes|cat_candidate_name_pres|id_candidate_num_pres|cat_party_pres|cat_political_office_pres|\n",
            "+----------------+--------------------+---------+---------+--------+---------+-----------------------+---------------------+--------------+-------------------------+\n",
            "|              28|JOSÉ LEVY FIDELIX...|       SC|     PRTB|       1|    15774|   JOSÉ LEVY FIDELIX...|                   28|          PRTB|               Presidente|\n",
            "|              28|JOSÉ LEVY FIDELIX...|       RS|     PRTB|       1|    17954|   JOSÉ LEVY FIDELIX...|                   28|          PRTB|               Presidente|\n",
            "|              28|JOSÉ LEVY FIDELIX...|       PR|     PRTB|       1|    33612|   JOSÉ LEVY FIDELIX...|                   28|          PRTB|               Presidente|\n",
            "|              50| LUCIANA KREBS GENRO|       SC|     PSOL|       1|    53532|    LUCIANA KREBS GENRO|                   50|          PSOL|               Presidente|\n",
            "|              50| LUCIANA KREBS GENRO|       RS|     PSOL|       1|   143370|    LUCIANA KREBS GENRO|                   50|          PSOL|               Presidente|\n",
            "|              50| LUCIANA KREBS GENRO|       PR|     PSOL|       1|    79267|    LUCIANA KREBS GENRO|                   50|          PSOL|               Presidente|\n",
            "|              29|   RUI COSTA PIMENTA|       SC|      PCO|       1|      390|      RUI COSTA PIMENTA|                   29|           PCO|               Presidente|\n",
            "|              29|   RUI COSTA PIMENTA|       RS|      PCO|       1|      505|      RUI COSTA PIMENTA|                   29|           PCO|               Presidente|\n",
            "|              29|   RUI COSTA PIMENTA|       PR|      PCO|       1|      560|      RUI COSTA PIMENTA|                   29|           PCO|               Presidente|\n",
            "|              16|JOSÉ MARIA DE ALM...|       SC|     PSTU|       1|     3975|   JOSÉ MARIA DE ALM...|                   16|          PSTU|               Presidente|\n",
            "|              16|JOSÉ MARIA DE ALM...|       RS|     PSTU|       1|     4083|   JOSÉ MARIA DE ALM...|                   16|          PSTU|               Presidente|\n",
            "|              16|JOSÉ MARIA DE ALM...|       PR|     PSTU|       1|     4552|   JOSÉ MARIA DE ALM...|                   16|          PSTU|               Presidente|\n",
            "|              27|   JOSE MARIA EYMAEL|       SC|     PSDC|       1|     2005|      JOSE MARIA EYMAEL|                   27|          PSDC|               Presidente|\n",
            "|              27|   JOSE MARIA EYMAEL|       RS|     PSDC|       1|     2255|      JOSE MARIA EYMAEL|                   27|          PSDC|               Presidente|\n",
            "|              27|   JOSE MARIA EYMAEL|       PR|     PSDC|       1|     4828|      JOSE MARIA EYMAEL|                   27|          PSDC|               Presidente|\n",
            "|              43|EDUARDO JORGE MAR...|       SC|       PV|       1|    30239|   EDUARDO JORGE MAR...|                   43|            PV|               Presidente|\n",
            "|              43|EDUARDO JORGE MAR...|       RS|       PV|       1|    43703|   EDUARDO JORGE MAR...|                   43|            PV|               Presidente|\n",
            "|              43|EDUARDO JORGE MAR...|       PR|       PV|       1|    44755|   EDUARDO JORGE MAR...|                   43|            PV|               Presidente|\n",
            "|              40|MARIA OSMARINA MA...|       SC|      PSB|       1|   476430|   MARIA OSMARINA MA...|                   40|           PSB|               Presidente|\n",
            "|              40|MARIA OSMARINA MA...|       RS|      PSB|       1|   732828|   MARIA OSMARINA MA...|                   40|           PSB|               Presidente|\n",
            "+----------------+--------------------+---------+---------+--------+---------+-----------------------+---------------------+--------------+-------------------------+\n",
            "only showing top 20 rows\n",
            "\n"
          ],
          "name": "stdout"
        }
      ]
    },
    {
      "cell_type": "code",
      "metadata": {
        "colab": {
          "base_uri": "https://localhost:8080/"
        },
        "id": "xfNkK6xSWg6y",
        "outputId": "b7d11dcb-de3c-4be2-aebe-b874dcc7da93"
      },
      "source": [
        "# Drop das colunas desnecessárias\n",
        "\n",
        "pres_sul = primeiro_turno.drop('cat_candidate_name_pres','id_candidate_num_pres','cat_party_pres','cat_political_office_pres')\n",
        "pres_sul.show()"
      ],
      "execution_count": null,
      "outputs": [
        {
          "output_type": "stream",
          "text": [
            "+----------------+--------------------+---------+---------+--------+---------+\n",
            "|id_candidate_num|  cat_candidate_name|cat_state|cat_party|num_turn|num_votes|\n",
            "+----------------+--------------------+---------+---------+--------+---------+\n",
            "|              28|JOSÉ LEVY FIDELIX...|       SC|     PRTB|       1|    15774|\n",
            "|              28|JOSÉ LEVY FIDELIX...|       RS|     PRTB|       1|    17954|\n",
            "|              28|JOSÉ LEVY FIDELIX...|       PR|     PRTB|       1|    33612|\n",
            "|              50| LUCIANA KREBS GENRO|       SC|     PSOL|       1|    53532|\n",
            "|              50| LUCIANA KREBS GENRO|       RS|     PSOL|       1|   143370|\n",
            "|              50| LUCIANA KREBS GENRO|       PR|     PSOL|       1|    79267|\n",
            "|              29|   RUI COSTA PIMENTA|       SC|      PCO|       1|      390|\n",
            "|              29|   RUI COSTA PIMENTA|       RS|      PCO|       1|      505|\n",
            "|              29|   RUI COSTA PIMENTA|       PR|      PCO|       1|      560|\n",
            "|              16|JOSÉ MARIA DE ALM...|       SC|     PSTU|       1|     3975|\n",
            "|              16|JOSÉ MARIA DE ALM...|       RS|     PSTU|       1|     4083|\n",
            "|              16|JOSÉ MARIA DE ALM...|       PR|     PSTU|       1|     4552|\n",
            "|              27|   JOSE MARIA EYMAEL|       SC|     PSDC|       1|     2005|\n",
            "|              27|   JOSE MARIA EYMAEL|       RS|     PSDC|       1|     2255|\n",
            "|              27|   JOSE MARIA EYMAEL|       PR|     PSDC|       1|     4828|\n",
            "|              43|EDUARDO JORGE MAR...|       SC|       PV|       1|    30239|\n",
            "|              43|EDUARDO JORGE MAR...|       RS|       PV|       1|    43703|\n",
            "|              43|EDUARDO JORGE MAR...|       PR|       PV|       1|    44755|\n",
            "|              40|MARIA OSMARINA MA...|       SC|      PSB|       1|   476430|\n",
            "|              40|MARIA OSMARINA MA...|       RS|      PSB|       1|   732828|\n",
            "+----------------+--------------------+---------+---------+--------+---------+\n",
            "only showing top 20 rows\n",
            "\n"
          ],
          "name": "stdout"
        }
      ]
    },
    {
      "cell_type": "code",
      "metadata": {
        "colab": {
          "base_uri": "https://localhost:8080/"
        },
        "id": "vvLJ8vXQZ-ox",
        "outputId": "40333424-c51b-4282-826d-b21ad3fa0460"
      },
      "source": [
        "# Votos dos candidatos à presidência em Santa Catarina no primeiro turno em 2014\n",
        "\n",
        "sc = pres_sul.filter(pres_sul.cat_state == 'SC')\n",
        "sc.show()"
      ],
      "execution_count": null,
      "outputs": [
        {
          "output_type": "stream",
          "text": [
            "+----------------+--------------------+---------+---------+--------+---------+\n",
            "|id_candidate_num|  cat_candidate_name|cat_state|cat_party|num_turn|num_votes|\n",
            "+----------------+--------------------+---------+---------+--------+---------+\n",
            "|              28|JOSÉ LEVY FIDELIX...|       SC|     PRTB|       1|    15774|\n",
            "|              50| LUCIANA KREBS GENRO|       SC|     PSOL|       1|    53532|\n",
            "|              29|   RUI COSTA PIMENTA|       SC|      PCO|       1|      390|\n",
            "|              16|JOSÉ MARIA DE ALM...|       SC|     PSTU|       1|     3975|\n",
            "|              27|   JOSE MARIA EYMAEL|       SC|     PSDC|       1|     2005|\n",
            "|              43|EDUARDO JORGE MAR...|       SC|       PV|       1|    30239|\n",
            "|              40|MARIA OSMARINA MA...|       SC|      PSB|       1|   476430|\n",
            "|              21|     MAURO LUÍS IASI|       SC|      PCB|       1|     1413|\n",
            "|              45|AÉCIO NEVES DA CUNHA|       SC|     PSDB|       1|  1963772|\n",
            "|              20|EVERALDO DIAS PER...|       SC|      PSC|       1|    23661|\n",
            "|              13| DILMA VANA ROUSSEFF|       SC|       PT|       1|  1141102|\n",
            "+----------------+--------------------+---------+---------+--------+---------+\n",
            "\n"
          ],
          "name": "stdout"
        }
      ]
    },
    {
      "cell_type": "code",
      "metadata": {
        "colab": {
          "base_uri": "https://localhost:8080/"
        },
        "id": "vQd67k3mefG0",
        "outputId": "aa00f3fd-7942-4f74-9bd5-431d253d46e9"
      },
      "source": [
        "# Votos dos candidatos à presidência no Rio Grande do Sul no primeiro turno em 2014\n",
        "\n",
        "rs = pres_sul.filter(pres_sul.cat_state == 'RS')\n",
        "rs.show()"
      ],
      "execution_count": null,
      "outputs": [
        {
          "output_type": "stream",
          "text": [
            "+----------------+--------------------+---------+---------+--------+---------+\n",
            "|id_candidate_num|  cat_candidate_name|cat_state|cat_party|num_turn|num_votes|\n",
            "+----------------+--------------------+---------+---------+--------+---------+\n",
            "|              28|JOSÉ LEVY FIDELIX...|       RS|     PRTB|       1|    17954|\n",
            "|              50| LUCIANA KREBS GENRO|       RS|     PSOL|       1|   143370|\n",
            "|              29|   RUI COSTA PIMENTA|       RS|      PCO|       1|      505|\n",
            "|              16|JOSÉ MARIA DE ALM...|       RS|     PSTU|       1|     4083|\n",
            "|              27|   JOSE MARIA EYMAEL|       RS|     PSDC|       1|     2255|\n",
            "|              43|EDUARDO JORGE MAR...|       RS|       PV|       1|    43703|\n",
            "|              40|MARIA OSMARINA MA...|       RS|      PSB|       1|   732828|\n",
            "|              21|     MAURO LUÍS IASI|       RS|      PCB|       1|     2301|\n",
            "|              45|AÉCIO NEVES DA CUNHA|       RS|     PSDB|       1|  2639647|\n",
            "|              20|EVERALDO DIAS PER...|       RS|      PSC|       1|    33053|\n",
            "|              13| DILMA VANA ROUSSEFF|       RS|       PT|       1|  2752075|\n",
            "+----------------+--------------------+---------+---------+--------+---------+\n",
            "\n"
          ],
          "name": "stdout"
        }
      ]
    },
    {
      "cell_type": "code",
      "metadata": {
        "colab": {
          "base_uri": "https://localhost:8080/"
        },
        "id": "47FHP8SLfMIv",
        "outputId": "e3b09691-c693-4a8c-e2e2-67178f340012"
      },
      "source": [
        "# # Votos dos candidatos à presidência no Paraná no primeiro turno em 2014\n",
        "\n",
        "pr = pres_sul.filter(pres_sul.cat_state == 'PR')\n",
        "pr.show()"
      ],
      "execution_count": null,
      "outputs": [
        {
          "output_type": "stream",
          "text": [
            "+----------------+--------------------+---------+---------+--------+---------+\n",
            "|id_candidate_num|  cat_candidate_name|cat_state|cat_party|num_turn|num_votes|\n",
            "+----------------+--------------------+---------+---------+--------+---------+\n",
            "|              28|JOSÉ LEVY FIDELIX...|       PR|     PRTB|       1|    33612|\n",
            "|              50| LUCIANA KREBS GENRO|       PR|     PSOL|       1|    79267|\n",
            "|              29|   RUI COSTA PIMENTA|       PR|      PCO|       1|      560|\n",
            "|              16|JOSÉ MARIA DE ALM...|       PR|     PSTU|       1|     4552|\n",
            "|              27|   JOSE MARIA EYMAEL|       PR|     PSDC|       1|     4828|\n",
            "|              43|EDUARDO JORGE MAR...|       PR|       PV|       1|    44755|\n",
            "|              40|MARIA OSMARINA MA...|       PR|      PSB|       1|   861820|\n",
            "|              21|     MAURO LUÍS IASI|       PR|      PCB|       1|     2409|\n",
            "|              45|AÉCIO NEVES DA CUNHA|       PR|     PSDB|       1|  3021988|\n",
            "|              20|EVERALDO DIAS PER...|       PR|      PSC|       1|    40656|\n",
            "|              13| DILMA VANA ROUSSEFF|       PR|       PT|       1|  1973421|\n",
            "+----------------+--------------------+---------+---------+--------+---------+\n",
            "\n"
          ],
          "name": "stdout"
        }
      ]
    },
    {
      "cell_type": "markdown",
      "metadata": {
        "id": "ox1Ia3oIIEpY"
      },
      "source": [
        "## Gráficos dos votos à Presidência, em 2014, no 1º turno nos estados do Sul do Brasil"
      ]
    },
    {
      "cell_type": "code",
      "metadata": {
        "colab": {
          "base_uri": "https://localhost:8080/",
          "height": 542
        },
        "id": "-qJoUlA8sgEw",
        "outputId": "583fd423-807e-447d-d8a6-af5b57d5c785"
      },
      "source": [
        "fig = px.pie(rs.toPandas(), values='num_votes', names='cat_candidate_name', title='RS')\n",
        "fig.show()"
      ],
      "execution_count": null,
      "outputs": [
        {
          "output_type": "display_data",
          "data": {
            "text/html": [
              "<html>\n",
              "<head><meta charset=\"utf-8\" /></head>\n",
              "<body>\n",
              "    <div>            <script src=\"https://cdnjs.cloudflare.com/ajax/libs/mathjax/2.7.5/MathJax.js?config=TeX-AMS-MML_SVG\"></script><script type=\"text/javascript\">if (window.MathJax) {MathJax.Hub.Config({SVG: {font: \"STIX-Web\"}});}</script>                <script type=\"text/javascript\">window.PlotlyConfig = {MathJaxConfig: 'local'};</script>\n",
              "        <script src=\"https://cdn.plot.ly/plotly-latest.min.js\"></script>                <div id=\"96a98983-2e3d-43a9-8669-3d1f5a1758b4\" class=\"plotly-graph-div\" style=\"height:525px; width:100%;\"></div>            <script type=\"text/javascript\">                                    window.PLOTLYENV=window.PLOTLYENV || {};                                    if (document.getElementById(\"96a98983-2e3d-43a9-8669-3d1f5a1758b4\")) {                    Plotly.newPlot(                        \"96a98983-2e3d-43a9-8669-3d1f5a1758b4\",                        [{\"domain\": {\"x\": [0.0, 1.0], \"y\": [0.0, 1.0]}, \"hovertemplate\": \"cat_candidate_name=%{label}<br>num_votes=%{value}<extra></extra>\", \"labels\": [\"JOS\\u00c9 LEVY FIDELIX DA CRUZ\", \"LUCIANA KREBS GENRO\", \"RUI COSTA PIMENTA\", \"JOS\\u00c9 MARIA DE ALMEIDA\", \"JOSE MARIA EYMAEL\", \"EDUARDO JORGE MARTINS ALVES SOBRINHO\", \"MARIA OSMARINA MARINA DA SILVA VAZ DE LIMA\", \"MAURO LU\\u00cdS IASI\", \"A\\u00c9CIO NEVES DA CUNHA\", \"EVERALDO DIAS PEREIRA\", \"DILMA VANA ROUSSEFF\"], \"legendgroup\": \"\", \"name\": \"\", \"showlegend\": true, \"type\": \"pie\", \"values\": [\"17954\", \"143370\", \"505\", \"4083\", \"2255\", \"43703\", \"732828\", \"2301\", \"2639647\", \"33053\", \"2752075\"]}],                        {\"legend\": {\"tracegroupgap\": 0}, \"template\": {\"data\": {\"bar\": [{\"error_x\": {\"color\": \"#2a3f5f\"}, \"error_y\": {\"color\": \"#2a3f5f\"}, \"marker\": {\"line\": {\"color\": \"#E5ECF6\", \"width\": 0.5}}, \"type\": \"bar\"}], \"barpolar\": [{\"marker\": {\"line\": {\"color\": \"#E5ECF6\", \"width\": 0.5}}, \"type\": \"barpolar\"}], \"carpet\": [{\"aaxis\": {\"endlinecolor\": \"#2a3f5f\", \"gridcolor\": \"white\", \"linecolor\": \"white\", \"minorgridcolor\": \"white\", \"startlinecolor\": \"#2a3f5f\"}, \"baxis\": {\"endlinecolor\": \"#2a3f5f\", \"gridcolor\": \"white\", \"linecolor\": \"white\", \"minorgridcolor\": \"white\", \"startlinecolor\": \"#2a3f5f\"}, \"type\": \"carpet\"}], \"choropleth\": [{\"colorbar\": {\"outlinewidth\": 0, \"ticks\": \"\"}, \"type\": \"choropleth\"}], \"contour\": [{\"colorbar\": {\"outlinewidth\": 0, \"ticks\": \"\"}, \"colorscale\": [[0.0, \"#0d0887\"], [0.1111111111111111, \"#46039f\"], [0.2222222222222222, \"#7201a8\"], [0.3333333333333333, \"#9c179e\"], [0.4444444444444444, \"#bd3786\"], [0.5555555555555556, \"#d8576b\"], [0.6666666666666666, \"#ed7953\"], [0.7777777777777778, \"#fb9f3a\"], [0.8888888888888888, \"#fdca26\"], [1.0, \"#f0f921\"]], \"type\": \"contour\"}], \"contourcarpet\": [{\"colorbar\": {\"outlinewidth\": 0, \"ticks\": \"\"}, \"type\": \"contourcarpet\"}], \"heatmap\": [{\"colorbar\": {\"outlinewidth\": 0, \"ticks\": \"\"}, \"colorscale\": [[0.0, \"#0d0887\"], [0.1111111111111111, \"#46039f\"], [0.2222222222222222, \"#7201a8\"], [0.3333333333333333, \"#9c179e\"], [0.4444444444444444, \"#bd3786\"], [0.5555555555555556, \"#d8576b\"], [0.6666666666666666, \"#ed7953\"], [0.7777777777777778, \"#fb9f3a\"], [0.8888888888888888, \"#fdca26\"], [1.0, \"#f0f921\"]], \"type\": \"heatmap\"}], \"heatmapgl\": [{\"colorbar\": {\"outlinewidth\": 0, \"ticks\": \"\"}, \"colorscale\": [[0.0, \"#0d0887\"], [0.1111111111111111, \"#46039f\"], [0.2222222222222222, \"#7201a8\"], [0.3333333333333333, \"#9c179e\"], [0.4444444444444444, \"#bd3786\"], [0.5555555555555556, \"#d8576b\"], [0.6666666666666666, \"#ed7953\"], [0.7777777777777778, \"#fb9f3a\"], [0.8888888888888888, \"#fdca26\"], [1.0, \"#f0f921\"]], \"type\": \"heatmapgl\"}], \"histogram\": [{\"marker\": {\"colorbar\": {\"outlinewidth\": 0, \"ticks\": \"\"}}, \"type\": \"histogram\"}], \"histogram2d\": [{\"colorbar\": {\"outlinewidth\": 0, \"ticks\": \"\"}, \"colorscale\": [[0.0, \"#0d0887\"], [0.1111111111111111, \"#46039f\"], [0.2222222222222222, \"#7201a8\"], [0.3333333333333333, \"#9c179e\"], [0.4444444444444444, \"#bd3786\"], [0.5555555555555556, \"#d8576b\"], [0.6666666666666666, \"#ed7953\"], [0.7777777777777778, \"#fb9f3a\"], [0.8888888888888888, \"#fdca26\"], [1.0, \"#f0f921\"]], \"type\": \"histogram2d\"}], \"histogram2dcontour\": [{\"colorbar\": {\"outlinewidth\": 0, \"ticks\": \"\"}, \"colorscale\": [[0.0, \"#0d0887\"], [0.1111111111111111, \"#46039f\"], [0.2222222222222222, \"#7201a8\"], [0.3333333333333333, \"#9c179e\"], [0.4444444444444444, \"#bd3786\"], [0.5555555555555556, \"#d8576b\"], [0.6666666666666666, \"#ed7953\"], [0.7777777777777778, \"#fb9f3a\"], [0.8888888888888888, \"#fdca26\"], [1.0, \"#f0f921\"]], \"type\": \"histogram2dcontour\"}], \"mesh3d\": [{\"colorbar\": {\"outlinewidth\": 0, \"ticks\": \"\"}, \"type\": \"mesh3d\"}], \"parcoords\": [{\"line\": {\"colorbar\": {\"outlinewidth\": 0, \"ticks\": \"\"}}, \"type\": \"parcoords\"}], \"pie\": [{\"automargin\": true, \"type\": \"pie\"}], \"scatter\": [{\"marker\": {\"colorbar\": {\"outlinewidth\": 0, \"ticks\": \"\"}}, \"type\": \"scatter\"}], \"scatter3d\": [{\"line\": {\"colorbar\": {\"outlinewidth\": 0, \"ticks\": \"\"}}, \"marker\": {\"colorbar\": {\"outlinewidth\": 0, \"ticks\": \"\"}}, \"type\": \"scatter3d\"}], \"scattercarpet\": [{\"marker\": {\"colorbar\": {\"outlinewidth\": 0, \"ticks\": \"\"}}, \"type\": \"scattercarpet\"}], \"scattergeo\": [{\"marker\": {\"colorbar\": {\"outlinewidth\": 0, \"ticks\": \"\"}}, \"type\": \"scattergeo\"}], \"scattergl\": [{\"marker\": {\"colorbar\": {\"outlinewidth\": 0, \"ticks\": \"\"}}, \"type\": \"scattergl\"}], \"scattermapbox\": [{\"marker\": {\"colorbar\": {\"outlinewidth\": 0, \"ticks\": \"\"}}, \"type\": \"scattermapbox\"}], \"scatterpolar\": [{\"marker\": {\"colorbar\": {\"outlinewidth\": 0, \"ticks\": \"\"}}, \"type\": \"scatterpolar\"}], \"scatterpolargl\": [{\"marker\": {\"colorbar\": {\"outlinewidth\": 0, \"ticks\": \"\"}}, \"type\": \"scatterpolargl\"}], \"scatterternary\": [{\"marker\": {\"colorbar\": {\"outlinewidth\": 0, \"ticks\": \"\"}}, \"type\": \"scatterternary\"}], \"surface\": [{\"colorbar\": {\"outlinewidth\": 0, \"ticks\": \"\"}, \"colorscale\": [[0.0, \"#0d0887\"], [0.1111111111111111, \"#46039f\"], [0.2222222222222222, \"#7201a8\"], [0.3333333333333333, \"#9c179e\"], [0.4444444444444444, \"#bd3786\"], [0.5555555555555556, \"#d8576b\"], [0.6666666666666666, \"#ed7953\"], [0.7777777777777778, \"#fb9f3a\"], [0.8888888888888888, \"#fdca26\"], [1.0, \"#f0f921\"]], \"type\": \"surface\"}], \"table\": [{\"cells\": {\"fill\": {\"color\": \"#EBF0F8\"}, \"line\": {\"color\": \"white\"}}, \"header\": {\"fill\": {\"color\": \"#C8D4E3\"}, \"line\": {\"color\": \"white\"}}, \"type\": \"table\"}]}, \"layout\": {\"annotationdefaults\": {\"arrowcolor\": \"#2a3f5f\", \"arrowhead\": 0, \"arrowwidth\": 1}, \"autotypenumbers\": \"strict\", \"coloraxis\": {\"colorbar\": {\"outlinewidth\": 0, \"ticks\": \"\"}}, \"colorscale\": {\"diverging\": [[0, \"#8e0152\"], [0.1, \"#c51b7d\"], [0.2, \"#de77ae\"], [0.3, \"#f1b6da\"], [0.4, \"#fde0ef\"], [0.5, \"#f7f7f7\"], [0.6, \"#e6f5d0\"], [0.7, \"#b8e186\"], [0.8, \"#7fbc41\"], [0.9, \"#4d9221\"], [1, \"#276419\"]], \"sequential\": [[0.0, \"#0d0887\"], [0.1111111111111111, \"#46039f\"], [0.2222222222222222, \"#7201a8\"], [0.3333333333333333, \"#9c179e\"], [0.4444444444444444, \"#bd3786\"], [0.5555555555555556, \"#d8576b\"], [0.6666666666666666, \"#ed7953\"], [0.7777777777777778, \"#fb9f3a\"], [0.8888888888888888, \"#fdca26\"], [1.0, \"#f0f921\"]], \"sequentialminus\": [[0.0, \"#0d0887\"], [0.1111111111111111, \"#46039f\"], [0.2222222222222222, \"#7201a8\"], [0.3333333333333333, \"#9c179e\"], [0.4444444444444444, \"#bd3786\"], [0.5555555555555556, \"#d8576b\"], [0.6666666666666666, \"#ed7953\"], [0.7777777777777778, \"#fb9f3a\"], [0.8888888888888888, \"#fdca26\"], [1.0, \"#f0f921\"]]}, \"colorway\": [\"#636efa\", \"#EF553B\", \"#00cc96\", \"#ab63fa\", \"#FFA15A\", \"#19d3f3\", \"#FF6692\", \"#B6E880\", \"#FF97FF\", \"#FECB52\"], \"font\": {\"color\": \"#2a3f5f\"}, \"geo\": {\"bgcolor\": \"white\", \"lakecolor\": \"white\", \"landcolor\": \"#E5ECF6\", \"showlakes\": true, \"showland\": true, \"subunitcolor\": \"white\"}, \"hoverlabel\": {\"align\": \"left\"}, \"hovermode\": \"closest\", \"mapbox\": {\"style\": \"light\"}, \"paper_bgcolor\": \"white\", \"plot_bgcolor\": \"#E5ECF6\", \"polar\": {\"angularaxis\": {\"gridcolor\": \"white\", \"linecolor\": \"white\", \"ticks\": \"\"}, \"bgcolor\": \"#E5ECF6\", \"radialaxis\": {\"gridcolor\": \"white\", \"linecolor\": \"white\", \"ticks\": \"\"}}, \"scene\": {\"xaxis\": {\"backgroundcolor\": \"#E5ECF6\", \"gridcolor\": \"white\", \"gridwidth\": 2, \"linecolor\": \"white\", \"showbackground\": true, \"ticks\": \"\", \"zerolinecolor\": \"white\"}, \"yaxis\": {\"backgroundcolor\": \"#E5ECF6\", \"gridcolor\": \"white\", \"gridwidth\": 2, \"linecolor\": \"white\", \"showbackground\": true, \"ticks\": \"\", \"zerolinecolor\": \"white\"}, \"zaxis\": {\"backgroundcolor\": \"#E5ECF6\", \"gridcolor\": \"white\", \"gridwidth\": 2, \"linecolor\": \"white\", \"showbackground\": true, \"ticks\": \"\", \"zerolinecolor\": \"white\"}}, \"shapedefaults\": {\"line\": {\"color\": \"#2a3f5f\"}}, \"ternary\": {\"aaxis\": {\"gridcolor\": \"white\", \"linecolor\": \"white\", \"ticks\": \"\"}, \"baxis\": {\"gridcolor\": \"white\", \"linecolor\": \"white\", \"ticks\": \"\"}, \"bgcolor\": \"#E5ECF6\", \"caxis\": {\"gridcolor\": \"white\", \"linecolor\": \"white\", \"ticks\": \"\"}}, \"title\": {\"x\": 0.05}, \"xaxis\": {\"automargin\": true, \"gridcolor\": \"white\", \"linecolor\": \"white\", \"ticks\": \"\", \"title\": {\"standoff\": 15}, \"zerolinecolor\": \"white\", \"zerolinewidth\": 2}, \"yaxis\": {\"automargin\": true, \"gridcolor\": \"white\", \"linecolor\": \"white\", \"ticks\": \"\", \"title\": {\"standoff\": 15}, \"zerolinecolor\": \"white\", \"zerolinewidth\": 2}}}, \"title\": {\"text\": \"RS\"}},                        {\"responsive\": true}                    ).then(function(){\n",
              "                            \n",
              "var gd = document.getElementById('96a98983-2e3d-43a9-8669-3d1f5a1758b4');\n",
              "var x = new MutationObserver(function (mutations, observer) {{\n",
              "        var display = window.getComputedStyle(gd).display;\n",
              "        if (!display || display === 'none') {{\n",
              "            console.log([gd, 'removed!']);\n",
              "            Plotly.purge(gd);\n",
              "            observer.disconnect();\n",
              "        }}\n",
              "}});\n",
              "\n",
              "// Listen for the removal of the full notebook cells\n",
              "var notebookContainer = gd.closest('#notebook-container');\n",
              "if (notebookContainer) {{\n",
              "    x.observe(notebookContainer, {childList: true});\n",
              "}}\n",
              "\n",
              "// Listen for the clearing of the current output cell\n",
              "var outputEl = gd.closest('.output');\n",
              "if (outputEl) {{\n",
              "    x.observe(outputEl, {childList: true});\n",
              "}}\n",
              "\n",
              "                        })                };                            </script>        </div>\n",
              "</body>\n",
              "</html>"
            ]
          },
          "metadata": {
            "tags": []
          }
        }
      ]
    },
    {
      "cell_type": "code",
      "metadata": {
        "colab": {
          "base_uri": "https://localhost:8080/",
          "height": 542
        },
        "id": "AO5z8JrKFHKG",
        "outputId": "dd850220-3111-4752-b433-a8e99a207a90"
      },
      "source": [
        "fig = px.pie(sc.toPandas(), values='num_votes', names='cat_candidate_name', title='SC')\n",
        "fig.show()"
      ],
      "execution_count": null,
      "outputs": [
        {
          "output_type": "display_data",
          "data": {
            "text/html": [
              "<html>\n",
              "<head><meta charset=\"utf-8\" /></head>\n",
              "<body>\n",
              "    <div>            <script src=\"https://cdnjs.cloudflare.com/ajax/libs/mathjax/2.7.5/MathJax.js?config=TeX-AMS-MML_SVG\"></script><script type=\"text/javascript\">if (window.MathJax) {MathJax.Hub.Config({SVG: {font: \"STIX-Web\"}});}</script>                <script type=\"text/javascript\">window.PlotlyConfig = {MathJaxConfig: 'local'};</script>\n",
              "        <script src=\"https://cdn.plot.ly/plotly-latest.min.js\"></script>                <div id=\"9275e5c2-3ef4-4d2b-a544-be6a19c38981\" class=\"plotly-graph-div\" style=\"height:525px; width:100%;\"></div>            <script type=\"text/javascript\">                                    window.PLOTLYENV=window.PLOTLYENV || {};                                    if (document.getElementById(\"9275e5c2-3ef4-4d2b-a544-be6a19c38981\")) {                    Plotly.newPlot(                        \"9275e5c2-3ef4-4d2b-a544-be6a19c38981\",                        [{\"domain\": {\"x\": [0.0, 1.0], \"y\": [0.0, 1.0]}, \"hovertemplate\": \"cat_candidate_name=%{label}<br>num_votes=%{value}<extra></extra>\", \"labels\": [\"JOS\\u00c9 LEVY FIDELIX DA CRUZ\", \"LUCIANA KREBS GENRO\", \"RUI COSTA PIMENTA\", \"JOS\\u00c9 MARIA DE ALMEIDA\", \"JOSE MARIA EYMAEL\", \"EDUARDO JORGE MARTINS ALVES SOBRINHO\", \"MARIA OSMARINA MARINA DA SILVA VAZ DE LIMA\", \"MAURO LU\\u00cdS IASI\", \"A\\u00c9CIO NEVES DA CUNHA\", \"EVERALDO DIAS PEREIRA\", \"DILMA VANA ROUSSEFF\"], \"legendgroup\": \"\", \"name\": \"\", \"showlegend\": true, \"type\": \"pie\", \"values\": [\"15774\", \"53532\", \"390\", \"3975\", \"2005\", \"30239\", \"476430\", \"1413\", \"1963772\", \"23661\", \"1141102\"]}],                        {\"legend\": {\"tracegroupgap\": 0}, \"template\": {\"data\": {\"bar\": [{\"error_x\": {\"color\": \"#2a3f5f\"}, \"error_y\": {\"color\": \"#2a3f5f\"}, \"marker\": {\"line\": {\"color\": \"#E5ECF6\", \"width\": 0.5}}, \"type\": \"bar\"}], \"barpolar\": [{\"marker\": {\"line\": {\"color\": \"#E5ECF6\", \"width\": 0.5}}, \"type\": \"barpolar\"}], \"carpet\": [{\"aaxis\": {\"endlinecolor\": \"#2a3f5f\", \"gridcolor\": \"white\", \"linecolor\": \"white\", \"minorgridcolor\": \"white\", \"startlinecolor\": \"#2a3f5f\"}, \"baxis\": {\"endlinecolor\": \"#2a3f5f\", \"gridcolor\": \"white\", \"linecolor\": \"white\", \"minorgridcolor\": \"white\", \"startlinecolor\": \"#2a3f5f\"}, \"type\": \"carpet\"}], \"choropleth\": [{\"colorbar\": {\"outlinewidth\": 0, \"ticks\": \"\"}, \"type\": \"choropleth\"}], \"contour\": [{\"colorbar\": {\"outlinewidth\": 0, \"ticks\": \"\"}, \"colorscale\": [[0.0, \"#0d0887\"], [0.1111111111111111, \"#46039f\"], [0.2222222222222222, \"#7201a8\"], [0.3333333333333333, \"#9c179e\"], [0.4444444444444444, \"#bd3786\"], [0.5555555555555556, \"#d8576b\"], [0.6666666666666666, \"#ed7953\"], [0.7777777777777778, \"#fb9f3a\"], [0.8888888888888888, \"#fdca26\"], [1.0, \"#f0f921\"]], \"type\": \"contour\"}], \"contourcarpet\": [{\"colorbar\": {\"outlinewidth\": 0, \"ticks\": \"\"}, \"type\": \"contourcarpet\"}], \"heatmap\": [{\"colorbar\": {\"outlinewidth\": 0, \"ticks\": \"\"}, \"colorscale\": [[0.0, \"#0d0887\"], [0.1111111111111111, \"#46039f\"], [0.2222222222222222, \"#7201a8\"], [0.3333333333333333, \"#9c179e\"], [0.4444444444444444, \"#bd3786\"], [0.5555555555555556, \"#d8576b\"], [0.6666666666666666, \"#ed7953\"], [0.7777777777777778, \"#fb9f3a\"], [0.8888888888888888, \"#fdca26\"], [1.0, \"#f0f921\"]], \"type\": \"heatmap\"}], \"heatmapgl\": [{\"colorbar\": {\"outlinewidth\": 0, \"ticks\": \"\"}, \"colorscale\": [[0.0, \"#0d0887\"], [0.1111111111111111, \"#46039f\"], [0.2222222222222222, \"#7201a8\"], [0.3333333333333333, \"#9c179e\"], [0.4444444444444444, \"#bd3786\"], [0.5555555555555556, \"#d8576b\"], [0.6666666666666666, \"#ed7953\"], [0.7777777777777778, \"#fb9f3a\"], [0.8888888888888888, \"#fdca26\"], [1.0, \"#f0f921\"]], \"type\": \"heatmapgl\"}], \"histogram\": [{\"marker\": {\"colorbar\": {\"outlinewidth\": 0, \"ticks\": \"\"}}, \"type\": \"histogram\"}], \"histogram2d\": [{\"colorbar\": {\"outlinewidth\": 0, \"ticks\": \"\"}, \"colorscale\": [[0.0, \"#0d0887\"], [0.1111111111111111, \"#46039f\"], [0.2222222222222222, \"#7201a8\"], [0.3333333333333333, \"#9c179e\"], [0.4444444444444444, \"#bd3786\"], [0.5555555555555556, \"#d8576b\"], [0.6666666666666666, \"#ed7953\"], [0.7777777777777778, \"#fb9f3a\"], [0.8888888888888888, \"#fdca26\"], [1.0, \"#f0f921\"]], \"type\": \"histogram2d\"}], \"histogram2dcontour\": [{\"colorbar\": {\"outlinewidth\": 0, \"ticks\": \"\"}, \"colorscale\": [[0.0, \"#0d0887\"], [0.1111111111111111, \"#46039f\"], [0.2222222222222222, \"#7201a8\"], [0.3333333333333333, \"#9c179e\"], [0.4444444444444444, \"#bd3786\"], [0.5555555555555556, \"#d8576b\"], [0.6666666666666666, \"#ed7953\"], [0.7777777777777778, \"#fb9f3a\"], [0.8888888888888888, \"#fdca26\"], [1.0, \"#f0f921\"]], \"type\": \"histogram2dcontour\"}], \"mesh3d\": [{\"colorbar\": {\"outlinewidth\": 0, \"ticks\": \"\"}, \"type\": \"mesh3d\"}], \"parcoords\": [{\"line\": {\"colorbar\": {\"outlinewidth\": 0, \"ticks\": \"\"}}, \"type\": \"parcoords\"}], \"pie\": [{\"automargin\": true, \"type\": \"pie\"}], \"scatter\": [{\"marker\": {\"colorbar\": {\"outlinewidth\": 0, \"ticks\": \"\"}}, \"type\": \"scatter\"}], \"scatter3d\": [{\"line\": {\"colorbar\": {\"outlinewidth\": 0, \"ticks\": \"\"}}, \"marker\": {\"colorbar\": {\"outlinewidth\": 0, \"ticks\": \"\"}}, \"type\": \"scatter3d\"}], \"scattercarpet\": [{\"marker\": {\"colorbar\": {\"outlinewidth\": 0, \"ticks\": \"\"}}, \"type\": \"scattercarpet\"}], \"scattergeo\": [{\"marker\": {\"colorbar\": {\"outlinewidth\": 0, \"ticks\": \"\"}}, \"type\": \"scattergeo\"}], \"scattergl\": [{\"marker\": {\"colorbar\": {\"outlinewidth\": 0, \"ticks\": \"\"}}, \"type\": \"scattergl\"}], \"scattermapbox\": [{\"marker\": {\"colorbar\": {\"outlinewidth\": 0, \"ticks\": \"\"}}, \"type\": \"scattermapbox\"}], \"scatterpolar\": [{\"marker\": {\"colorbar\": {\"outlinewidth\": 0, \"ticks\": \"\"}}, \"type\": \"scatterpolar\"}], \"scatterpolargl\": [{\"marker\": {\"colorbar\": {\"outlinewidth\": 0, \"ticks\": \"\"}}, \"type\": \"scatterpolargl\"}], \"scatterternary\": [{\"marker\": {\"colorbar\": {\"outlinewidth\": 0, \"ticks\": \"\"}}, \"type\": \"scatterternary\"}], \"surface\": [{\"colorbar\": {\"outlinewidth\": 0, \"ticks\": \"\"}, \"colorscale\": [[0.0, \"#0d0887\"], [0.1111111111111111, \"#46039f\"], [0.2222222222222222, \"#7201a8\"], [0.3333333333333333, \"#9c179e\"], [0.4444444444444444, \"#bd3786\"], [0.5555555555555556, \"#d8576b\"], [0.6666666666666666, \"#ed7953\"], [0.7777777777777778, \"#fb9f3a\"], [0.8888888888888888, \"#fdca26\"], [1.0, \"#f0f921\"]], \"type\": \"surface\"}], \"table\": [{\"cells\": {\"fill\": {\"color\": \"#EBF0F8\"}, \"line\": {\"color\": \"white\"}}, \"header\": {\"fill\": {\"color\": \"#C8D4E3\"}, \"line\": {\"color\": \"white\"}}, \"type\": \"table\"}]}, \"layout\": {\"annotationdefaults\": {\"arrowcolor\": \"#2a3f5f\", \"arrowhead\": 0, \"arrowwidth\": 1}, \"autotypenumbers\": \"strict\", \"coloraxis\": {\"colorbar\": {\"outlinewidth\": 0, \"ticks\": \"\"}}, \"colorscale\": {\"diverging\": [[0, \"#8e0152\"], [0.1, \"#c51b7d\"], [0.2, \"#de77ae\"], [0.3, \"#f1b6da\"], [0.4, \"#fde0ef\"], [0.5, \"#f7f7f7\"], [0.6, \"#e6f5d0\"], [0.7, \"#b8e186\"], [0.8, \"#7fbc41\"], [0.9, \"#4d9221\"], [1, \"#276419\"]], \"sequential\": [[0.0, \"#0d0887\"], [0.1111111111111111, \"#46039f\"], [0.2222222222222222, \"#7201a8\"], [0.3333333333333333, \"#9c179e\"], [0.4444444444444444, \"#bd3786\"], [0.5555555555555556, \"#d8576b\"], [0.6666666666666666, \"#ed7953\"], [0.7777777777777778, \"#fb9f3a\"], [0.8888888888888888, \"#fdca26\"], [1.0, \"#f0f921\"]], \"sequentialminus\": [[0.0, \"#0d0887\"], [0.1111111111111111, \"#46039f\"], [0.2222222222222222, \"#7201a8\"], [0.3333333333333333, \"#9c179e\"], [0.4444444444444444, \"#bd3786\"], [0.5555555555555556, \"#d8576b\"], [0.6666666666666666, \"#ed7953\"], [0.7777777777777778, \"#fb9f3a\"], [0.8888888888888888, \"#fdca26\"], [1.0, \"#f0f921\"]]}, \"colorway\": [\"#636efa\", \"#EF553B\", \"#00cc96\", \"#ab63fa\", \"#FFA15A\", \"#19d3f3\", \"#FF6692\", \"#B6E880\", \"#FF97FF\", \"#FECB52\"], \"font\": {\"color\": \"#2a3f5f\"}, \"geo\": {\"bgcolor\": \"white\", \"lakecolor\": \"white\", \"landcolor\": \"#E5ECF6\", \"showlakes\": true, \"showland\": true, \"subunitcolor\": \"white\"}, \"hoverlabel\": {\"align\": \"left\"}, \"hovermode\": \"closest\", \"mapbox\": {\"style\": \"light\"}, \"paper_bgcolor\": \"white\", \"plot_bgcolor\": \"#E5ECF6\", \"polar\": {\"angularaxis\": {\"gridcolor\": \"white\", \"linecolor\": \"white\", \"ticks\": \"\"}, \"bgcolor\": \"#E5ECF6\", \"radialaxis\": {\"gridcolor\": \"white\", \"linecolor\": \"white\", \"ticks\": \"\"}}, \"scene\": {\"xaxis\": {\"backgroundcolor\": \"#E5ECF6\", \"gridcolor\": \"white\", \"gridwidth\": 2, \"linecolor\": \"white\", \"showbackground\": true, \"ticks\": \"\", \"zerolinecolor\": \"white\"}, \"yaxis\": {\"backgroundcolor\": \"#E5ECF6\", \"gridcolor\": \"white\", \"gridwidth\": 2, \"linecolor\": \"white\", \"showbackground\": true, \"ticks\": \"\", \"zerolinecolor\": \"white\"}, \"zaxis\": {\"backgroundcolor\": \"#E5ECF6\", \"gridcolor\": \"white\", \"gridwidth\": 2, \"linecolor\": \"white\", \"showbackground\": true, \"ticks\": \"\", \"zerolinecolor\": \"white\"}}, \"shapedefaults\": {\"line\": {\"color\": \"#2a3f5f\"}}, \"ternary\": {\"aaxis\": {\"gridcolor\": \"white\", \"linecolor\": \"white\", \"ticks\": \"\"}, \"baxis\": {\"gridcolor\": \"white\", \"linecolor\": \"white\", \"ticks\": \"\"}, \"bgcolor\": \"#E5ECF6\", \"caxis\": {\"gridcolor\": \"white\", \"linecolor\": \"white\", \"ticks\": \"\"}}, \"title\": {\"x\": 0.05}, \"xaxis\": {\"automargin\": true, \"gridcolor\": \"white\", \"linecolor\": \"white\", \"ticks\": \"\", \"title\": {\"standoff\": 15}, \"zerolinecolor\": \"white\", \"zerolinewidth\": 2}, \"yaxis\": {\"automargin\": true, \"gridcolor\": \"white\", \"linecolor\": \"white\", \"ticks\": \"\", \"title\": {\"standoff\": 15}, \"zerolinecolor\": \"white\", \"zerolinewidth\": 2}}}, \"title\": {\"text\": \"SC\"}},                        {\"responsive\": true}                    ).then(function(){\n",
              "                            \n",
              "var gd = document.getElementById('9275e5c2-3ef4-4d2b-a544-be6a19c38981');\n",
              "var x = new MutationObserver(function (mutations, observer) {{\n",
              "        var display = window.getComputedStyle(gd).display;\n",
              "        if (!display || display === 'none') {{\n",
              "            console.log([gd, 'removed!']);\n",
              "            Plotly.purge(gd);\n",
              "            observer.disconnect();\n",
              "        }}\n",
              "}});\n",
              "\n",
              "// Listen for the removal of the full notebook cells\n",
              "var notebookContainer = gd.closest('#notebook-container');\n",
              "if (notebookContainer) {{\n",
              "    x.observe(notebookContainer, {childList: true});\n",
              "}}\n",
              "\n",
              "// Listen for the clearing of the current output cell\n",
              "var outputEl = gd.closest('.output');\n",
              "if (outputEl) {{\n",
              "    x.observe(outputEl, {childList: true});\n",
              "}}\n",
              "\n",
              "                        })                };                            </script>        </div>\n",
              "</body>\n",
              "</html>"
            ]
          },
          "metadata": {
            "tags": []
          }
        }
      ]
    },
    {
      "cell_type": "code",
      "metadata": {
        "colab": {
          "base_uri": "https://localhost:8080/",
          "height": 542
        },
        "id": "hMuIvjwaFHzD",
        "outputId": "0d5c13a9-42fb-44ab-ef6c-7b59caddf07e"
      },
      "source": [
        "fig = px.pie(pr.toPandas(), values='num_votes', names='cat_candidate_name', title='PR')\n",
        "fig.show()"
      ],
      "execution_count": null,
      "outputs": [
        {
          "output_type": "display_data",
          "data": {
            "text/html": [
              "<html>\n",
              "<head><meta charset=\"utf-8\" /></head>\n",
              "<body>\n",
              "    <div>            <script src=\"https://cdnjs.cloudflare.com/ajax/libs/mathjax/2.7.5/MathJax.js?config=TeX-AMS-MML_SVG\"></script><script type=\"text/javascript\">if (window.MathJax) {MathJax.Hub.Config({SVG: {font: \"STIX-Web\"}});}</script>                <script type=\"text/javascript\">window.PlotlyConfig = {MathJaxConfig: 'local'};</script>\n",
              "        <script src=\"https://cdn.plot.ly/plotly-latest.min.js\"></script>                <div id=\"a1397790-23c5-4568-9bf3-d38439ae29c4\" class=\"plotly-graph-div\" style=\"height:525px; width:100%;\"></div>            <script type=\"text/javascript\">                                    window.PLOTLYENV=window.PLOTLYENV || {};                                    if (document.getElementById(\"a1397790-23c5-4568-9bf3-d38439ae29c4\")) {                    Plotly.newPlot(                        \"a1397790-23c5-4568-9bf3-d38439ae29c4\",                        [{\"domain\": {\"x\": [0.0, 1.0], \"y\": [0.0, 1.0]}, \"hovertemplate\": \"cat_candidate_name=%{label}<br>num_votes=%{value}<extra></extra>\", \"labels\": [\"JOS\\u00c9 LEVY FIDELIX DA CRUZ\", \"LUCIANA KREBS GENRO\", \"RUI COSTA PIMENTA\", \"JOS\\u00c9 MARIA DE ALMEIDA\", \"JOSE MARIA EYMAEL\", \"EDUARDO JORGE MARTINS ALVES SOBRINHO\", \"MARIA OSMARINA MARINA DA SILVA VAZ DE LIMA\", \"MAURO LU\\u00cdS IASI\", \"A\\u00c9CIO NEVES DA CUNHA\", \"EVERALDO DIAS PEREIRA\", \"DILMA VANA ROUSSEFF\"], \"legendgroup\": \"\", \"name\": \"\", \"showlegend\": true, \"type\": \"pie\", \"values\": [\"33612\", \"79267\", \"560\", \"4552\", \"4828\", \"44755\", \"861820\", \"2409\", \"3021988\", \"40656\", \"1973421\"]}],                        {\"legend\": {\"tracegroupgap\": 0}, \"template\": {\"data\": {\"bar\": [{\"error_x\": {\"color\": \"#2a3f5f\"}, \"error_y\": {\"color\": \"#2a3f5f\"}, \"marker\": {\"line\": {\"color\": \"#E5ECF6\", \"width\": 0.5}}, \"type\": \"bar\"}], \"barpolar\": [{\"marker\": {\"line\": {\"color\": \"#E5ECF6\", \"width\": 0.5}}, \"type\": \"barpolar\"}], \"carpet\": [{\"aaxis\": {\"endlinecolor\": \"#2a3f5f\", \"gridcolor\": \"white\", \"linecolor\": \"white\", \"minorgridcolor\": \"white\", \"startlinecolor\": \"#2a3f5f\"}, \"baxis\": {\"endlinecolor\": \"#2a3f5f\", \"gridcolor\": \"white\", \"linecolor\": \"white\", \"minorgridcolor\": \"white\", \"startlinecolor\": \"#2a3f5f\"}, \"type\": \"carpet\"}], \"choropleth\": [{\"colorbar\": {\"outlinewidth\": 0, \"ticks\": \"\"}, \"type\": \"choropleth\"}], \"contour\": [{\"colorbar\": {\"outlinewidth\": 0, \"ticks\": \"\"}, \"colorscale\": [[0.0, \"#0d0887\"], [0.1111111111111111, \"#46039f\"], [0.2222222222222222, \"#7201a8\"], [0.3333333333333333, \"#9c179e\"], [0.4444444444444444, \"#bd3786\"], [0.5555555555555556, \"#d8576b\"], [0.6666666666666666, \"#ed7953\"], [0.7777777777777778, \"#fb9f3a\"], [0.8888888888888888, \"#fdca26\"], [1.0, \"#f0f921\"]], \"type\": \"contour\"}], \"contourcarpet\": [{\"colorbar\": {\"outlinewidth\": 0, \"ticks\": \"\"}, \"type\": \"contourcarpet\"}], \"heatmap\": [{\"colorbar\": {\"outlinewidth\": 0, \"ticks\": \"\"}, \"colorscale\": [[0.0, \"#0d0887\"], [0.1111111111111111, \"#46039f\"], [0.2222222222222222, \"#7201a8\"], [0.3333333333333333, \"#9c179e\"], [0.4444444444444444, \"#bd3786\"], [0.5555555555555556, \"#d8576b\"], [0.6666666666666666, \"#ed7953\"], [0.7777777777777778, \"#fb9f3a\"], [0.8888888888888888, \"#fdca26\"], [1.0, \"#f0f921\"]], \"type\": \"heatmap\"}], \"heatmapgl\": [{\"colorbar\": {\"outlinewidth\": 0, \"ticks\": \"\"}, \"colorscale\": [[0.0, \"#0d0887\"], [0.1111111111111111, \"#46039f\"], [0.2222222222222222, \"#7201a8\"], [0.3333333333333333, \"#9c179e\"], [0.4444444444444444, \"#bd3786\"], [0.5555555555555556, \"#d8576b\"], [0.6666666666666666, \"#ed7953\"], [0.7777777777777778, \"#fb9f3a\"], [0.8888888888888888, \"#fdca26\"], [1.0, \"#f0f921\"]], \"type\": \"heatmapgl\"}], \"histogram\": [{\"marker\": {\"colorbar\": {\"outlinewidth\": 0, \"ticks\": \"\"}}, \"type\": \"histogram\"}], \"histogram2d\": [{\"colorbar\": {\"outlinewidth\": 0, \"ticks\": \"\"}, \"colorscale\": [[0.0, \"#0d0887\"], [0.1111111111111111, \"#46039f\"], [0.2222222222222222, \"#7201a8\"], [0.3333333333333333, \"#9c179e\"], [0.4444444444444444, \"#bd3786\"], [0.5555555555555556, \"#d8576b\"], [0.6666666666666666, \"#ed7953\"], [0.7777777777777778, \"#fb9f3a\"], [0.8888888888888888, \"#fdca26\"], [1.0, \"#f0f921\"]], \"type\": \"histogram2d\"}], \"histogram2dcontour\": [{\"colorbar\": {\"outlinewidth\": 0, \"ticks\": \"\"}, \"colorscale\": [[0.0, \"#0d0887\"], [0.1111111111111111, \"#46039f\"], [0.2222222222222222, \"#7201a8\"], [0.3333333333333333, \"#9c179e\"], [0.4444444444444444, \"#bd3786\"], [0.5555555555555556, \"#d8576b\"], [0.6666666666666666, \"#ed7953\"], [0.7777777777777778, \"#fb9f3a\"], [0.8888888888888888, \"#fdca26\"], [1.0, \"#f0f921\"]], \"type\": \"histogram2dcontour\"}], \"mesh3d\": [{\"colorbar\": {\"outlinewidth\": 0, \"ticks\": \"\"}, \"type\": \"mesh3d\"}], \"parcoords\": [{\"line\": {\"colorbar\": {\"outlinewidth\": 0, \"ticks\": \"\"}}, \"type\": \"parcoords\"}], \"pie\": [{\"automargin\": true, \"type\": \"pie\"}], \"scatter\": [{\"marker\": {\"colorbar\": {\"outlinewidth\": 0, \"ticks\": \"\"}}, \"type\": \"scatter\"}], \"scatter3d\": [{\"line\": {\"colorbar\": {\"outlinewidth\": 0, \"ticks\": \"\"}}, \"marker\": {\"colorbar\": {\"outlinewidth\": 0, \"ticks\": \"\"}}, \"type\": \"scatter3d\"}], \"scattercarpet\": [{\"marker\": {\"colorbar\": {\"outlinewidth\": 0, \"ticks\": \"\"}}, \"type\": \"scattercarpet\"}], \"scattergeo\": [{\"marker\": {\"colorbar\": {\"outlinewidth\": 0, \"ticks\": \"\"}}, \"type\": \"scattergeo\"}], \"scattergl\": [{\"marker\": {\"colorbar\": {\"outlinewidth\": 0, \"ticks\": \"\"}}, \"type\": \"scattergl\"}], \"scattermapbox\": [{\"marker\": {\"colorbar\": {\"outlinewidth\": 0, \"ticks\": \"\"}}, \"type\": \"scattermapbox\"}], \"scatterpolar\": [{\"marker\": {\"colorbar\": {\"outlinewidth\": 0, \"ticks\": \"\"}}, \"type\": \"scatterpolar\"}], \"scatterpolargl\": [{\"marker\": {\"colorbar\": {\"outlinewidth\": 0, \"ticks\": \"\"}}, \"type\": \"scatterpolargl\"}], \"scatterternary\": [{\"marker\": {\"colorbar\": {\"outlinewidth\": 0, \"ticks\": \"\"}}, \"type\": \"scatterternary\"}], \"surface\": [{\"colorbar\": {\"outlinewidth\": 0, \"ticks\": \"\"}, \"colorscale\": [[0.0, \"#0d0887\"], [0.1111111111111111, \"#46039f\"], [0.2222222222222222, \"#7201a8\"], [0.3333333333333333, \"#9c179e\"], [0.4444444444444444, \"#bd3786\"], [0.5555555555555556, \"#d8576b\"], [0.6666666666666666, \"#ed7953\"], [0.7777777777777778, \"#fb9f3a\"], [0.8888888888888888, \"#fdca26\"], [1.0, \"#f0f921\"]], \"type\": \"surface\"}], \"table\": [{\"cells\": {\"fill\": {\"color\": \"#EBF0F8\"}, \"line\": {\"color\": \"white\"}}, \"header\": {\"fill\": {\"color\": \"#C8D4E3\"}, \"line\": {\"color\": \"white\"}}, \"type\": \"table\"}]}, \"layout\": {\"annotationdefaults\": {\"arrowcolor\": \"#2a3f5f\", \"arrowhead\": 0, \"arrowwidth\": 1}, \"autotypenumbers\": \"strict\", \"coloraxis\": {\"colorbar\": {\"outlinewidth\": 0, \"ticks\": \"\"}}, \"colorscale\": {\"diverging\": [[0, \"#8e0152\"], [0.1, \"#c51b7d\"], [0.2, \"#de77ae\"], [0.3, \"#f1b6da\"], [0.4, \"#fde0ef\"], [0.5, \"#f7f7f7\"], [0.6, \"#e6f5d0\"], [0.7, \"#b8e186\"], [0.8, \"#7fbc41\"], [0.9, \"#4d9221\"], [1, \"#276419\"]], \"sequential\": [[0.0, \"#0d0887\"], [0.1111111111111111, \"#46039f\"], [0.2222222222222222, \"#7201a8\"], [0.3333333333333333, \"#9c179e\"], [0.4444444444444444, \"#bd3786\"], [0.5555555555555556, \"#d8576b\"], [0.6666666666666666, \"#ed7953\"], [0.7777777777777778, \"#fb9f3a\"], [0.8888888888888888, \"#fdca26\"], [1.0, \"#f0f921\"]], \"sequentialminus\": [[0.0, \"#0d0887\"], [0.1111111111111111, \"#46039f\"], [0.2222222222222222, \"#7201a8\"], [0.3333333333333333, \"#9c179e\"], [0.4444444444444444, \"#bd3786\"], [0.5555555555555556, \"#d8576b\"], [0.6666666666666666, \"#ed7953\"], [0.7777777777777778, \"#fb9f3a\"], [0.8888888888888888, \"#fdca26\"], [1.0, \"#f0f921\"]]}, \"colorway\": [\"#636efa\", \"#EF553B\", \"#00cc96\", \"#ab63fa\", \"#FFA15A\", \"#19d3f3\", \"#FF6692\", \"#B6E880\", \"#FF97FF\", \"#FECB52\"], \"font\": {\"color\": \"#2a3f5f\"}, \"geo\": {\"bgcolor\": \"white\", \"lakecolor\": \"white\", \"landcolor\": \"#E5ECF6\", \"showlakes\": true, \"showland\": true, \"subunitcolor\": \"white\"}, \"hoverlabel\": {\"align\": \"left\"}, \"hovermode\": \"closest\", \"mapbox\": {\"style\": \"light\"}, \"paper_bgcolor\": \"white\", \"plot_bgcolor\": \"#E5ECF6\", \"polar\": {\"angularaxis\": {\"gridcolor\": \"white\", \"linecolor\": \"white\", \"ticks\": \"\"}, \"bgcolor\": \"#E5ECF6\", \"radialaxis\": {\"gridcolor\": \"white\", \"linecolor\": \"white\", \"ticks\": \"\"}}, \"scene\": {\"xaxis\": {\"backgroundcolor\": \"#E5ECF6\", \"gridcolor\": \"white\", \"gridwidth\": 2, \"linecolor\": \"white\", \"showbackground\": true, \"ticks\": \"\", \"zerolinecolor\": \"white\"}, \"yaxis\": {\"backgroundcolor\": \"#E5ECF6\", \"gridcolor\": \"white\", \"gridwidth\": 2, \"linecolor\": \"white\", \"showbackground\": true, \"ticks\": \"\", \"zerolinecolor\": \"white\"}, \"zaxis\": {\"backgroundcolor\": \"#E5ECF6\", \"gridcolor\": \"white\", \"gridwidth\": 2, \"linecolor\": \"white\", \"showbackground\": true, \"ticks\": \"\", \"zerolinecolor\": \"white\"}}, \"shapedefaults\": {\"line\": {\"color\": \"#2a3f5f\"}}, \"ternary\": {\"aaxis\": {\"gridcolor\": \"white\", \"linecolor\": \"white\", \"ticks\": \"\"}, \"baxis\": {\"gridcolor\": \"white\", \"linecolor\": \"white\", \"ticks\": \"\"}, \"bgcolor\": \"#E5ECF6\", \"caxis\": {\"gridcolor\": \"white\", \"linecolor\": \"white\", \"ticks\": \"\"}}, \"title\": {\"x\": 0.05}, \"xaxis\": {\"automargin\": true, \"gridcolor\": \"white\", \"linecolor\": \"white\", \"ticks\": \"\", \"title\": {\"standoff\": 15}, \"zerolinecolor\": \"white\", \"zerolinewidth\": 2}, \"yaxis\": {\"automargin\": true, \"gridcolor\": \"white\", \"linecolor\": \"white\", \"ticks\": \"\", \"title\": {\"standoff\": 15}, \"zerolinecolor\": \"white\", \"zerolinewidth\": 2}}}, \"title\": {\"text\": \"PR\"}},                        {\"responsive\": true}                    ).then(function(){\n",
              "                            \n",
              "var gd = document.getElementById('a1397790-23c5-4568-9bf3-d38439ae29c4');\n",
              "var x = new MutationObserver(function (mutations, observer) {{\n",
              "        var display = window.getComputedStyle(gd).display;\n",
              "        if (!display || display === 'none') {{\n",
              "            console.log([gd, 'removed!']);\n",
              "            Plotly.purge(gd);\n",
              "            observer.disconnect();\n",
              "        }}\n",
              "}});\n",
              "\n",
              "// Listen for the removal of the full notebook cells\n",
              "var notebookContainer = gd.closest('#notebook-container');\n",
              "if (notebookContainer) {{\n",
              "    x.observe(notebookContainer, {childList: true});\n",
              "}}\n",
              "\n",
              "// Listen for the clearing of the current output cell\n",
              "var outputEl = gd.closest('.output');\n",
              "if (outputEl) {{\n",
              "    x.observe(outputEl, {childList: true});\n",
              "}}\n",
              "\n",
              "                        })                };                            </script>        </div>\n",
              "</body>\n",
              "</html>"
            ]
          },
          "metadata": {
            "tags": []
          }
        }
      ]
    },
    {
      "cell_type": "code",
      "metadata": {
        "colab": {
          "base_uri": "https://localhost:8080/",
          "height": 542
        },
        "id": "itkYSIWHswUe",
        "outputId": "1d2a77ee-c655-463b-dd4d-c4e750b88aa2"
      },
      "source": [
        "labels = rs.select('cat_candidate_name').toPandas()['cat_candidate_name'].tolist()\n",
        "num_votes_rs = rs.select('num_votes').toPandas()['num_votes'].tolist()\n",
        "num_votes_sc = sc.select('num_votes').toPandas()['num_votes'].tolist()\n",
        "num_votes_pr = pr.select('num_votes').toPandas()['num_votes'].tolist()\n",
        "\n",
        "fig = make_subplots(rows=1, cols=3, specs=[[{'type':'domain'}, {'type':'domain'}, {'type':'domain'}]], subplot_titles=['RS', 'SC', 'PR'])\n",
        "fig.add_trace(go.Pie(labels=labels, values=num_votes_rs, name=\"RS\"), \n",
        "              1, 1)\n",
        "fig.add_trace(go.Pie(labels=labels, values=num_votes_sc, name=\"SC\"),\n",
        "              1, 2)\n",
        "fig.add_trace(go.Pie(labels=labels, values=num_votes_pr, name=\"PR\"),\n",
        "              1, 3)\n",
        "\n",
        "fig.update_layout(title_text='Votações no primeiro turno (SUL)')"
      ],
      "execution_count": null,
      "outputs": [
        {
          "output_type": "display_data",
          "data": {
            "text/html": [
              "<html>\n",
              "<head><meta charset=\"utf-8\" /></head>\n",
              "<body>\n",
              "    <div>            <script src=\"https://cdnjs.cloudflare.com/ajax/libs/mathjax/2.7.5/MathJax.js?config=TeX-AMS-MML_SVG\"></script><script type=\"text/javascript\">if (window.MathJax) {MathJax.Hub.Config({SVG: {font: \"STIX-Web\"}});}</script>                <script type=\"text/javascript\">window.PlotlyConfig = {MathJaxConfig: 'local'};</script>\n",
              "        <script src=\"https://cdn.plot.ly/plotly-latest.min.js\"></script>                <div id=\"facd99f1-f5dc-45ff-b3ec-77919c980736\" class=\"plotly-graph-div\" style=\"height:525px; width:100%;\"></div>            <script type=\"text/javascript\">                                    window.PLOTLYENV=window.PLOTLYENV || {};                                    if (document.getElementById(\"facd99f1-f5dc-45ff-b3ec-77919c980736\")) {                    Plotly.newPlot(                        \"facd99f1-f5dc-45ff-b3ec-77919c980736\",                        [{\"domain\": {\"x\": [0.0, 0.2888888888888889], \"y\": [0.0, 1.0]}, \"labels\": [\"JOS\\u00c9 LEVY FIDELIX DA CRUZ\", \"LUCIANA KREBS GENRO\", \"RUI COSTA PIMENTA\", \"JOS\\u00c9 MARIA DE ALMEIDA\", \"JOSE MARIA EYMAEL\", \"EDUARDO JORGE MARTINS ALVES SOBRINHO\", \"MARIA OSMARINA MARINA DA SILVA VAZ DE LIMA\", \"MAURO LU\\u00cdS IASI\", \"A\\u00c9CIO NEVES DA CUNHA\", \"EVERALDO DIAS PEREIRA\", \"DILMA VANA ROUSSEFF\"], \"name\": \"RS\", \"type\": \"pie\", \"values\": [\"17954\", \"143370\", \"505\", \"4083\", \"2255\", \"43703\", \"732828\", \"2301\", \"2639647\", \"33053\", \"2752075\"]}, {\"domain\": {\"x\": [0.35555555555555557, 0.6444444444444445], \"y\": [0.0, 1.0]}, \"labels\": [\"JOS\\u00c9 LEVY FIDELIX DA CRUZ\", \"LUCIANA KREBS GENRO\", \"RUI COSTA PIMENTA\", \"JOS\\u00c9 MARIA DE ALMEIDA\", \"JOSE MARIA EYMAEL\", \"EDUARDO JORGE MARTINS ALVES SOBRINHO\", \"MARIA OSMARINA MARINA DA SILVA VAZ DE LIMA\", \"MAURO LU\\u00cdS IASI\", \"A\\u00c9CIO NEVES DA CUNHA\", \"EVERALDO DIAS PEREIRA\", \"DILMA VANA ROUSSEFF\"], \"name\": \"SC\", \"type\": \"pie\", \"values\": [\"15774\", \"53532\", \"390\", \"3975\", \"2005\", \"30239\", \"476430\", \"1413\", \"1963772\", \"23661\", \"1141102\"]}, {\"domain\": {\"x\": [0.7111111111111111, 1.0], \"y\": [0.0, 1.0]}, \"labels\": [\"JOS\\u00c9 LEVY FIDELIX DA CRUZ\", \"LUCIANA KREBS GENRO\", \"RUI COSTA PIMENTA\", \"JOS\\u00c9 MARIA DE ALMEIDA\", \"JOSE MARIA EYMAEL\", \"EDUARDO JORGE MARTINS ALVES SOBRINHO\", \"MARIA OSMARINA MARINA DA SILVA VAZ DE LIMA\", \"MAURO LU\\u00cdS IASI\", \"A\\u00c9CIO NEVES DA CUNHA\", \"EVERALDO DIAS PEREIRA\", \"DILMA VANA ROUSSEFF\"], \"name\": \"PR\", \"type\": \"pie\", \"values\": [\"33612\", \"79267\", \"560\", \"4552\", \"4828\", \"44755\", \"861820\", \"2409\", \"3021988\", \"40656\", \"1973421\"]}],                        {\"annotations\": [{\"font\": {\"size\": 16}, \"showarrow\": false, \"text\": \"RS\", \"x\": 0.14444444444444446, \"xanchor\": \"center\", \"xref\": \"paper\", \"y\": 1.0, \"yanchor\": \"bottom\", \"yref\": \"paper\"}, {\"font\": {\"size\": 16}, \"showarrow\": false, \"text\": \"SC\", \"x\": 0.5, \"xanchor\": \"center\", \"xref\": \"paper\", \"y\": 1.0, \"yanchor\": \"bottom\", \"yref\": \"paper\"}, {\"font\": {\"size\": 16}, \"showarrow\": false, \"text\": \"PR\", \"x\": 0.8555555555555556, \"xanchor\": \"center\", \"xref\": \"paper\", \"y\": 1.0, \"yanchor\": \"bottom\", \"yref\": \"paper\"}], \"template\": {\"data\": {\"bar\": [{\"error_x\": {\"color\": \"#2a3f5f\"}, \"error_y\": {\"color\": \"#2a3f5f\"}, \"marker\": {\"line\": {\"color\": \"#E5ECF6\", \"width\": 0.5}}, \"type\": \"bar\"}], \"barpolar\": [{\"marker\": {\"line\": {\"color\": \"#E5ECF6\", \"width\": 0.5}}, \"type\": \"barpolar\"}], \"carpet\": [{\"aaxis\": {\"endlinecolor\": \"#2a3f5f\", \"gridcolor\": \"white\", \"linecolor\": \"white\", \"minorgridcolor\": \"white\", \"startlinecolor\": \"#2a3f5f\"}, \"baxis\": {\"endlinecolor\": \"#2a3f5f\", \"gridcolor\": \"white\", \"linecolor\": \"white\", \"minorgridcolor\": \"white\", \"startlinecolor\": \"#2a3f5f\"}, \"type\": \"carpet\"}], \"choropleth\": [{\"colorbar\": {\"outlinewidth\": 0, \"ticks\": \"\"}, \"type\": \"choropleth\"}], \"contour\": [{\"colorbar\": {\"outlinewidth\": 0, \"ticks\": \"\"}, \"colorscale\": [[0.0, \"#0d0887\"], [0.1111111111111111, \"#46039f\"], [0.2222222222222222, \"#7201a8\"], [0.3333333333333333, \"#9c179e\"], [0.4444444444444444, \"#bd3786\"], [0.5555555555555556, \"#d8576b\"], [0.6666666666666666, \"#ed7953\"], [0.7777777777777778, \"#fb9f3a\"], [0.8888888888888888, \"#fdca26\"], [1.0, \"#f0f921\"]], \"type\": \"contour\"}], \"contourcarpet\": [{\"colorbar\": {\"outlinewidth\": 0, \"ticks\": \"\"}, \"type\": \"contourcarpet\"}], \"heatmap\": [{\"colorbar\": {\"outlinewidth\": 0, \"ticks\": \"\"}, \"colorscale\": [[0.0, \"#0d0887\"], [0.1111111111111111, \"#46039f\"], [0.2222222222222222, \"#7201a8\"], [0.3333333333333333, \"#9c179e\"], [0.4444444444444444, \"#bd3786\"], [0.5555555555555556, \"#d8576b\"], [0.6666666666666666, \"#ed7953\"], [0.7777777777777778, \"#fb9f3a\"], [0.8888888888888888, \"#fdca26\"], [1.0, \"#f0f921\"]], \"type\": \"heatmap\"}], \"heatmapgl\": [{\"colorbar\": {\"outlinewidth\": 0, \"ticks\": \"\"}, \"colorscale\": [[0.0, \"#0d0887\"], [0.1111111111111111, \"#46039f\"], [0.2222222222222222, \"#7201a8\"], [0.3333333333333333, \"#9c179e\"], [0.4444444444444444, \"#bd3786\"], [0.5555555555555556, \"#d8576b\"], [0.6666666666666666, \"#ed7953\"], [0.7777777777777778, \"#fb9f3a\"], [0.8888888888888888, \"#fdca26\"], [1.0, \"#f0f921\"]], \"type\": \"heatmapgl\"}], \"histogram\": [{\"marker\": {\"colorbar\": {\"outlinewidth\": 0, \"ticks\": \"\"}}, \"type\": \"histogram\"}], \"histogram2d\": [{\"colorbar\": {\"outlinewidth\": 0, \"ticks\": \"\"}, \"colorscale\": [[0.0, \"#0d0887\"], [0.1111111111111111, \"#46039f\"], [0.2222222222222222, \"#7201a8\"], [0.3333333333333333, \"#9c179e\"], [0.4444444444444444, \"#bd3786\"], [0.5555555555555556, \"#d8576b\"], [0.6666666666666666, \"#ed7953\"], [0.7777777777777778, \"#fb9f3a\"], [0.8888888888888888, \"#fdca26\"], [1.0, \"#f0f921\"]], \"type\": \"histogram2d\"}], \"histogram2dcontour\": [{\"colorbar\": {\"outlinewidth\": 0, \"ticks\": \"\"}, \"colorscale\": [[0.0, \"#0d0887\"], [0.1111111111111111, \"#46039f\"], [0.2222222222222222, \"#7201a8\"], [0.3333333333333333, \"#9c179e\"], [0.4444444444444444, \"#bd3786\"], [0.5555555555555556, \"#d8576b\"], [0.6666666666666666, \"#ed7953\"], [0.7777777777777778, \"#fb9f3a\"], [0.8888888888888888, \"#fdca26\"], [1.0, \"#f0f921\"]], \"type\": \"histogram2dcontour\"}], \"mesh3d\": [{\"colorbar\": {\"outlinewidth\": 0, \"ticks\": \"\"}, \"type\": \"mesh3d\"}], \"parcoords\": [{\"line\": {\"colorbar\": {\"outlinewidth\": 0, \"ticks\": \"\"}}, \"type\": \"parcoords\"}], \"pie\": [{\"automargin\": true, \"type\": \"pie\"}], \"scatter\": [{\"marker\": {\"colorbar\": {\"outlinewidth\": 0, \"ticks\": \"\"}}, \"type\": \"scatter\"}], \"scatter3d\": [{\"line\": {\"colorbar\": {\"outlinewidth\": 0, \"ticks\": \"\"}}, \"marker\": {\"colorbar\": {\"outlinewidth\": 0, \"ticks\": \"\"}}, \"type\": \"scatter3d\"}], \"scattercarpet\": [{\"marker\": {\"colorbar\": {\"outlinewidth\": 0, \"ticks\": \"\"}}, \"type\": \"scattercarpet\"}], \"scattergeo\": [{\"marker\": {\"colorbar\": {\"outlinewidth\": 0, \"ticks\": \"\"}}, \"type\": \"scattergeo\"}], \"scattergl\": [{\"marker\": {\"colorbar\": {\"outlinewidth\": 0, \"ticks\": \"\"}}, \"type\": \"scattergl\"}], \"scattermapbox\": [{\"marker\": {\"colorbar\": {\"outlinewidth\": 0, \"ticks\": \"\"}}, \"type\": \"scattermapbox\"}], \"scatterpolar\": [{\"marker\": {\"colorbar\": {\"outlinewidth\": 0, \"ticks\": \"\"}}, \"type\": \"scatterpolar\"}], \"scatterpolargl\": [{\"marker\": {\"colorbar\": {\"outlinewidth\": 0, \"ticks\": \"\"}}, \"type\": \"scatterpolargl\"}], \"scatterternary\": [{\"marker\": {\"colorbar\": {\"outlinewidth\": 0, \"ticks\": \"\"}}, \"type\": \"scatterternary\"}], \"surface\": [{\"colorbar\": {\"outlinewidth\": 0, \"ticks\": \"\"}, \"colorscale\": [[0.0, \"#0d0887\"], [0.1111111111111111, \"#46039f\"], [0.2222222222222222, \"#7201a8\"], [0.3333333333333333, \"#9c179e\"], [0.4444444444444444, \"#bd3786\"], [0.5555555555555556, \"#d8576b\"], [0.6666666666666666, \"#ed7953\"], [0.7777777777777778, \"#fb9f3a\"], [0.8888888888888888, \"#fdca26\"], [1.0, \"#f0f921\"]], \"type\": \"surface\"}], \"table\": [{\"cells\": {\"fill\": {\"color\": \"#EBF0F8\"}, \"line\": {\"color\": \"white\"}}, \"header\": {\"fill\": {\"color\": \"#C8D4E3\"}, \"line\": {\"color\": \"white\"}}, \"type\": \"table\"}]}, \"layout\": {\"annotationdefaults\": {\"arrowcolor\": \"#2a3f5f\", \"arrowhead\": 0, \"arrowwidth\": 1}, \"autotypenumbers\": \"strict\", \"coloraxis\": {\"colorbar\": {\"outlinewidth\": 0, \"ticks\": \"\"}}, \"colorscale\": {\"diverging\": [[0, \"#8e0152\"], [0.1, \"#c51b7d\"], [0.2, \"#de77ae\"], [0.3, \"#f1b6da\"], [0.4, \"#fde0ef\"], [0.5, \"#f7f7f7\"], [0.6, \"#e6f5d0\"], [0.7, \"#b8e186\"], [0.8, \"#7fbc41\"], [0.9, \"#4d9221\"], [1, \"#276419\"]], \"sequential\": [[0.0, \"#0d0887\"], [0.1111111111111111, \"#46039f\"], [0.2222222222222222, \"#7201a8\"], [0.3333333333333333, \"#9c179e\"], [0.4444444444444444, \"#bd3786\"], [0.5555555555555556, \"#d8576b\"], [0.6666666666666666, \"#ed7953\"], [0.7777777777777778, \"#fb9f3a\"], [0.8888888888888888, \"#fdca26\"], [1.0, \"#f0f921\"]], \"sequentialminus\": [[0.0, \"#0d0887\"], [0.1111111111111111, \"#46039f\"], [0.2222222222222222, \"#7201a8\"], [0.3333333333333333, \"#9c179e\"], [0.4444444444444444, \"#bd3786\"], [0.5555555555555556, \"#d8576b\"], [0.6666666666666666, \"#ed7953\"], [0.7777777777777778, \"#fb9f3a\"], [0.8888888888888888, \"#fdca26\"], [1.0, \"#f0f921\"]]}, \"colorway\": [\"#636efa\", \"#EF553B\", \"#00cc96\", \"#ab63fa\", \"#FFA15A\", \"#19d3f3\", \"#FF6692\", \"#B6E880\", \"#FF97FF\", \"#FECB52\"], \"font\": {\"color\": \"#2a3f5f\"}, \"geo\": {\"bgcolor\": \"white\", \"lakecolor\": \"white\", \"landcolor\": \"#E5ECF6\", \"showlakes\": true, \"showland\": true, \"subunitcolor\": \"white\"}, \"hoverlabel\": {\"align\": \"left\"}, \"hovermode\": \"closest\", \"mapbox\": {\"style\": \"light\"}, \"paper_bgcolor\": \"white\", \"plot_bgcolor\": \"#E5ECF6\", \"polar\": {\"angularaxis\": {\"gridcolor\": \"white\", \"linecolor\": \"white\", \"ticks\": \"\"}, \"bgcolor\": \"#E5ECF6\", \"radialaxis\": {\"gridcolor\": \"white\", \"linecolor\": \"white\", \"ticks\": \"\"}}, \"scene\": {\"xaxis\": {\"backgroundcolor\": \"#E5ECF6\", \"gridcolor\": \"white\", \"gridwidth\": 2, \"linecolor\": \"white\", \"showbackground\": true, \"ticks\": \"\", \"zerolinecolor\": \"white\"}, \"yaxis\": {\"backgroundcolor\": \"#E5ECF6\", \"gridcolor\": \"white\", \"gridwidth\": 2, \"linecolor\": \"white\", \"showbackground\": true, \"ticks\": \"\", \"zerolinecolor\": \"white\"}, \"zaxis\": {\"backgroundcolor\": \"#E5ECF6\", \"gridcolor\": \"white\", \"gridwidth\": 2, \"linecolor\": \"white\", \"showbackground\": true, \"ticks\": \"\", \"zerolinecolor\": \"white\"}}, \"shapedefaults\": {\"line\": {\"color\": \"#2a3f5f\"}}, \"ternary\": {\"aaxis\": {\"gridcolor\": \"white\", \"linecolor\": \"white\", \"ticks\": \"\"}, \"baxis\": {\"gridcolor\": \"white\", \"linecolor\": \"white\", \"ticks\": \"\"}, \"bgcolor\": \"#E5ECF6\", \"caxis\": {\"gridcolor\": \"white\", \"linecolor\": \"white\", \"ticks\": \"\"}}, \"title\": {\"x\": 0.05}, \"xaxis\": {\"automargin\": true, \"gridcolor\": \"white\", \"linecolor\": \"white\", \"ticks\": \"\", \"title\": {\"standoff\": 15}, \"zerolinecolor\": \"white\", \"zerolinewidth\": 2}, \"yaxis\": {\"automargin\": true, \"gridcolor\": \"white\", \"linecolor\": \"white\", \"ticks\": \"\", \"title\": {\"standoff\": 15}, \"zerolinecolor\": \"white\", \"zerolinewidth\": 2}}}, \"title\": {\"text\": \"Vota\\u00e7\\u00f5es no primeiro turno (SUL)\"}},                        {\"responsive\": true}                    ).then(function(){\n",
              "                            \n",
              "var gd = document.getElementById('facd99f1-f5dc-45ff-b3ec-77919c980736');\n",
              "var x = new MutationObserver(function (mutations, observer) {{\n",
              "        var display = window.getComputedStyle(gd).display;\n",
              "        if (!display || display === 'none') {{\n",
              "            console.log([gd, 'removed!']);\n",
              "            Plotly.purge(gd);\n",
              "            observer.disconnect();\n",
              "        }}\n",
              "}});\n",
              "\n",
              "// Listen for the removal of the full notebook cells\n",
              "var notebookContainer = gd.closest('#notebook-container');\n",
              "if (notebookContainer) {{\n",
              "    x.observe(notebookContainer, {childList: true});\n",
              "}}\n",
              "\n",
              "// Listen for the clearing of the current output cell\n",
              "var outputEl = gd.closest('.output');\n",
              "if (outputEl) {{\n",
              "    x.observe(outputEl, {childList: true});\n",
              "}}\n",
              "\n",
              "                        })                };                            </script>        </div>\n",
              "</body>\n",
              "</html>"
            ]
          },
          "metadata": {
            "tags": []
          }
        }
      ]
    },
    {
      "cell_type": "markdown",
      "metadata": {
        "id": "DBX2d4coPlws"
      },
      "source": [
        "### Algumas referências"
      ]
    },
    {
      "cell_type": "markdown",
      "metadata": {
        "id": "0ZJ0qWyz0xVf"
      },
      "source": [
        "1. https://plotly.com/python/pie-charts/  \n",
        "2. https://analyticsindiamag.com/how-to-use-plotly-in-colab/  \n",
        "3. https://plotly.com/javascript/pie-charts/#:~:text=In%20order%20to%20create%20pie%20chart%20subplots%2C%20you,a%20rectangle%20defined%20by%20X%20and%20Y%20arrays  \n",
        "4. https://www.kaggle.com/srivignesh/an-introduction-to-pyspark-apache-spark-in-python\n",
        "5. https://www.cetax.com.br/blog/tutorial-pyspark-e-mllib/\n"
      ]
    }
  ]
}