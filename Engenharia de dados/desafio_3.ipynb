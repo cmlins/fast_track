{
  "nbformat": 4,
  "nbformat_minor": 0,
  "metadata": {
    "colab": {
      "name": "desafio_3.ipynb",
      "provenance": [],
      "collapsed_sections": [
        "VI_ttsVKDwQ0",
        "UTyu2af22ida"
      ],
      "authorship_tag": "ABX9TyMynnQUMdclhotAfnXwPW5F",
      "include_colab_link": true
    },
    "kernelspec": {
      "name": "python3",
      "display_name": "Python 3"
    },
    "language_info": {
      "name": "python"
    }
  },
  "cells": [
    {
      "cell_type": "markdown",
      "metadata": {
        "id": "view-in-github",
        "colab_type": "text"
      },
      "source": [
        "<a href=\"https://colab.research.google.com/github/cmlins/fast_track/blob/main/Engenharia%20de%20dados/desafio_3.ipynb\" target=\"_parent\"><img src=\"https://colab.research.google.com/assets/colab-badge.svg\" alt=\"Open In Colab\"/></a>"
      ]
    },
    {
      "cell_type": "markdown",
      "metadata": {
        "id": "VI_ttsVKDwQ0"
      },
      "source": [
        "### Imports e instalações de bibliotecas"
      ]
    },
    {
      "cell_type": "code",
      "metadata": {
        "colab": {
          "base_uri": "https://localhost:8080/"
        },
        "id": "xOR0ghe54tZu",
        "outputId": "8151d9cb-7c78-4deb-a4a1-049da0de2bfd"
      },
      "source": [
        "# Instala bibliotecas necessárias\n",
        "\n",
        "!pip install --upgrade plotly\n",
        "!pip install pyspark"
      ],
      "execution_count": 1,
      "outputs": [
        {
          "output_type": "stream",
          "text": [
            "Requirement already up-to-date: plotly in /usr/local/lib/python3.7/dist-packages (4.14.3)\n",
            "Requirement already satisfied, skipping upgrade: six in /usr/local/lib/python3.7/dist-packages (from plotly) (1.15.0)\n",
            "Requirement already satisfied, skipping upgrade: retrying>=1.3.3 in /usr/local/lib/python3.7/dist-packages (from plotly) (1.3.3)\n",
            "Requirement already satisfied: pyspark in /usr/local/lib/python3.7/dist-packages (3.1.1)\n",
            "Requirement already satisfied: py4j==0.10.9 in /usr/local/lib/python3.7/dist-packages (from pyspark) (0.10.9)\n"
          ],
          "name": "stdout"
        }
      ]
    },
    {
      "cell_type": "code",
      "metadata": {
        "id": "cNptRoHv4svV"
      },
      "source": [
        "# import das bibliotecas usadas\n",
        "\n",
        "import pyspark\n",
        "from pyspark.sql import SparkSession, Row\n",
        "from pyspark.sql.functions import length, regexp_extract, isnan, when, count, col, isnull, asc, desc, mean, sum, lit, format_string, concat, udf\n",
        "from pyspark.sql.types import ArrayType, StructField, StructType, StringType, IntegerType, LongType, FloatType\n",
        "import re\n",
        "\n",
        "import plotly.express as px"
      ],
      "execution_count": 2,
      "outputs": []
    },
    {
      "cell_type": "code",
      "metadata": {
        "id": "xePvgEg-5NaL"
      },
      "source": [
        "# Cria uma sessão spark\n",
        "spark = SparkSession.builder.master('local[*]').getOrCreate()\n",
        "\n",
        "# Configura para que a visualização das saídas seja similar ao Pandas\n",
        "spark.conf.set('spark.sql.repl.eagerEval.enabled', True)\n",
        "\n",
        "sc = spark.sparkContext"
      ],
      "execution_count": 3,
      "outputs": []
    },
    {
      "cell_type": "markdown",
      "metadata": {
        "id": "UTyu2af22ida"
      },
      "source": [
        "### Download\n",
        "\n",
        "Fazer o download do [arquivo de log](https://github.com/elastic/examples/raw/master/Common%20Data%20Formats/apache_logs/apache_logs) do servidor Apache"
      ]
    },
    {
      "cell_type": "code",
      "metadata": {
        "colab": {
          "base_uri": "https://localhost:8080/"
        },
        "id": "iDrOSFI1wIgp",
        "outputId": "957e741a-c4ec-4c93-fce9-6b7b3d34a483"
      },
      "source": [
        "!wget https://github.com/elastic/examples/raw/master/Common%20Data%20Formats/apache_logs/apache_logs"
      ],
      "execution_count": 4,
      "outputs": [
        {
          "output_type": "stream",
          "text": [
            "--2021-05-19 19:34:38--  https://github.com/elastic/examples/raw/master/Common%20Data%20Formats/apache_logs/apache_logs\n",
            "Resolving github.com (github.com)... 140.82.114.3\n",
            "Connecting to github.com (github.com)|140.82.114.3|:443... connected.\n",
            "HTTP request sent, awaiting response... 302 Found\n",
            "Location: https://raw.githubusercontent.com/elastic/examples/master/Common%20Data%20Formats/apache_logs/apache_logs [following]\n",
            "--2021-05-19 19:34:38--  https://raw.githubusercontent.com/elastic/examples/master/Common%20Data%20Formats/apache_logs/apache_logs\n",
            "Resolving raw.githubusercontent.com (raw.githubusercontent.com)... 185.199.108.133, 185.199.109.133, 185.199.110.133, ...\n",
            "Connecting to raw.githubusercontent.com (raw.githubusercontent.com)|185.199.108.133|:443... connected.\n",
            "HTTP request sent, awaiting response... 200 OK\n",
            "Length: 2370789 (2.3M) [text/plain]\n",
            "Saving to: ‘apache_logs.9’\n",
            "\n",
            "apache_logs.9       100%[===================>]   2.26M  --.-KB/s    in 0.08s   \n",
            "\n",
            "2021-05-19 19:34:38 (28.9 MB/s) - ‘apache_logs.9’ saved [2370789/2370789]\n",
            "\n"
          ],
          "name": "stdout"
        }
      ]
    },
    {
      "cell_type": "markdown",
      "metadata": {
        "id": "ZE3tFWg93CFl"
      },
      "source": [
        "### Import\n",
        "\n",
        " Envia o log para o [sistema de arquivos distribuído](https://docs.databricks.com/data/databricks-file-system.html)\n",
        " "
      ]
    },
    {
      "cell_type": "code",
      "metadata": {
        "id": "L0n-R7EcBd6a"
      },
      "source": [
        "data = []\n",
        "with open (\"/content/apache_logs\", 'r') as f_read:\n",
        "  for line in f_read:\n",
        "    data.append(line)"
      ],
      "execution_count": 5,
      "outputs": []
    },
    {
      "cell_type": "code",
      "metadata": {
        "colab": {
          "base_uri": "https://localhost:8080/"
        },
        "id": "71NJH03NYi6Q",
        "outputId": "e3f13c65-d06e-40f4-da05-691b7bfef9b4"
      },
      "source": [
        "R = Row('log')\n",
        "\n",
        "logs = spark.createDataFrame([R(x) for x in data])\n",
        "\n",
        "logs.show(3, False)"
      ],
      "execution_count": 6,
      "outputs": [
        {
          "output_type": "stream",
          "text": [
            "+-----------------------------------------------------------------------------------------------------------------------------------------------------------------------------------------------------------------------------------------------------------------------------------------------------------------------------------------+\n",
            "|log                                                                                                                                                                                                                                                                                                                                      |\n",
            "+-----------------------------------------------------------------------------------------------------------------------------------------------------------------------------------------------------------------------------------------------------------------------------------------------------------------------------------------+\n",
            "|83.149.9.216 - - [17/May/2015:10:05:03 +0000] \"GET /presentations/logstash-monitorama-2013/images/kibana-search.png HTTP/1.1\" 200 203023 \"http://semicomplete.com/presentations/logstash-monitorama-2013/\" \"Mozilla/5.0 (Macintosh; Intel Mac OS X 10_9_1) AppleWebKit/537.36 (KHTML, like Gecko) Chrome/32.0.1700.77 Safari/537.36\"\n",
            "    |\n",
            "|83.149.9.216 - - [17/May/2015:10:05:43 +0000] \"GET /presentations/logstash-monitorama-2013/images/kibana-dashboard3.png HTTP/1.1\" 200 171717 \"http://semicomplete.com/presentations/logstash-monitorama-2013/\" \"Mozilla/5.0 (Macintosh; Intel Mac OS X 10_9_1) AppleWebKit/537.36 (KHTML, like Gecko) Chrome/32.0.1700.77 Safari/537.36\"\n",
            "|\n",
            "|83.149.9.216 - - [17/May/2015:10:05:47 +0000] \"GET /presentations/logstash-monitorama-2013/plugin/highlight/highlight.js HTTP/1.1\" 200 26185 \"http://semicomplete.com/presentations/logstash-monitorama-2013/\" \"Mozilla/5.0 (Macintosh; Intel Mac OS X 10_9_1) AppleWebKit/537.36 (KHTML, like Gecko) Chrome/32.0.1700.77 Safari/537.36\"\n",
            "|\n",
            "+-----------------------------------------------------------------------------------------------------------------------------------------------------------------------------------------------------------------------------------------------------------------------------------------------------------------------------------------+\n",
            "only showing top 3 rows\n",
            "\n"
          ],
          "name": "stdout"
        }
      ]
    },
    {
      "cell_type": "code",
      "metadata": {
        "id": "UACiYbGOwSn2"
      },
      "source": [
        "# logs.toPandas().to_csv('logs.csv')"
      ],
      "execution_count": 7,
      "outputs": []
    },
    {
      "cell_type": "markdown",
      "metadata": {
        "id": "r4lg2X-UcbNY"
      },
      "source": [
        "### Transform\n",
        "\n",
        "Realiza o parser do arquivo de log disponível no DBFS e cria uma tabela chamada apache"
      ]
    },
    {
      "cell_type": "code",
      "metadata": {
        "id": "yuLX4HpBxfXL"
      },
      "source": [
        "# with open(\"/content/apache_logs\") as f:\n",
        "#   log = f.read()\n",
        "\n",
        "#   regex_ip = r'\\d{1,3}\\.\\d{1,3}\\.\\d{1,3}\\.\\d{1,3}'\n",
        "#   ips = re.findall(regex_ip, log)\n",
        "\n",
        "#   regex_time = r'\\[(?P<date>.*?)(?= ) (?P<timezone>.*?)\\]'\n",
        "#   times = re.findall(regex_time, log)\n",
        "\n",
        "#   regex_method = r'?P<request_method>.*?'\n",
        "#   method = re.findall(regex_method, log)\n",
        "\n",
        "\n",
        "#   print(method)"
      ],
      "execution_count": 8,
      "outputs": []
    },
    {
      "cell_type": "code",
      "metadata": {
        "id": "YcEMdgaYZrcv"
      },
      "source": [
        "split_col = pyspark.sql.functions.split(logs['log'], ' ')\n",
        "apache = logs.withColumn('ip_address', split_col.getItem(0))\n",
        "# apache = apache.withColumn('date', split_col.getItem(1))\n",
        "# apache = apache.withColumn('user_ID_of_the_client', split_col.getItem(2))\n",
        "apache = apache.withColumn('timestamp', split_col.getItem(3))\n",
        "# apache = apache.withColumn('Timestamp_of_the_log_entry_2', split_col.getItem(4))\n",
        "apache = apache.withColumn('method', split_col.getItem(5))\n",
        "apache = apache.withColumn('requested', split_col.getItem(6))\n",
        "apache = apache.withColumn('HTTP_protocol', split_col.getItem(7))\n",
        "apache = apache.withColumn('status_code', split_col.getItem(8))\n",
        "apache = apache.withColumn('size', split_col.getItem(9))\n",
        "apache = apache.withColumn('referer', split_col.getItem(10))"
      ],
      "execution_count": 9,
      "outputs": []
    },
    {
      "cell_type": "code",
      "metadata": {
        "colab": {
          "base_uri": "https://localhost:8080/",
          "height": 114
        },
        "id": "_I3p2qrYf6Yg",
        "outputId": "4d2ff339-fc14-4a68-c455-f2375ac148a2"
      },
      "source": [
        "apache.limit(3)"
      ],
      "execution_count": 10,
      "outputs": [
        {
          "output_type": "execute_result",
          "data": {
            "text/html": [
              "<table border='1'>\n",
              "<tr><th>log</th><th>ip_address</th><th>timestamp</th><th>method</th><th>requested</th><th>HTTP_protocol</th><th>status_code</th><th>size</th><th>referer</th></tr>\n",
              "<tr><td>83.149.9.216 - - ...</td><td>83.149.9.216</td><td>[17/May/2015:10:0...</td><td>&quot;GET</td><td>/presentations/lo...</td><td>HTTP/1.1&quot;</td><td>200</td><td>203023</td><td>&quot;http://semicompl...</td></tr>\n",
              "<tr><td>83.149.9.216 - - ...</td><td>83.149.9.216</td><td>[17/May/2015:10:0...</td><td>&quot;GET</td><td>/presentations/lo...</td><td>HTTP/1.1&quot;</td><td>200</td><td>171717</td><td>&quot;http://semicompl...</td></tr>\n",
              "<tr><td>83.149.9.216 - - ...</td><td>83.149.9.216</td><td>[17/May/2015:10:0...</td><td>&quot;GET</td><td>/presentations/lo...</td><td>HTTP/1.1&quot;</td><td>200</td><td>26185</td><td>&quot;http://semicompl...</td></tr>\n",
              "</table>\n"
            ],
            "text/plain": [
              "+--------------------+------------+--------------------+------+--------------------+-------------+-----------+------+--------------------+\n",
              "|                 log|  ip_address|           timestamp|method|           requested|HTTP_protocol|status_code|  size|             referer|\n",
              "+--------------------+------------+--------------------+------+--------------------+-------------+-----------+------+--------------------+\n",
              "|83.149.9.216 - - ...|83.149.9.216|[17/May/2015:10:0...|  \"GET|/presentations/lo...|    HTTP/1.1\"|        200|203023|\"http://semicompl...|\n",
              "|83.149.9.216 - - ...|83.149.9.216|[17/May/2015:10:0...|  \"GET|/presentations/lo...|    HTTP/1.1\"|        200|171717|\"http://semicompl...|\n",
              "|83.149.9.216 - - ...|83.149.9.216|[17/May/2015:10:0...|  \"GET|/presentations/lo...|    HTTP/1.1\"|        200| 26185|\"http://semicompl...|\n",
              "+--------------------+------------+--------------------+------+--------------------+-------------+-----------+------+--------------------+"
            ]
          },
          "metadata": {
            "tags": []
          },
          "execution_count": 10
        }
      ]
    },
    {
      "cell_type": "code",
      "metadata": {
        "id": "j-Jfu-JeivO-"
      },
      "source": [
        "apache = apache.select(['ip_address','timestamp', 'requested', 'referer']).where(apache.method == '\"GET').where(apache.referer != '\"-\"')\n",
        "# apache = apache.where(length(apache.col10) > 3)\n",
        "# apache.toPandas().to_csv('mycsv.csv')\n",
        "apache = apache.groupBy('referer').count().sort(desc('count'))"
      ],
      "execution_count": 11,
      "outputs": []
    },
    {
      "cell_type": "code",
      "metadata": {
        "colab": {
          "base_uri": "https://localhost:8080/"
        },
        "id": "UmSo26MYFh5H",
        "outputId": "6c9279fd-8580-4d80-dae6-3c116431f922"
      },
      "source": [
        "apache.show(5, False)"
      ],
      "execution_count": 12,
      "outputs": [
        {
          "output_type": "stream",
          "text": [
            "+-----------------------------------------------------------------+-----+\n",
            "|referer                                                          |count|\n",
            "+-----------------------------------------------------------------+-----+\n",
            "|\"http://semicomplete.com/presentations/logstash-puppetconf-2012/\"|689  |\n",
            "|\"http://www.semicomplete.com/projects/xdotool/\"                  |656  |\n",
            "|\"http://semicomplete.com/presentations/logstash-scale11x/\"       |406  |\n",
            "|\"http://www.semicomplete.com/articles/dynamic-dns-with-dhcp/\"    |335  |\n",
            "|\"http://www.semicomplete.com/\"                                   |228  |\n",
            "+-----------------------------------------------------------------+-----+\n",
            "only showing top 5 rows\n",
            "\n"
          ],
          "name": "stdout"
        }
      ]
    },
    {
      "cell_type": "code",
      "metadata": {
        "id": "SaxtHnKx1_VA"
      },
      "source": [
        "expression = r'.*\\.html\"$'\n",
        "apache_ref = apache.filter(apache[\"referer\"].rlike(expression)).sort(desc('count')).limit(10)"
      ],
      "execution_count": 13,
      "outputs": []
    },
    {
      "cell_type": "code",
      "metadata": {
        "colab": {
          "base_uri": "https://localhost:8080/"
        },
        "id": "hSEqNxIhG1BM",
        "outputId": "f46030f9-7fb2-434e-ecd9-20c903e7fea5"
      },
      "source": [
        "apache_ref.show(10, False)"
      ],
      "execution_count": 14,
      "outputs": [
        {
          "output_type": "stream",
          "text": [
            "+---------------------------------------------------------------------------------------+-----+\n",
            "|referer                                                                                |count|\n",
            "+---------------------------------------------------------------------------------------+-----+\n",
            "|\"http://www.semicomplete.com/blog/geekery/ssl-latency.html\"                            |144  |\n",
            "|\"http://www.semicomplete.com/blog/geekery/debugging-java-performance.html\"             |65   |\n",
            "|\"http://www.semicomplete.com/blog/geekery/xvfb-firefox.html\"                           |49   |\n",
            "|\"http://semicomplete.com/blog/geekery/xvfb-firefox.html\"                               |46   |\n",
            "|\"http://www.semicomplete.com/files/xdotool/docs/html/xdo_8h.html\"                      |26   |\n",
            "|\"http://www.semicomplete.com/blog/geekery/disabling-battery-in-ubuntu-vms.html\"        |21   |\n",
            "|\"http://www.semicomplete.com/blog/geekery/headless-wrapper-for-ephemeral-xservers.html\"|20   |\n",
            "|\"http://www.semicomplete.com/blog/geekery/xsendevent-xdotool-and-ld_preload.html\"      |19   |\n",
            "|\"http://www.semicomplete.com/blog/geekery/bypassing-captive-portals.html\"              |16   |\n",
            "|\"http://semicomplete.com/blog/geekery/headless-wrapper-for-ephemeral-xservers.html\"    |16   |\n",
            "+---------------------------------------------------------------------------------------+-----+\n",
            "\n"
          ],
          "name": "stdout"
        }
      ]
    },
    {
      "cell_type": "markdown",
      "metadata": {
        "id": "xMFP-NLGNnGT"
      },
      "source": [
        "### View"
      ]
    },
    {
      "cell_type": "code",
      "metadata": {
        "colab": {
          "base_uri": "https://localhost:8080/",
          "height": 637
        },
        "id": "W8n6uDiLHJM9",
        "outputId": "b280d3df-ffa9-406b-8a7c-8e280558af3f"
      },
      "source": [
        "fig = px.bar(apache_ref.toPandas(), x='referer', y='count',\n",
        "             labels={'count': 'Número de acessos', 'referer': ''})\n",
        "\n",
        "fig.update_layout(height=600, width=1200)\n",
        "                  \n",
        "fig.show()"
      ],
      "execution_count": 15,
      "outputs": [
        {
          "output_type": "display_data",
          "data": {
            "text/html": [
              "<html>\n",
              "<head><meta charset=\"utf-8\" /></head>\n",
              "<body>\n",
              "    <div>            <script src=\"https://cdnjs.cloudflare.com/ajax/libs/mathjax/2.7.5/MathJax.js?config=TeX-AMS-MML_SVG\"></script><script type=\"text/javascript\">if (window.MathJax) {MathJax.Hub.Config({SVG: {font: \"STIX-Web\"}});}</script>                <script type=\"text/javascript\">window.PlotlyConfig = {MathJaxConfig: 'local'};</script>\n",
              "        <script src=\"https://cdn.plot.ly/plotly-latest.min.js\"></script>                <div id=\"501228ee-d823-4700-9f93-dbfa0975c1f7\" class=\"plotly-graph-div\" style=\"height:600px; width:1200px;\"></div>            <script type=\"text/javascript\">                                    window.PLOTLYENV=window.PLOTLYENV || {};                                    if (document.getElementById(\"501228ee-d823-4700-9f93-dbfa0975c1f7\")) {                    Plotly.newPlot(                        \"501228ee-d823-4700-9f93-dbfa0975c1f7\",                        [{\"alignmentgroup\": \"True\", \"hovertemplate\": \"=%{x}<br>N\\u00famero de acessos=%{y}<extra></extra>\", \"legendgroup\": \"\", \"marker\": {\"color\": \"#636efa\"}, \"name\": \"\", \"offsetgroup\": \"\", \"orientation\": \"v\", \"showlegend\": false, \"textposition\": \"auto\", \"type\": \"bar\", \"x\": [\"\\\"http://www.semicomplete.com/blog/geekery/ssl-latency.html\\\"\", \"\\\"http://www.semicomplete.com/blog/geekery/debugging-java-performance.html\\\"\", \"\\\"http://www.semicomplete.com/blog/geekery/xvfb-firefox.html\\\"\", \"\\\"http://semicomplete.com/blog/geekery/xvfb-firefox.html\\\"\", \"\\\"http://www.semicomplete.com/files/xdotool/docs/html/xdo_8h.html\\\"\", \"\\\"http://www.semicomplete.com/blog/geekery/disabling-battery-in-ubuntu-vms.html\\\"\", \"\\\"http://www.semicomplete.com/blog/geekery/headless-wrapper-for-ephemeral-xservers.html\\\"\", \"\\\"http://www.semicomplete.com/blog/geekery/xsendevent-xdotool-and-ld_preload.html\\\"\", \"\\\"http://semicomplete.com/blog/geekery/headless-wrapper-for-ephemeral-xservers.html\\\"\", \"\\\"http://www.semicomplete.com/blog/geekery/bypassing-captive-portals.html\\\"\"], \"xaxis\": \"x\", \"y\": [144, 65, 49, 46, 26, 21, 20, 19, 16, 16], \"yaxis\": \"y\"}],                        {\"barmode\": \"relative\", \"height\": 600, \"legend\": {\"tracegroupgap\": 0}, \"margin\": {\"t\": 60}, \"template\": {\"data\": {\"bar\": [{\"error_x\": {\"color\": \"#2a3f5f\"}, \"error_y\": {\"color\": \"#2a3f5f\"}, \"marker\": {\"line\": {\"color\": \"#E5ECF6\", \"width\": 0.5}}, \"type\": \"bar\"}], \"barpolar\": [{\"marker\": {\"line\": {\"color\": \"#E5ECF6\", \"width\": 0.5}}, \"type\": \"barpolar\"}], \"carpet\": [{\"aaxis\": {\"endlinecolor\": \"#2a3f5f\", \"gridcolor\": \"white\", \"linecolor\": \"white\", \"minorgridcolor\": \"white\", \"startlinecolor\": \"#2a3f5f\"}, \"baxis\": {\"endlinecolor\": \"#2a3f5f\", \"gridcolor\": \"white\", \"linecolor\": \"white\", \"minorgridcolor\": \"white\", \"startlinecolor\": \"#2a3f5f\"}, \"type\": \"carpet\"}], \"choropleth\": [{\"colorbar\": {\"outlinewidth\": 0, \"ticks\": \"\"}, \"type\": \"choropleth\"}], \"contour\": [{\"colorbar\": {\"outlinewidth\": 0, \"ticks\": \"\"}, \"colorscale\": [[0.0, \"#0d0887\"], [0.1111111111111111, \"#46039f\"], [0.2222222222222222, \"#7201a8\"], [0.3333333333333333, \"#9c179e\"], [0.4444444444444444, \"#bd3786\"], [0.5555555555555556, \"#d8576b\"], [0.6666666666666666, \"#ed7953\"], [0.7777777777777778, \"#fb9f3a\"], [0.8888888888888888, \"#fdca26\"], [1.0, \"#f0f921\"]], \"type\": \"contour\"}], \"contourcarpet\": [{\"colorbar\": {\"outlinewidth\": 0, \"ticks\": \"\"}, \"type\": \"contourcarpet\"}], \"heatmap\": [{\"colorbar\": {\"outlinewidth\": 0, \"ticks\": \"\"}, \"colorscale\": [[0.0, \"#0d0887\"], [0.1111111111111111, \"#46039f\"], [0.2222222222222222, \"#7201a8\"], [0.3333333333333333, \"#9c179e\"], [0.4444444444444444, \"#bd3786\"], [0.5555555555555556, \"#d8576b\"], [0.6666666666666666, \"#ed7953\"], [0.7777777777777778, \"#fb9f3a\"], [0.8888888888888888, \"#fdca26\"], [1.0, \"#f0f921\"]], \"type\": \"heatmap\"}], \"heatmapgl\": [{\"colorbar\": {\"outlinewidth\": 0, \"ticks\": \"\"}, \"colorscale\": [[0.0, \"#0d0887\"], [0.1111111111111111, \"#46039f\"], [0.2222222222222222, \"#7201a8\"], [0.3333333333333333, \"#9c179e\"], [0.4444444444444444, \"#bd3786\"], [0.5555555555555556, \"#d8576b\"], [0.6666666666666666, \"#ed7953\"], [0.7777777777777778, \"#fb9f3a\"], [0.8888888888888888, \"#fdca26\"], [1.0, \"#f0f921\"]], \"type\": \"heatmapgl\"}], \"histogram\": [{\"marker\": {\"colorbar\": {\"outlinewidth\": 0, \"ticks\": \"\"}}, \"type\": \"histogram\"}], \"histogram2d\": [{\"colorbar\": {\"outlinewidth\": 0, \"ticks\": \"\"}, \"colorscale\": [[0.0, \"#0d0887\"], [0.1111111111111111, \"#46039f\"], [0.2222222222222222, \"#7201a8\"], [0.3333333333333333, \"#9c179e\"], [0.4444444444444444, \"#bd3786\"], [0.5555555555555556, \"#d8576b\"], [0.6666666666666666, \"#ed7953\"], [0.7777777777777778, \"#fb9f3a\"], [0.8888888888888888, \"#fdca26\"], [1.0, \"#f0f921\"]], \"type\": \"histogram2d\"}], \"histogram2dcontour\": [{\"colorbar\": {\"outlinewidth\": 0, \"ticks\": \"\"}, \"colorscale\": [[0.0, \"#0d0887\"], [0.1111111111111111, \"#46039f\"], [0.2222222222222222, \"#7201a8\"], [0.3333333333333333, \"#9c179e\"], [0.4444444444444444, \"#bd3786\"], [0.5555555555555556, \"#d8576b\"], [0.6666666666666666, \"#ed7953\"], [0.7777777777777778, \"#fb9f3a\"], [0.8888888888888888, \"#fdca26\"], [1.0, \"#f0f921\"]], \"type\": \"histogram2dcontour\"}], \"mesh3d\": [{\"colorbar\": {\"outlinewidth\": 0, \"ticks\": \"\"}, \"type\": \"mesh3d\"}], \"parcoords\": [{\"line\": {\"colorbar\": {\"outlinewidth\": 0, \"ticks\": \"\"}}, \"type\": \"parcoords\"}], \"pie\": [{\"automargin\": true, \"type\": \"pie\"}], \"scatter\": [{\"marker\": {\"colorbar\": {\"outlinewidth\": 0, \"ticks\": \"\"}}, \"type\": \"scatter\"}], \"scatter3d\": [{\"line\": {\"colorbar\": {\"outlinewidth\": 0, \"ticks\": \"\"}}, \"marker\": {\"colorbar\": {\"outlinewidth\": 0, \"ticks\": \"\"}}, \"type\": \"scatter3d\"}], \"scattercarpet\": [{\"marker\": {\"colorbar\": {\"outlinewidth\": 0, \"ticks\": \"\"}}, \"type\": \"scattercarpet\"}], \"scattergeo\": [{\"marker\": {\"colorbar\": {\"outlinewidth\": 0, \"ticks\": \"\"}}, \"type\": \"scattergeo\"}], \"scattergl\": [{\"marker\": {\"colorbar\": {\"outlinewidth\": 0, \"ticks\": \"\"}}, \"type\": \"scattergl\"}], \"scattermapbox\": [{\"marker\": {\"colorbar\": {\"outlinewidth\": 0, \"ticks\": \"\"}}, \"type\": \"scattermapbox\"}], \"scatterpolar\": [{\"marker\": {\"colorbar\": {\"outlinewidth\": 0, \"ticks\": \"\"}}, \"type\": \"scatterpolar\"}], \"scatterpolargl\": [{\"marker\": {\"colorbar\": {\"outlinewidth\": 0, \"ticks\": \"\"}}, \"type\": \"scatterpolargl\"}], \"scatterternary\": [{\"marker\": {\"colorbar\": {\"outlinewidth\": 0, \"ticks\": \"\"}}, \"type\": \"scatterternary\"}], \"surface\": [{\"colorbar\": {\"outlinewidth\": 0, \"ticks\": \"\"}, \"colorscale\": [[0.0, \"#0d0887\"], [0.1111111111111111, \"#46039f\"], [0.2222222222222222, \"#7201a8\"], [0.3333333333333333, \"#9c179e\"], [0.4444444444444444, \"#bd3786\"], [0.5555555555555556, \"#d8576b\"], [0.6666666666666666, \"#ed7953\"], [0.7777777777777778, \"#fb9f3a\"], [0.8888888888888888, \"#fdca26\"], [1.0, \"#f0f921\"]], \"type\": \"surface\"}], \"table\": [{\"cells\": {\"fill\": {\"color\": \"#EBF0F8\"}, \"line\": {\"color\": \"white\"}}, \"header\": {\"fill\": {\"color\": \"#C8D4E3\"}, \"line\": {\"color\": \"white\"}}, \"type\": \"table\"}]}, \"layout\": {\"annotationdefaults\": {\"arrowcolor\": \"#2a3f5f\", \"arrowhead\": 0, \"arrowwidth\": 1}, \"autotypenumbers\": \"strict\", \"coloraxis\": {\"colorbar\": {\"outlinewidth\": 0, \"ticks\": \"\"}}, \"colorscale\": {\"diverging\": [[0, \"#8e0152\"], [0.1, \"#c51b7d\"], [0.2, \"#de77ae\"], [0.3, \"#f1b6da\"], [0.4, \"#fde0ef\"], [0.5, \"#f7f7f7\"], [0.6, \"#e6f5d0\"], [0.7, \"#b8e186\"], [0.8, \"#7fbc41\"], [0.9, \"#4d9221\"], [1, \"#276419\"]], \"sequential\": [[0.0, \"#0d0887\"], [0.1111111111111111, \"#46039f\"], [0.2222222222222222, \"#7201a8\"], [0.3333333333333333, \"#9c179e\"], [0.4444444444444444, \"#bd3786\"], [0.5555555555555556, \"#d8576b\"], [0.6666666666666666, \"#ed7953\"], [0.7777777777777778, \"#fb9f3a\"], [0.8888888888888888, \"#fdca26\"], [1.0, \"#f0f921\"]], \"sequentialminus\": [[0.0, \"#0d0887\"], [0.1111111111111111, \"#46039f\"], [0.2222222222222222, \"#7201a8\"], [0.3333333333333333, \"#9c179e\"], [0.4444444444444444, \"#bd3786\"], [0.5555555555555556, \"#d8576b\"], [0.6666666666666666, \"#ed7953\"], [0.7777777777777778, \"#fb9f3a\"], [0.8888888888888888, \"#fdca26\"], [1.0, \"#f0f921\"]]}, \"colorway\": [\"#636efa\", \"#EF553B\", \"#00cc96\", \"#ab63fa\", \"#FFA15A\", \"#19d3f3\", \"#FF6692\", \"#B6E880\", \"#FF97FF\", \"#FECB52\"], \"font\": {\"color\": \"#2a3f5f\"}, \"geo\": {\"bgcolor\": \"white\", \"lakecolor\": \"white\", \"landcolor\": \"#E5ECF6\", \"showlakes\": true, \"showland\": true, \"subunitcolor\": \"white\"}, \"hoverlabel\": {\"align\": \"left\"}, \"hovermode\": \"closest\", \"mapbox\": {\"style\": \"light\"}, \"paper_bgcolor\": \"white\", \"plot_bgcolor\": \"#E5ECF6\", \"polar\": {\"angularaxis\": {\"gridcolor\": \"white\", \"linecolor\": \"white\", \"ticks\": \"\"}, \"bgcolor\": \"#E5ECF6\", \"radialaxis\": {\"gridcolor\": \"white\", \"linecolor\": \"white\", \"ticks\": \"\"}}, \"scene\": {\"xaxis\": {\"backgroundcolor\": \"#E5ECF6\", \"gridcolor\": \"white\", \"gridwidth\": 2, \"linecolor\": \"white\", \"showbackground\": true, \"ticks\": \"\", \"zerolinecolor\": \"white\"}, \"yaxis\": {\"backgroundcolor\": \"#E5ECF6\", \"gridcolor\": \"white\", \"gridwidth\": 2, \"linecolor\": \"white\", \"showbackground\": true, \"ticks\": \"\", \"zerolinecolor\": \"white\"}, \"zaxis\": {\"backgroundcolor\": \"#E5ECF6\", \"gridcolor\": \"white\", \"gridwidth\": 2, \"linecolor\": \"white\", \"showbackground\": true, \"ticks\": \"\", \"zerolinecolor\": \"white\"}}, \"shapedefaults\": {\"line\": {\"color\": \"#2a3f5f\"}}, \"ternary\": {\"aaxis\": {\"gridcolor\": \"white\", \"linecolor\": \"white\", \"ticks\": \"\"}, \"baxis\": {\"gridcolor\": \"white\", \"linecolor\": \"white\", \"ticks\": \"\"}, \"bgcolor\": \"#E5ECF6\", \"caxis\": {\"gridcolor\": \"white\", \"linecolor\": \"white\", \"ticks\": \"\"}}, \"title\": {\"x\": 0.05}, \"xaxis\": {\"automargin\": true, \"gridcolor\": \"white\", \"linecolor\": \"white\", \"ticks\": \"\", \"title\": {\"standoff\": 15}, \"zerolinecolor\": \"white\", \"zerolinewidth\": 2}, \"yaxis\": {\"automargin\": true, \"gridcolor\": \"white\", \"linecolor\": \"white\", \"ticks\": \"\", \"title\": {\"standoff\": 15}, \"zerolinecolor\": \"white\", \"zerolinewidth\": 2}}}, \"width\": 1200, \"xaxis\": {\"anchor\": \"y\", \"domain\": [0.0, 1.0], \"title\": {\"text\": \"\"}}, \"yaxis\": {\"anchor\": \"x\", \"domain\": [0.0, 1.0], \"title\": {\"text\": \"N\\u00famero de acessos\"}}},                        {\"responsive\": true}                    ).then(function(){\n",
              "                            \n",
              "var gd = document.getElementById('501228ee-d823-4700-9f93-dbfa0975c1f7');\n",
              "var x = new MutationObserver(function (mutations, observer) {{\n",
              "        var display = window.getComputedStyle(gd).display;\n",
              "        if (!display || display === 'none') {{\n",
              "            console.log([gd, 'removed!']);\n",
              "            Plotly.purge(gd);\n",
              "            observer.disconnect();\n",
              "        }}\n",
              "}});\n",
              "\n",
              "// Listen for the removal of the full notebook cells\n",
              "var notebookContainer = gd.closest('#notebook-container');\n",
              "if (notebookContainer) {{\n",
              "    x.observe(notebookContainer, {childList: true});\n",
              "}}\n",
              "\n",
              "// Listen for the clearing of the current output cell\n",
              "var outputEl = gd.closest('.output');\n",
              "if (outputEl) {{\n",
              "    x.observe(outputEl, {childList: true});\n",
              "}}\n",
              "\n",
              "                        })                };                            </script>        </div>\n",
              "</body>\n",
              "</html>"
            ]
          },
          "metadata": {
            "tags": []
          }
        }
      ]
    },
    {
      "cell_type": "code",
      "metadata": {
        "id": "yiKEN3WAHI-X"
      },
      "source": [
        ""
      ],
      "execution_count": 15,
      "outputs": []
    },
    {
      "cell_type": "code",
      "metadata": {
        "id": "VErdWmzzHIPu"
      },
      "source": [
        ""
      ],
      "execution_count": 15,
      "outputs": []
    },
    {
      "cell_type": "markdown",
      "metadata": {
        "id": "KL7cnFW-7dIn"
      },
      "source": [
        "### Referências\n",
        "\n",
        "1. https://docs.databricks.com/data/databricks-file-system.html\n",
        "2. https://movile.blog/introducao-a-spark-usando-o-google-colab/\n",
        "3. https://stackoverflow.com/questions/39235704/split-spark-dataframe-string-column-into-multiple-columns/51680292\n",
        "4. https://sparkbyexamples.com/pyspark/pyspark-udf-user-defined-function/#:~:text=PySpark%20UDF%20is%20a%20User,the%20udf()%20is%20StringType.\n"
      ]
    }
  ]
}