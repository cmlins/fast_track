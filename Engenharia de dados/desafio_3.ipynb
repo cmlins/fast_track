{
  "nbformat": 4,
  "nbformat_minor": 0,
  "metadata": {
    "colab": {
      "name": "desafio_3.ipynb",
      "provenance": [],
      "authorship_tag": "ABX9TyOvAEn73HRkSSuhnrNx766y",
      "include_colab_link": true
    },
    "kernelspec": {
      "name": "python3",
      "display_name": "Python 3"
    },
    "language_info": {
      "name": "python"
    }
  },
  "cells": [
    {
      "cell_type": "markdown",
      "metadata": {
        "id": "view-in-github",
        "colab_type": "text"
      },
      "source": [
        "<a href=\"https://colab.research.google.com/github/cmlins/fast_track/blob/main/Engenharia%20de%20dados/desafio_3.ipynb\" target=\"_parent\"><img src=\"https://colab.research.google.com/assets/colab-badge.svg\" alt=\"Open In Colab\"/></a>"
      ]
    },
    {
      "cell_type": "code",
      "metadata": {
        "id": "xOR0ghe54tZu"
      },
      "source": [
        "# Instala bibliotecas necessárias\n",
        "\n",
        "!pip install --upgrade plotly\n",
        "!pip install pyspark"
      ],
      "execution_count": null,
      "outputs": []
    },
    {
      "cell_type": "code",
      "metadata": {
        "id": "cNptRoHv4svV"
      },
      "source": [
        "# import das bibliotecas usadas\n",
        "\n",
        "import pandas as pd\n",
        "import numpy as np\n",
        "import pyspark\n",
        "from pyspark.sql import SparkSession, Row\n",
        "from pyspark.sql.functions import isnan, when, count, col, isnull, asc, desc, mean, sum, lit, format_string, concat\n",
        "\n",
        "import plotly.express as px"
      ],
      "execution_count": 6,
      "outputs": []
    },
    {
      "cell_type": "code",
      "metadata": {
        "id": "xePvgEg-5NaL"
      },
      "source": [
        "# Cria uma sessão spark\n",
        "spark = SparkSession.builder.master('local').appName('DataWrangling').getOrCreate()\n",
        "\n",
        "# Configura para que a visualização das saídas seja similar ao Pandas\n",
        "spark.conf.set('spark.sql.repl.eagerEval.enabled', True)\n",
        "\n",
        "sc = spark.sparkContext"
      ],
      "execution_count": 7,
      "outputs": []
    },
    {
      "cell_type": "markdown",
      "metadata": {
        "id": "UTyu2af22ida"
      },
      "source": [
        "### Download\n",
        "\n",
        "Fazer o download do [arquivo de log](https://github.com/elastic/examples/raw/master/Common%20Data%20Formats/apache_logs/apache_logs) do servidor Apache"
      ]
    },
    {
      "cell_type": "code",
      "metadata": {
        "colab": {
          "base_uri": "https://localhost:8080/"
        },
        "id": "iDrOSFI1wIgp",
        "outputId": "96e16b1f-6210-47cc-a5f5-201fa951c95a"
      },
      "source": [
        "!wget https://github.com/elastic/examples/raw/master/Common%20Data%20Formats/apache_logs/apache_logs"
      ],
      "execution_count": 4,
      "outputs": [
        {
          "output_type": "stream",
          "text": [
            "--2021-05-17 19:41:53--  https://github.com/elastic/examples/raw/master/Common%20Data%20Formats/apache_logs/apache_logs\n",
            "Resolving github.com (github.com)... 140.82.112.3\n",
            "Connecting to github.com (github.com)|140.82.112.3|:443... connected.\n",
            "HTTP request sent, awaiting response... 302 Found\n",
            "Location: https://raw.githubusercontent.com/elastic/examples/master/Common%20Data%20Formats/apache_logs/apache_logs [following]\n",
            "--2021-05-17 19:41:53--  https://raw.githubusercontent.com/elastic/examples/master/Common%20Data%20Formats/apache_logs/apache_logs\n",
            "Resolving raw.githubusercontent.com (raw.githubusercontent.com)... 185.199.108.133, 185.199.109.133, 185.199.110.133, ...\n",
            "Connecting to raw.githubusercontent.com (raw.githubusercontent.com)|185.199.108.133|:443... connected.\n",
            "HTTP request sent, awaiting response... 200 OK\n",
            "Length: 2370789 (2.3M) [text/plain]\n",
            "Saving to: ‘apache_logs’\n",
            "\n",
            "apache_logs         100%[===================>]   2.26M  --.-KB/s    in 0.03s   \n",
            "\n",
            "2021-05-17 19:41:53 (67.5 MB/s) - ‘apache_logs’ saved [2370789/2370789]\n",
            "\n"
          ],
          "name": "stdout"
        }
      ]
    },
    {
      "cell_type": "markdown",
      "metadata": {
        "id": "ZE3tFWg93CFl"
      },
      "source": [
        "### Import\n",
        "\n",
        " Envia o log para o [sistema de arquivos distribuído](https://docs.databricks.com/data/databricks-file-system.html)\n",
        " "
      ]
    },
    {
      "cell_type": "code",
      "metadata": {
        "id": "zh9N7DnQyAvN"
      },
      "source": [
        "/content/apache_logs"
      ],
      "execution_count": null,
      "outputs": []
    },
    {
      "cell_type": "markdown",
      "metadata": {
        "id": "KL7cnFW-7dIn"
      },
      "source": [
        "1. https://movile.blog/introducao-a-spark-usando-o-google-colab/"
      ]
    },
    {
      "cell_type": "code",
      "metadata": {
        "id": "Vzo851uO7eBb"
      },
      "source": [
        ""
      ],
      "execution_count": null,
      "outputs": []
    }
  ]
}