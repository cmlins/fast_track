{
 "metadata": {
  "language_info": {
   "codemirror_mode": {
    "name": "ipython",
    "version": 3
   },
   "file_extension": ".py",
   "mimetype": "text/x-python",
   "name": "python",
   "nbconvert_exporter": "python",
   "pygments_lexer": "ipython3",
   "version": "3.9.5-final"
  },
  "orig_nbformat": 2,
  "kernelspec": {
   "name": "python3",
   "display_name": "Python 3.9.5 64-bit",
   "metadata": {
    "interpreter": {
     "hash": "80f86b25897c9ef6df09b78df6c4287c2aab8ff183948276f95a4705cf536b45"
    }
   }
  }
 },
 "nbformat": 4,
 "nbformat_minor": 2,
 "cells": [
  {
   "source": [
    "# Conjuntos (sets)\n",
    "em Python, conjuntos não tem elementos repetidos"
   ],
   "cell_type": "markdown",
   "metadata": {}
  },
  {
   "cell_type": "code",
   "execution_count": 1,
   "metadata": {},
   "outputs": [
    {
     "output_type": "execute_result",
     "data": {
      "text/plain": [
       "8"
      ]
     },
     "metadata": {},
     "execution_count": 1
    }
   ],
   "source": [
    "watched = [15, 23, 43, 56, 13, 23, 56, 42]\n",
    "\n",
    "len(watched)"
   ]
  },
  {
   "cell_type": "code",
   "execution_count": 2,
   "metadata": {},
   "outputs": [
    {
     "output_type": "execute_result",
     "data": {
      "text/plain": [
       "{13, 15, 23, 42, 43, 56}"
      ]
     },
     "metadata": {},
     "execution_count": 2
    }
   ],
   "source": [
    "set(watched)"
   ]
  },
  {
   "cell_type": "code",
   "execution_count": 3,
   "metadata": {},
   "outputs": [
    {
     "output_type": "execute_result",
     "data": {
      "text/plain": [
       "{13, 15, 23, 42, 43, 56}"
      ]
     },
     "metadata": {},
     "execution_count": 3
    }
   ],
   "source": [
    "{15, 23, 43, 56, 13, 23, 56, 42}"
   ]
  },
  {
   "cell_type": "code",
   "execution_count": 4,
   "metadata": {},
   "outputs": [],
   "source": [
    "users_ds = {15, 23, 43, 56}\n",
    "users_ml = {13, 23, 56, 42}"
   ]
  },
  {
   "source": [
    "Utilizar o | para juntar conjuntos"
   ],
   "cell_type": "markdown",
   "metadata": {}
  },
  {
   "cell_type": "code",
   "execution_count": 5,
   "metadata": {},
   "outputs": [
    {
     "output_type": "execute_result",
     "data": {
      "text/plain": [
       "{13, 15, 23, 42, 43, 56}"
      ]
     },
     "metadata": {},
     "execution_count": 5
    }
   ],
   "source": [
    "users_ds | users_ml"
   ]
  },
  {
   "source": [
    "Utilizar o & para juntar apenas números que estão no mesmo conjunto"
   ],
   "cell_type": "markdown",
   "metadata": {}
  },
  {
   "cell_type": "code",
   "execution_count": 6,
   "metadata": {},
   "outputs": [
    {
     "output_type": "execute_result",
     "data": {
      "text/plain": [
       "{23, 56}"
      ]
     },
     "metadata": {},
     "execution_count": 6
    }
   ],
   "source": [
    "users_ds & users_ml"
   ]
  },
  {
   "source": [
    "Utilizar o - para remover números repetidos que estão no em dois conjuntos"
   ],
   "cell_type": "markdown",
   "metadata": {}
  },
  {
   "cell_type": "code",
   "execution_count": 7,
   "metadata": {},
   "outputs": [
    {
     "output_type": "execute_result",
     "data": {
      "text/plain": [
       "{15, 43}"
      ]
     },
     "metadata": {},
     "execution_count": 7
    }
   ],
   "source": [
    "users_ds - users_ml"
   ]
  },
  {
   "source": [
    "O que é ou (^) exclusivo"
   ],
   "cell_type": "markdown",
   "metadata": {}
  },
  {
   "cell_type": "code",
   "execution_count": 9,
   "metadata": {},
   "outputs": [
    {
     "output_type": "execute_result",
     "data": {
      "text/plain": [
       "{13, 15, 42, 43}"
      ]
     },
     "metadata": {},
     "execution_count": 9
    }
   ],
   "source": [
    "users_ds ^ users_ml"
   ]
  },
  {
   "source": [
    "### frozenset --> congela um conjunto"
   ],
   "cell_type": "markdown",
   "metadata": {}
  },
  {
   "cell_type": "code",
   "execution_count": 16,
   "metadata": {},
   "outputs": [
    {
     "output_type": "stream",
     "name": "stdout",
     "text": [
      "['Se', 'aproveitou', 'do', 'discurso', 'da', 'homoafetividade', 'com', 'o', 'intuito', 'egoístico', 'que', 'transcendem', 'a', 'normalidade', 'dos', 'fatos.', 'Se', 'aproveitou', 'do', 'discurso', 'da', 'mulher', 'branca', 'socialmente', 'privilegiada,', 'em', 'detrimento', 'da', 'pauta', 'antirracial', 'cujos', 'fenótipos', 'nunca', 'serão', 'sobrepujados', 'em', 'detrimento', 'dos', 'negros.', 'Se', 'apropriou', 'da', 'comunidade', 'LGBTQIA+', 'no', 'contexto', 'civilizacional', 'contemporâneo', 'de', 'maneira', 'a', 'dizimar', 'o', 'discurso', 'acolhedor,', 'quizsfazer', 'palco', 'em', 'cima', 'da', 'luta', 'anti-colonialista', 'sendo', 'contraproducente', 'com', 'quem', 'é', 'diferente', 'de', 'você.']\n"
     ]
    },
    {
     "output_type": "execute_result",
     "data": {
      "text/plain": [
       "70"
      ]
     },
     "metadata": {},
     "execution_count": 16
    }
   ],
   "source": [
    "lumena = 'Se aproveitou do discurso da homoafetividade com o intuito egoístico que transcendem a normalidade dos fatos. Se aproveitou do discurso da mulher branca socialmente privilegiada, em detrimento da pauta antirracial cujos fenótipos nunca serão sobrepujados em detrimento dos negros. Se apropriou da comunidade LGBTQIA+ no contexto civilizacional contemporâneo de maneira a dizimar o discurso acolhedor, quizsfazer palco em cima da luta anti-colonialista sendo contraproducente com quem é diferente de você.'\n",
    "\n",
    "lumena_split = lumena.split(' ')\n",
    "print(lumena_split)\n",
    "len(lumena_split)"
   ]
  },
  {
   "cell_type": "code",
   "execution_count": 17,
   "metadata": {},
   "outputs": [
    {
     "output_type": "stream",
     "name": "stdout",
     "text": [
      "{'cujos', 'LGBTQIA+', 'branca', 'normalidade', 'fenótipos', 'discurso', 'egoístico', 'nunca', 'é', 'quizsfazer', 'com', 'que', 'sendo', 'o', 'antirracial', 'você.', 'aproveitou', 'a', 'negros.', 'de', 'contraproducente', 'privilegiada,', 'fatos.', 'serão', 'pauta', 'transcendem', 'intuito', 'da', 'socialmente', 'dizimar', 'Se', 'civilizacional', 'no', 'luta', 'maneira', 'sobrepujados', 'detrimento', 'apropriou', 'em', 'comunidade', 'acolhedor,', 'contemporâneo', 'anti-colonialista', 'contexto', 'cima', 'do', 'diferente', 'homoafetividade', 'palco', 'dos', 'quem', 'mulher'}\n52\n"
     ]
    }
   ],
   "source": [
    "lumena_set = set(lumena_split)\n",
    "print(lumena_set)\n",
    "print(len(lumena_set))"
   ]
  },
  {
   "source": [
    "# Dicionário"
   ],
   "cell_type": "markdown",
   "metadata": {}
  },
  {
   "cell_type": "code",
   "execution_count": 18,
   "metadata": {},
   "outputs": [],
   "source": [
    "aparicoes = {\n",
    "    'Gui': 1,\n",
    "    'cachorro': 2,\n",
    "    'nome': 2,\n",
    "    'vindo': 1\n",
    "}"
   ]
  },
  {
   "cell_type": "code",
   "execution_count": 19,
   "metadata": {},
   "outputs": [
    {
     "output_type": "execute_result",
     "data": {
      "text/plain": [
       "dict"
      ]
     },
     "metadata": {},
     "execution_count": 19
    }
   ],
   "source": [
    "type(aparicoes)"
   ]
  },
  {
   "cell_type": "code",
   "execution_count": 20,
   "metadata": {},
   "outputs": [
    {
     "output_type": "execute_result",
     "data": {
      "text/plain": [
       "1"
      ]
     },
     "metadata": {},
     "execution_count": 20
    }
   ],
   "source": [
    "aparicoes['Gui']"
   ]
  },
  {
   "cell_type": "code",
   "execution_count": 21,
   "metadata": {},
   "outputs": [],
   "source": [
    "aparicoes['Carlos'] = 1"
   ]
  },
  {
   "cell_type": "code",
   "execution_count": 22,
   "metadata": {},
   "outputs": [
    {
     "output_type": "execute_result",
     "data": {
      "text/plain": [
       "{'Gui': 1, 'cachorro': 2, 'nome': 2, 'vindo': 1, 'Carlos': 1}"
      ]
     },
     "metadata": {},
     "execution_count": 22
    }
   ],
   "source": [
    "aparicoes"
   ]
  },
  {
   "cell_type": "code",
   "execution_count": 23,
   "metadata": {},
   "outputs": [],
   "source": [
    "del aparicoes['Carlos']"
   ]
  },
  {
   "cell_type": "code",
   "execution_count": 24,
   "metadata": {},
   "outputs": [
    {
     "output_type": "execute_result",
     "data": {
      "text/plain": [
       "{'Gui': 1, 'cachorro': 2, 'nome': 2, 'vindo': 1}"
      ]
     },
     "metadata": {},
     "execution_count": 24
    }
   ],
   "source": [
    "aparicoes"
   ]
  },
  {
   "cell_type": "code",
   "execution_count": 25,
   "metadata": {},
   "outputs": [
    {
     "output_type": "execute_result",
     "data": {
      "text/plain": [
       "True"
      ]
     },
     "metadata": {},
     "execution_count": 25
    }
   ],
   "source": [
    "'cachorro' in aparicoes"
   ]
  },
  {
   "cell_type": "code",
   "execution_count": 26,
   "metadata": {},
   "outputs": [
    {
     "output_type": "stream",
     "name": "stdout",
     "text": [
      "Gui\ncachorro\nnome\nvindo\n"
     ]
    }
   ],
   "source": [
    "for ele in aparicoes:\n",
    "    print(ele)"
   ]
  },
  {
   "cell_type": "code",
   "execution_count": 27,
   "metadata": {},
   "outputs": [
    {
     "output_type": "stream",
     "name": "stdout",
     "text": [
      "Gui\ncachorro\nnome\nvindo\n"
     ]
    }
   ],
   "source": [
    "for ele in aparicoes.keys():\n",
    "    print(ele)"
   ]
  },
  {
   "cell_type": "code",
   "execution_count": 28,
   "metadata": {},
   "outputs": [
    {
     "output_type": "stream",
     "name": "stdout",
     "text": [
      "1\n2\n2\n1\n"
     ]
    }
   ],
   "source": [
    "for ele in aparicoes.values():\n",
    "    print(ele)"
   ]
  },
  {
   "cell_type": "code",
   "execution_count": 29,
   "metadata": {},
   "outputs": [
    {
     "output_type": "stream",
     "name": "stdout",
     "text": [
      "Gui 1\ncachorro 2\nnome 2\nvindo 1\n"
     ]
    }
   ],
   "source": [
    "for ele in aparicoes.keys():\n",
    "    print(ele, aparicoes[ele])"
   ]
  },
  {
   "cell_type": "code",
   "execution_count": 34,
   "metadata": {},
   "outputs": [],
   "source": [
    "lumena = lumena.lower()\n",
    "\n",
    "aparicoes = {}\n",
    "\n",
    "for palavra in lumena.split():\n",
    "    ate_agora = aparicoes.get(palavra, 0)\n",
    "    aparicoes[palavra] = ate_agora + 1\n",
    "\n",
    "aparicoes"
   ]
  },
  {
   "cell_type": "code",
   "execution_count": 35,
   "metadata": {},
   "outputs": [
    {
     "output_type": "execute_result",
     "data": {
      "text/plain": [
       "{'se': 3,\n",
       " 'aproveitou': 2,\n",
       " 'do': 2,\n",
       " 'discurso': 3,\n",
       " 'da': 5,\n",
       " 'homoafetividade': 1,\n",
       " 'com': 2,\n",
       " 'o': 2,\n",
       " 'intuito': 1,\n",
       " 'egoístico': 1,\n",
       " 'que': 1,\n",
       " 'transcendem': 1,\n",
       " 'a': 2,\n",
       " 'normalidade': 1,\n",
       " 'dos': 2,\n",
       " 'fatos.': 1,\n",
       " 'mulher': 1,\n",
       " 'branca': 1,\n",
       " 'socialmente': 1,\n",
       " 'privilegiada,': 1,\n",
       " 'em': 3,\n",
       " 'detrimento': 2,\n",
       " 'pauta': 1,\n",
       " 'antirracial': 1,\n",
       " 'cujos': 1,\n",
       " 'fenótipos': 1,\n",
       " 'nunca': 1,\n",
       " 'serão': 1,\n",
       " 'sobrepujados': 1,\n",
       " 'negros.': 1,\n",
       " 'apropriou': 1,\n",
       " 'comunidade': 1,\n",
       " 'lgbtqia+': 1,\n",
       " 'no': 1,\n",
       " 'contexto': 1,\n",
       " 'civilizacional': 1,\n",
       " 'contemporâneo': 1,\n",
       " 'de': 2,\n",
       " 'maneira': 1,\n",
       " 'dizimar': 1,\n",
       " 'acolhedor,': 1,\n",
       " 'quizsfazer': 1,\n",
       " 'palco': 1,\n",
       " 'cima': 1,\n",
       " 'luta': 1,\n",
       " 'anti-colonialista': 1,\n",
       " 'sendo': 1,\n",
       " 'contraproducente': 1,\n",
       " 'quem': 1,\n",
       " 'é': 1,\n",
       " 'diferente': 1,\n",
       " 'você.': 1}"
      ]
     },
     "metadata": {},
     "execution_count": 35
    }
   ],
   "source": []
  },
  {
   "cell_type": "code",
   "execution_count": 40,
   "metadata": {},
   "outputs": [
    {
     "output_type": "execute_result",
     "data": {
      "text/plain": [
       "defaultdict(int,\n",
       "            {'se': 3,\n",
       "             'aproveitou': 2,\n",
       "             'do': 2,\n",
       "             'discurso': 3,\n",
       "             'da': 5,\n",
       "             'homoafetividade': 1,\n",
       "             'com': 2,\n",
       "             'o': 2,\n",
       "             'intuito': 1,\n",
       "             'egoístico': 1,\n",
       "             'que': 1,\n",
       "             'transcendem': 1,\n",
       "             'a': 2,\n",
       "             'normalidade': 1,\n",
       "             'dos': 2,\n",
       "             'fatos.': 1,\n",
       "             'mulher': 1,\n",
       "             'branca': 1,\n",
       "             'socialmente': 1,\n",
       "             'privilegiada,': 1,\n",
       "             'em': 3,\n",
       "             'detrimento': 2,\n",
       "             'pauta': 1,\n",
       "             'antirracial': 1,\n",
       "             'cujos': 1,\n",
       "             'fenótipos': 1,\n",
       "             'nunca': 1,\n",
       "             'serão': 1,\n",
       "             'sobrepujados': 1,\n",
       "             'negros.': 1,\n",
       "             'apropriou': 1,\n",
       "             'comunidade': 1,\n",
       "             'lgbtqia+': 1,\n",
       "             'no': 1,\n",
       "             'contexto': 1,\n",
       "             'civilizacional': 1,\n",
       "             'contemporâneo': 1,\n",
       "             'de': 2,\n",
       "             'maneira': 1,\n",
       "             'dizimar': 1,\n",
       "             'acolhedor,': 1,\n",
       "             'quizsfazer': 1,\n",
       "             'palco': 1,\n",
       "             'cima': 1,\n",
       "             'luta': 1,\n",
       "             'anti-colonialista': 1,\n",
       "             'sendo': 1,\n",
       "             'contraproducente': 1,\n",
       "             'quem': 1,\n",
       "             'é': 1,\n",
       "             'diferente': 1,\n",
       "             'você.': 1})"
      ]
     },
     "metadata": {},
     "execution_count": 40
    }
   ],
   "source": [
    "from collections import defaultdict\n",
    "\n",
    "aparicoes = defaultdict(int)\n",
    "\n",
    "for palavra in lumena.split():\n",
    "    aparicoes[palavra] += 1\n",
    "\n",
    "aparicoes"
   ]
  },
  {
   "cell_type": "code",
   "execution_count": 41,
   "metadata": {},
   "outputs": [],
   "source": [
    "class Conta:\n",
    "    def __init__(self):\n",
    "        print(\"criando uma conta nova\")"
   ]
  },
  {
   "cell_type": "code",
   "execution_count": 42,
   "metadata": {},
   "outputs": [
    {
     "output_type": "stream",
     "name": "stdout",
     "text": [
      "criando uma conta nova\n"
     ]
    },
    {
     "output_type": "execute_result",
     "data": {
      "text/plain": [
       "<__main__.Conta at 0x203f4c23f70>"
      ]
     },
     "metadata": {},
     "execution_count": 42
    }
   ],
   "source": [
    "contas = defaultdict(Conta)\n",
    "contas[15]"
   ]
  },
  {
   "cell_type": "code",
   "execution_count": 43,
   "metadata": {},
   "outputs": [
    {
     "output_type": "stream",
     "name": "stdout",
     "text": [
      "criando uma conta nova\n"
     ]
    },
    {
     "output_type": "execute_result",
     "data": {
      "text/plain": [
       "<__main__.Conta at 0x203f536aee0>"
      ]
     },
     "metadata": {},
     "execution_count": 43
    }
   ],
   "source": [
    "contas[17]"
   ]
  },
  {
   "source": [
    "###  defaultdict"
   ],
   "cell_type": "markdown",
   "metadata": {}
  },
  {
   "cell_type": "code",
   "execution_count": 44,
   "metadata": {},
   "outputs": [
    {
     "output_type": "execute_result",
     "data": {
      "text/plain": [
       "Counter({'se': 3,\n",
       "         'aproveitou': 2,\n",
       "         'do': 2,\n",
       "         'discurso': 3,\n",
       "         'da': 5,\n",
       "         'homoafetividade': 1,\n",
       "         'com': 2,\n",
       "         'o': 2,\n",
       "         'intuito': 1,\n",
       "         'egoístico': 1,\n",
       "         'que': 1,\n",
       "         'transcendem': 1,\n",
       "         'a': 2,\n",
       "         'normalidade': 1,\n",
       "         'dos': 2,\n",
       "         'fatos.': 1,\n",
       "         'mulher': 1,\n",
       "         'branca': 1,\n",
       "         'socialmente': 1,\n",
       "         'privilegiada,': 1,\n",
       "         'em': 3,\n",
       "         'detrimento': 2,\n",
       "         'pauta': 1,\n",
       "         'antirracial': 1,\n",
       "         'cujos': 1,\n",
       "         'fenótipos': 1,\n",
       "         'nunca': 1,\n",
       "         'serão': 1,\n",
       "         'sobrepujados': 1,\n",
       "         'negros.': 1,\n",
       "         'apropriou': 1,\n",
       "         'comunidade': 1,\n",
       "         'lgbtqia+': 1,\n",
       "         'no': 1,\n",
       "         'contexto': 1,\n",
       "         'civilizacional': 1,\n",
       "         'contemporâneo': 1,\n",
       "         'de': 2,\n",
       "         'maneira': 1,\n",
       "         'dizimar': 1,\n",
       "         'acolhedor,': 1,\n",
       "         'quizsfazer': 1,\n",
       "         'palco': 1,\n",
       "         'cima': 1,\n",
       "         'luta': 1,\n",
       "         'anti-colonialista': 1,\n",
       "         'sendo': 1,\n",
       "         'contraproducente': 1,\n",
       "         'quem': 1,\n",
       "         'é': 1,\n",
       "         'diferente': 1,\n",
       "         'você.': 1})"
      ]
     },
     "metadata": {},
     "execution_count": 44
    }
   ],
   "source": [
    "from collections import Counter\n",
    "\n",
    "aparicoes = Counter()\n",
    "for palavra in lumena.split():\n",
    "    aparicoes[palavra] += 1\n",
    "\n",
    "aparicoes\n"
   ]
  },
  {
   "cell_type": "code",
   "execution_count": 45,
   "metadata": {},
   "outputs": [
    {
     "output_type": "execute_result",
     "data": {
      "text/plain": [
       "Counter({'se': 3,\n",
       "         'aproveitou': 2,\n",
       "         'do': 2,\n",
       "         'discurso': 3,\n",
       "         'da': 5,\n",
       "         'homoafetividade': 1,\n",
       "         'com': 2,\n",
       "         'o': 2,\n",
       "         'intuito': 1,\n",
       "         'egoístico': 1,\n",
       "         'que': 1,\n",
       "         'transcendem': 1,\n",
       "         'a': 2,\n",
       "         'normalidade': 1,\n",
       "         'dos': 2,\n",
       "         'fatos.': 1,\n",
       "         'mulher': 1,\n",
       "         'branca': 1,\n",
       "         'socialmente': 1,\n",
       "         'privilegiada,': 1,\n",
       "         'em': 3,\n",
       "         'detrimento': 2,\n",
       "         'pauta': 1,\n",
       "         'antirracial': 1,\n",
       "         'cujos': 1,\n",
       "         'fenótipos': 1,\n",
       "         'nunca': 1,\n",
       "         'serão': 1,\n",
       "         'sobrepujados': 1,\n",
       "         'negros.': 1,\n",
       "         'apropriou': 1,\n",
       "         'comunidade': 1,\n",
       "         'lgbtqia+': 1,\n",
       "         'no': 1,\n",
       "         'contexto': 1,\n",
       "         'civilizacional': 1,\n",
       "         'contemporâneo': 1,\n",
       "         'de': 2,\n",
       "         'maneira': 1,\n",
       "         'dizimar': 1,\n",
       "         'acolhedor,': 1,\n",
       "         'quizsfazer': 1,\n",
       "         'palco': 1,\n",
       "         'cima': 1,\n",
       "         'luta': 1,\n",
       "         'anti-colonialista': 1,\n",
       "         'sendo': 1,\n",
       "         'contraproducente': 1,\n",
       "         'quem': 1,\n",
       "         'é': 1,\n",
       "         'diferente': 1,\n",
       "         'você.': 1})"
      ]
     },
     "metadata": {},
     "execution_count": 45
    }
   ],
   "source": [
    "aparicoes = Counter(lumena.split())\n",
    "aparicoes"
   ]
  },
  {
   "source": [
    "# Testando o uso de diversas coleções"
   ],
   "cell_type": "markdown",
   "metadata": {}
  },
  {
   "cell_type": "code",
   "execution_count": 49,
   "metadata": {},
   "outputs": [
    {
     "output_type": "execute_result",
     "data": {
      "text/plain": [
       "504"
      ]
     },
     "metadata": {},
     "execution_count": 49
    }
   ],
   "source": [
    "cont = Counter(lumena)\n",
    "total_cont = sum (cont.values())\n",
    "total_cont"
   ]
  },
  {
   "cell_type": "code",
   "execution_count": 55,
   "metadata": {},
   "outputs": [
    {
     "output_type": "execute_result",
     "data": {
      "text/plain": [
       "[(' ', 0.13690476190476192),\n",
       " ('o', 0.0992063492063492),\n",
       " ('a', 0.0873015873015873),\n",
       " ('e', 0.08531746031746032),\n",
       " ('i', 0.07142857142857142),\n",
       " ('d', 0.05952380952380952),\n",
       " ('r', 0.05357142857142857),\n",
       " ('t', 0.051587301587301584),\n",
       " ('n', 0.051587301587301584),\n",
       " ('s', 0.047619047619047616)]"
      ]
     },
     "metadata": {},
     "execution_count": 55
    }
   ],
   "source": [
    "proporcoes = [(letra, freq / total_cont) for letra, freq in cont.items()]\n",
    "\n",
    "proporcoes = dict(proporcoes)\n",
    "\n",
    "Counter(proporcoes).most_common(10)"
   ]
  },
  {
   "cell_type": "code",
   "execution_count": null,
   "metadata": {},
   "outputs": [],
   "source": []
  }
 ]
}