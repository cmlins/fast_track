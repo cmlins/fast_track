{
 "metadata": {
  "language_info": {
   "codemirror_mode": {
    "name": "ipython",
    "version": 3
   },
   "file_extension": ".py",
   "mimetype": "text/x-python",
   "name": "python",
   "nbconvert_exporter": "python",
   "pygments_lexer": "ipython3",
   "version": "3.9.5-final"
  },
  "orig_nbformat": 2,
  "kernelspec": {
   "name": "python3",
   "display_name": "Python 3.9.5 64-bit",
   "metadata": {
    "interpreter": {
     "hash": "80f86b25897c9ef6df09b78df6c4287c2aab8ff183948276f95a4705cf536b45"
    }
   }
  }
 },
 "nbformat": 4,
 "nbformat_minor": 2,
 "cells": [
  {
   "cell_type": "code",
   "execution_count": 31,
   "metadata": {},
   "outputs": [
    {
     "output_type": "stream",
     "name": "stdout",
     "text": [
      "10 20 30\n"
     ]
    }
   ],
   "source": [
    "idade1 = 10\n",
    "idade2 = 20\n",
    "idade3 = 30\n",
    "\n",
    "print(idade1, idade2, idade3)"
   ]
  },
  {
   "cell_type": "code",
   "execution_count": 32,
   "metadata": {},
   "outputs": [
    {
     "output_type": "execute_result",
     "data": {
      "text/plain": [
       "list"
      ]
     },
     "metadata": {},
     "execution_count": 32
    }
   ],
   "source": [
    "idades = [10, 20, 30]\n",
    "type(idades)"
   ]
  },
  {
   "cell_type": "code",
   "execution_count": 33,
   "metadata": {},
   "outputs": [
    {
     "output_type": "execute_result",
     "data": {
      "text/plain": [
       "False"
      ]
     },
     "metadata": {},
     "execution_count": 33
    }
   ],
   "source": [
    "28 in idades"
   ]
  },
  {
   "cell_type": "code",
   "execution_count": 34,
   "metadata": {},
   "outputs": [
    {
     "output_type": "stream",
     "name": "stdout",
     "text": [
      "[20, 30]\n"
     ]
    }
   ],
   "source": [
    "if 10 in idades:\n",
    "    idades.remove(10)\n",
    "print(idades)"
   ]
  },
  {
   "cell_type": "code",
   "execution_count": 35,
   "metadata": {},
   "outputs": [
    {
     "output_type": "stream",
     "name": "stdout",
     "text": [
      "[20, 35, 30]\n"
     ]
    }
   ],
   "source": [
    "idades.insert(1, 35)\n",
    "print(idades)"
   ]
  },
  {
   "cell_type": "code",
   "execution_count": 36,
   "metadata": {},
   "outputs": [
    {
     "output_type": "stream",
     "name": "stdout",
     "text": [
      "[20, 35, 30, 27, 33]\n"
     ]
    }
   ],
   "source": [
    "idades.extend([27, 33])\n",
    "print(idades)"
   ]
  },
  {
   "cell_type": "code",
   "execution_count": 37,
   "metadata": {},
   "outputs": [
    {
     "output_type": "error",
     "ename": "ValueError",
     "evalue": "list.remove(x): x not in list",
     "traceback": [
      "\u001b[1;31m---------------------------------------------------------------------------\u001b[0m",
      "\u001b[1;31mValueError\u001b[0m                                Traceback (most recent call last)",
      "\u001b[1;32m<ipython-input-37-4031aee1269c>\u001b[0m in \u001b[0;36m<module>\u001b[1;34m\u001b[0m\n\u001b[0;32m      2\u001b[0m \u001b[0mprox_idade\u001b[0m\u001b[1;33m\u001b[0m\u001b[1;33m\u001b[0m\u001b[0m\n\u001b[0;32m      3\u001b[0m \u001b[0mprox_idade\u001b[0m\u001b[1;33m.\u001b[0m\u001b[0mremove\u001b[0m\u001b[1;33m(\u001b[0m\u001b[1;36m36\u001b[0m\u001b[1;33m)\u001b[0m\u001b[1;33m\u001b[0m\u001b[1;33m\u001b[0m\u001b[0m\n\u001b[1;32m----> 4\u001b[1;33m \u001b[0mprox_idade\u001b[0m\u001b[1;33m.\u001b[0m\u001b[0mremove\u001b[0m\u001b[1;33m(\u001b[0m\u001b[1;36m14\u001b[0m\u001b[1;33m)\u001b[0m\u001b[1;33m\u001b[0m\u001b[1;33m\u001b[0m\u001b[0m\n\u001b[0m\u001b[0;32m      5\u001b[0m \u001b[0mprox_idade\u001b[0m\u001b[1;33m.\u001b[0m\u001b[0mremove\u001b[0m\u001b[1;33m(\u001b[0m\u001b[1;36m14\u001b[0m\u001b[1;33m)\u001b[0m\u001b[1;33m\u001b[0m\u001b[1;33m\u001b[0m\u001b[0m\n\u001b[0;32m      6\u001b[0m \u001b[0mprox_idade\u001b[0m\u001b[1;33m.\u001b[0m\u001b[0mremove\u001b[0m\u001b[1;33m(\u001b[0m\u001b[1;36m14\u001b[0m\u001b[1;33m)\u001b[0m\u001b[1;33m\u001b[0m\u001b[1;33m\u001b[0m\u001b[0m\n",
      "\u001b[1;31mValueError\u001b[0m: list.remove(x): x not in list"
     ]
    }
   ],
   "source": [
    "prox_idade = [idade+1 for idade in idades]\n",
    "prox_idade\n",
    "prox_idade.remove(36)\n",
    "prox_idade.remove(14)\n",
    "prox_idade.remove(14)\n",
    "prox_idade.remove(14)\n",
    "prox_idade.remove(14)\n",
    "prox_idade\n"
   ]
  },
  {
   "cell_type": "code",
   "execution_count": 32,
   "metadata": {},
   "outputs": [],
   "source": [
    "def processa_visalizacao(lista = None):\n",
    "    if(lista == None):\n",
    "       lista = list()\n",
    "    print(len(lista))\n",
    "    lista.append(13)\n",
    "    print(lista)"
   ]
  },
  {
   "cell_type": "code",
   "execution_count": 28,
   "metadata": {},
   "outputs": [
    {
     "output_type": "stream",
     "name": "stdout",
     "text": [
      "0\n[13]\n"
     ]
    }
   ],
   "source": [
    "processa_visalizacao()"
   ]
  },
  {
   "source": [
    "# Objetos Próprios"
   ],
   "cell_type": "markdown",
   "metadata": {}
  },
  {
   "cell_type": "code",
   "execution_count": 85,
   "metadata": {},
   "outputs": [],
   "source": [
    "class Conta:\n",
    "\n",
    "    def __init__(self, codigo):\n",
    "        self.__codigo = codigo\n",
    "        self.__saldo = 0\n",
    "\n",
    "    def deposita(self, valor):\n",
    "        self.__saldo += valor\n",
    "\n",
    "    def __str__(self):\n",
    "        return f'Código {self.__codigo} Saldo {self.__saldo}'\n"
   ]
  },
  {
   "cell_type": "code",
   "execution_count": 86,
   "metadata": {},
   "outputs": [
    {
     "output_type": "stream",
     "name": "stdout",
     "text": [
      "Código 15 Saldo 0\n"
     ]
    }
   ],
   "source": [
    "conta_gui = Conta(15)\n",
    "print(conta_gui)"
   ]
  },
  {
   "cell_type": "code",
   "execution_count": 87,
   "metadata": {},
   "outputs": [
    {
     "output_type": "stream",
     "name": "stdout",
     "text": [
      "Código 9824552 Saldo 1000\n"
     ]
    }
   ],
   "source": [
    "conta_dani = Conta(9824552)\n",
    "conta_dani.deposita(1000)\n",
    "print(conta_dani)"
   ]
  },
  {
   "cell_type": "code",
   "execution_count": 88,
   "metadata": {},
   "outputs": [
    {
     "output_type": "stream",
     "name": "stdout",
     "text": [
      "[<__main__.Conta object at 0x000001C1BBD6C220>, <__main__.Conta object at 0x000001C1BBD6C6D0>]\nCódigo 15 Saldo 0\nCódigo 9824552 Saldo 1000\n"
     ]
    }
   ],
   "source": [
    "contas = [conta_gui, conta_dani]\n",
    "print(contas)\n",
    "for conta in contas:\n",
    "    print(conta) "
   ]
  },
  {
   "cell_type": "code",
   "execution_count": 89,
   "metadata": {},
   "outputs": [
    {
     "output_type": "stream",
     "name": "stdout",
     "text": [
      "Código 15 Saldo 0  |  Código 9824552 Saldo 1000\nCódigo 15 Saldo 100  |  Código 9824552 Saldo 1100\n"
     ]
    }
   ],
   "source": [
    "def deposita_para_todas(contas):\n",
    "    for conta in contas:\n",
    "        conta.deposita(100)\n",
    "\n",
    "contas = [conta_gui, conta_dani]\n",
    "print(contas[0], ' | ', contas[1])\n",
    "deposita_para_todas(contas)\n",
    "print(contas[0], ' | ', contas[1])"
   ]
  },
  {
   "source": [
    "# Herança e Polimorfismo"
   ],
   "cell_type": "markdown",
   "metadata": {}
  },
  {
   "cell_type": "code",
   "execution_count": 107,
   "metadata": {},
   "outputs": [],
   "source": [
    "from abc import ABCMeta, abstractmethod\n",
    "\n",
    "class Conta(metaclass=ABCMeta):\n",
    "\n",
    "    def __init__(self, codigo):\n",
    "        self._codigo = codigo\n",
    "        self._saldo = 0\n",
    "\n",
    "    def deposita(self, valor):\n",
    "        self._saldo += valor\n",
    "\n",
    "    @abstractmethod\n",
    "    def passa_o_mes(self):\n",
    "        pass\n",
    "\n",
    "    def __str__(self):\n",
    "        return f'Código {self._codigo} Saldo {self._saldo}'"
   ]
  },
  {
   "cell_type": "code",
   "execution_count": 108,
   "metadata": {},
   "outputs": [],
   "source": [
    "class ContaCorrente(Conta):\n",
    "\n",
    "    def passa_o_mes(self):\n",
    "        self._saldo -= 2\n",
    "\n",
    "class ContaPoupanca(Conta):\n",
    "\n",
    "    def passa_o_mes(self):\n",
    "        self._saldo *= 1.01\n",
    "        self._saldo -= 3\n",
    "\n",
    "class ContaInvestimento(Conta):\n",
    "    pass\n"
   ]
  },
  {
   "cell_type": "code",
   "execution_count": 109,
   "metadata": {},
   "outputs": [
    {
     "output_type": "stream",
     "name": "stdout",
     "text": [
      "Código 16 Saldo 998\n"
     ]
    }
   ],
   "source": [
    "conta16 = ContaCorrente(16)\n",
    "conta16.deposita(1000)\n",
    "conta16.passa_o_mes()\n",
    "print(conta16)"
   ]
  },
  {
   "cell_type": "code",
   "execution_count": 110,
   "metadata": {},
   "outputs": [
    {
     "output_type": "stream",
     "name": "stdout",
     "text": [
      "Código 17 Saldo 1007.0\n"
     ]
    }
   ],
   "source": [
    "conta17 = ContaPoupanca(17)\n",
    "conta17.deposita(1000)\n",
    "conta17.passa_o_mes()\n",
    "print(conta17)"
   ]
  },
  {
   "source": [
    "# Array e Numpy"
   ],
   "cell_type": "markdown",
   "metadata": {}
  },
  {
   "cell_type": "code",
   "execution_count": 101,
   "metadata": {},
   "outputs": [
    {
     "output_type": "execute_result",
     "data": {
      "text/plain": [
       "array('d', [1.0, 2.0, 3.0])"
      ]
     },
     "metadata": {},
     "execution_count": 101
    }
   ],
   "source": [
    "import array as arr\n",
    "\n",
    "arr.array('d', [1,2,3])"
   ]
  },
  {
   "cell_type": "code",
   "execution_count": 105,
   "metadata": {},
   "outputs": [
    {
     "output_type": "execute_result",
     "data": {
      "text/plain": [
       "array([1, 2, 3])"
      ]
     },
     "metadata": {},
     "execution_count": 105
    }
   ],
   "source": [
    "import numpy as np\n",
    "\n",
    "np.array([1,2,3])"
   ]
  },
  {
   "source": [
    "# Igualdade e __eq__"
   ],
   "cell_type": "markdown",
   "metadata": {}
  },
  {
   "cell_type": "code",
   "execution_count": 130,
   "metadata": {},
   "outputs": [],
   "source": [
    "class ContaSalario:\n",
    "\n",
    "    def __init__(self, codigo):\n",
    "        self._codigo = codigo\n",
    "        self._saldo = 0\n",
    "\n",
    "    def deposita(self, valor):\n",
    "        self._saldo += valor\n",
    "\n",
    "    def __str__(self):\n",
    "        return f'Código {self._codigo} Saldo {self._saldo}'\n",
    "\n",
    "    def __eq__(self, other):\n",
    "        return self._codigo == other._codigo and self._saldo == other._saldo"
   ]
  },
  {
   "cell_type": "code",
   "execution_count": 131,
   "metadata": {},
   "outputs": [
    {
     "output_type": "stream",
     "name": "stdout",
     "text": [
      "Código 37 Saldo 0\n"
     ]
    }
   ],
   "source": [
    "conta1 = ContaSalario(37)\n",
    "print(conta1)"
   ]
  },
  {
   "cell_type": "code",
   "execution_count": 132,
   "metadata": {},
   "outputs": [],
   "source": [
    "conta2 = ContaSalario(37)\n"
   ]
  },
  {
   "cell_type": "code",
   "execution_count": 133,
   "metadata": {},
   "outputs": [
    {
     "output_type": "stream",
     "name": "stdout",
     "text": [
      "Código 37 Saldo 0\n"
     ]
    }
   ],
   "source": [
    "print(conta2)"
   ]
  },
  {
   "cell_type": "code",
   "execution_count": 134,
   "metadata": {},
   "outputs": [
    {
     "output_type": "execute_result",
     "data": {
      "text/plain": [
       "True"
      ]
     },
     "metadata": {},
     "execution_count": 134
    }
   ],
   "source": [
    "conta1 == conta2"
   ]
  },
  {
   "cell_type": "code",
   "execution_count": 135,
   "metadata": {},
   "outputs": [],
   "source": [
    "conta1.deposita(10)"
   ]
  },
  {
   "cell_type": "code",
   "execution_count": 136,
   "metadata": {},
   "outputs": [
    {
     "output_type": "execute_result",
     "data": {
      "text/plain": [
       "False"
      ]
     },
     "metadata": {},
     "execution_count": 136
    }
   ],
   "source": [
    "conta1 == conta2"
   ]
  },
  {
   "cell_type": "code",
   "execution_count": 138,
   "metadata": {},
   "outputs": [
    {
     "output_type": "stream",
     "name": "stdout",
     "text": [
      "São diferentes\n"
     ]
    }
   ],
   "source": [
    "conta_do_gui = ContaCorrente(15)\n",
    "\n",
    "conta_da_dani = ContaCorrente(15)\n",
    "\n",
    "if(conta_do_gui == conta_da_dani):\n",
    "    print('São iguais')\n",
    "else:\n",
    "    print('São diferentes')"
   ]
  },
  {
   "source": [
    "# Builtins como enumerated, range e desempacotamento automatico de tuplas"
   ],
   "cell_type": "markdown",
   "metadata": {}
  },
  {
   "cell_type": "code",
   "execution_count": 139,
   "metadata": {},
   "outputs": [],
   "source": [
    "idades = [15, 87, 45, 56, 32, 49, 37]"
   ]
  },
  {
   "cell_type": "code",
   "execution_count": 144,
   "metadata": {},
   "outputs": [
    {
     "output_type": "stream",
     "name": "stdout",
     "text": [
      "0 15\n1 87\n2 45\n3 56\n4 32\n5 49\n6 37\n"
     ]
    }
   ],
   "source": [
    "for idade in range(len(idades)):\n",
    "    print (idade, idades[idade])"
   ]
  },
  {
   "cell_type": "code",
   "execution_count": 145,
   "metadata": {},
   "outputs": [
    {
     "output_type": "stream",
     "name": "stdout",
     "text": [
      "0 15\n1 87\n2 45\n3 56\n4 32\n5 49\n6 37\n"
     ]
    }
   ],
   "source": [
    "for i, idade in enumerate(idades):\n",
    "    print(i, idade)"
   ]
  },
  {
   "cell_type": "code",
   "execution_count": 146,
   "metadata": {},
   "outputs": [
    {
     "output_type": "execute_result",
     "data": {
      "text/plain": [
       "[(0, 15), (1, 87), (2, 45), (3, 56), (4, 32), (5, 49), (6, 37)]"
      ]
     },
     "metadata": {},
     "execution_count": 146
    }
   ],
   "source": [
    "list(enumerate(idades))"
   ]
  },
  {
   "cell_type": "code",
   "execution_count": 147,
   "metadata": {},
   "outputs": [
    {
     "output_type": "stream",
     "name": "stdout",
     "text": [
      "Gui\nDani\nPaulo\n"
     ]
    }
   ],
   "source": [
    "usuarios = [\n",
    "    ('Gui', 37, 1981),\n",
    "    ('Dani', 31, 1987),\n",
    "    ('Paulo', 39, 1979)\n",
    "]\n",
    "\n",
    "for nome, idade, dn in usuarios:\n",
    "    print(nome)"
   ]
  },
  {
   "cell_type": "code",
   "execution_count": 148,
   "metadata": {},
   "outputs": [
    {
     "output_type": "stream",
     "name": "stdout",
     "text": [
      "Gui\nDani\nPaulo\n"
     ]
    }
   ],
   "source": [
    "for nome, _, _ in usuarios:\n",
    "    print(nome)"
   ]
  },
  {
   "source": [
    "# Ordernação"
   ],
   "cell_type": "markdown",
   "metadata": {}
  },
  {
   "cell_type": "code",
   "execution_count": 149,
   "metadata": {},
   "outputs": [
    {
     "output_type": "execute_result",
     "data": {
      "text/plain": [
       "[15, 32, 37, 45, 49, 56, 87]"
      ]
     },
     "metadata": {},
     "execution_count": 149
    }
   ],
   "source": [
    "sorted(idades)"
   ]
  },
  {
   "cell_type": "code",
   "execution_count": 150,
   "metadata": {},
   "outputs": [
    {
     "output_type": "execute_result",
     "data": {
      "text/plain": [
       "[37, 49, 32, 56, 45, 87, 15]"
      ]
     },
     "metadata": {},
     "execution_count": 150
    }
   ],
   "source": [
    "list(reversed(idades))"
   ]
  },
  {
   "cell_type": "code",
   "execution_count": 151,
   "metadata": {},
   "outputs": [
    {
     "output_type": "execute_result",
     "data": {
      "text/plain": [
       "[87, 56, 49, 45, 37, 32, 15]"
      ]
     },
     "metadata": {},
     "execution_count": 151
    }
   ],
   "source": [
    "list(reversed(sorted(idades)))"
   ]
  },
  {
   "cell_type": "code",
   "execution_count": 165,
   "metadata": {},
   "outputs": [],
   "source": [
    "class ContaSalario:\n",
    "\n",
    "    def __init__(self, codigo):\n",
    "        self._codigo = codigo\n",
    "        self._saldo = 0\n",
    "\n",
    "    def deposita(self, valor):\n",
    "        self._saldo += valor\n",
    "\n",
    "    def __str__(self):\n",
    "        return f'Código {self._codigo} Saldo {self._saldo}'\n",
    "\n",
    "    def __eq__(self, other):\n",
    "        return self._codigo == other._codigo and self._saldo == other._saldo\n",
    "\n",
    "    def __lt__(self, other):\n",
    "        return self._saldo < other._saldo"
   ]
  },
  {
   "cell_type": "code",
   "execution_count": 154,
   "metadata": {},
   "outputs": [],
   "source": [
    "conta_gui = ContaSalario(17)\n",
    "conta_gui.deposita(500)\n",
    "\n",
    "conta_dani = ContaSalario(3)\n",
    "conta_dani.deposita(1000)\n",
    "\n",
    "conta_paulo = ContaSalario(133)\n",
    "conta_paulo.deposita(510)\n",
    "\n",
    "contas = [conta_gui, conta_dani, conta_paulo]"
   ]
  },
  {
   "cell_type": "code",
   "execution_count": 156,
   "metadata": {},
   "outputs": [
    {
     "output_type": "stream",
     "name": "stdout",
     "text": [
      "Código 17 Saldo 500\nCódigo 3 Saldo 1000\nCódigo 133 Saldo 510\n"
     ]
    }
   ],
   "source": [
    "for conta in contas: print(conta)"
   ]
  },
  {
   "cell_type": "code",
   "execution_count": 158,
   "metadata": {},
   "outputs": [
    {
     "output_type": "stream",
     "name": "stdout",
     "text": [
      "Código 17 Saldo 500\nCódigo 133 Saldo 510\nCódigo 3 Saldo 1000\n"
     ]
    }
   ],
   "source": [
    "def extrai_saldo(conta):\n",
    "    return conta._saldo\n",
    "\n",
    "for conta in sorted(contas, key=extrai_saldo): \n",
    "    print(conta)"
   ]
  },
  {
   "cell_type": "code",
   "execution_count": 160,
   "metadata": {},
   "outputs": [
    {
     "output_type": "stream",
     "name": "stdout",
     "text": [
      "Código 17 Saldo 500\nCódigo 133 Saldo 510\nCódigo 3 Saldo 1000\n"
     ]
    }
   ],
   "source": [
    "from operator import attrgetter\n",
    "\n",
    "for conta in sorted(contas, key=attrgetter('_saldo')):\n",
    "    print(conta)"
   ]
  },
  {
   "source": [
    "# __lt__ (less than)"
   ],
   "cell_type": "markdown",
   "metadata": {}
  },
  {
   "cell_type": "code",
   "execution_count": 18,
   "metadata": {},
   "outputs": [],
   "source": [
    "class ContaSalario:\n",
    "\n",
    "    def __init__(self, codigo):\n",
    "        self._codigo = codigo\n",
    "        self._saldo = 0\n",
    "\n",
    "    def deposita(self, valor):\n",
    "        self._saldo += valor\n",
    "\n",
    "    def __str__(self):\n",
    "        return f'Código {self._codigo} Saldo {self._saldo}'\n",
    "\n",
    "    def __eq__(self, other):\n",
    "        return self._codigo == other._codigo and self._saldo == other._saldo\n",
    "\n",
    "    def __lt__(self, other):\n",
    "        if self._saldo != other._saldo:\n",
    "            return self._saldo < other._saldo\n",
    "        \n",
    "        return self._codigo < other._codigo"
   ]
  },
  {
   "cell_type": "code",
   "execution_count": 29,
   "metadata": {},
   "outputs": [],
   "source": [
    "conta_gui = ContaSalario(17)\n",
    "conta_gui.deposita(500)\n",
    "\n",
    "conta_dani = ContaSalario(3)\n",
    "conta_dani.deposita(1000)\n",
    "\n",
    "conta_paulo = ContaSalario(133)\n",
    "conta_paulo.deposita(510)\n",
    "\n",
    "contas = [conta_gui, conta_dani, conta_paulo]"
   ]
  },
  {
   "cell_type": "code",
   "execution_count": 28,
   "metadata": {},
   "outputs": [],
   "source": [
    "for conta in sorted(contas):\n",
    "    print"
   ]
  },
  {
   "cell_type": "code",
   "execution_count": 27,
   "metadata": {},
   "outputs": [
    {
     "output_type": "execute_result",
     "data": {
      "text/plain": [
       "False"
      ]
     },
     "metadata": {},
     "execution_count": 27
    }
   ],
   "source": [
    "conta_gui < conta_dani"
   ]
  },
  {
   "cell_type": "code",
   "execution_count": 26,
   "metadata": {},
   "outputs": [],
   "source": [
    "conta_gui = ContaSalario(17)\n",
    "conta_gui.deposita(500)\n",
    "\n",
    "conta_dani = ContaSalario(3)\n",
    "conta_dani.deposita(500)\n",
    "\n",
    "conta_paulo = ContaSalario(133)\n",
    "conta_paulo.deposita(500)\n",
    "\n",
    "contas = [conta_gui, conta_dani, conta_paulo]"
   ]
  },
  {
   "cell_type": "code",
   "execution_count": 30,
   "metadata": {},
   "outputs": [],
   "source": [
    "for conta in sorted(contas):\n",
    "    print"
   ]
  }
 ]
}