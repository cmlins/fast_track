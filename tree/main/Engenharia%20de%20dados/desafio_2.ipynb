{
  "nbformat": 4,
  "nbformat_minor": 0,
  "metadata": {
    "colab": {
      "name": "desafio_2.ipynb",
      "provenance": [],
      "mount_file_id": "1Qp3MITn2xd7dO7m_nni1NZXgqY73sCaV",
      "authorship_tag": "ABX9TyMR9GkjRQerBQNt3Yi7F16k",
      "include_colab_link": true
    },
    "kernelspec": {
      "name": "python3",
      "display_name": "Python 3"
    },
    "language_info": {
      "name": "python"
    },
    "accelerator": "GPU"
  },
  "cells": [
    {
      "cell_type": "markdown",
      "metadata": {
        "id": "view-in-github",
        "colab_type": "text"
      },
      "source": [
        "<a href=\"https://colab.research.google.com/github/cmlins/fast_track/blob/main/tree/main/Engenharia%2520de%2520dados/desafio_2.ipynb\" target=\"_parent\"><img src=\"https://colab.research.google.com/assets/colab-badge.svg\" alt=\"Open In Colab\"/></a>"
      ]
    },
    {
      "cell_type": "markdown",
      "metadata": {
        "id": "OTVlQeKZUyvW"
      },
      "source": [
        "# Desafio 2\n",
        "\n",
        "## Doações Eleições 2014"
      ]
    },
    {
      "cell_type": "markdown",
      "metadata": {
        "id": "7z9PTP-8U6Oi"
      },
      "source": [
        "### Instalações e imports das bibliotecas, início da sessão spark"
      ]
    },
    {
      "cell_type": "code",
      "metadata": {
        "colab": {
          "base_uri": "https://localhost:8080/"
        },
        "id": "Zqk28cswT-UA",
        "outputId": "5747c7bd-7c6b-492e-d3cf-70878e91d732"
      },
      "source": [
        "# Instala bibliotecas necessárias\n",
        "\n",
        "!pip install --upgrade plotly\n",
        "!pip install pyspark"
      ],
      "execution_count": 1,
      "outputs": [
        {
          "output_type": "stream",
          "text": [
            "Requirement already up-to-date: plotly in /usr/local/lib/python3.7/dist-packages (4.14.3)\n",
            "Requirement already satisfied, skipping upgrade: six in /usr/local/lib/python3.7/dist-packages (from plotly) (1.15.0)\n",
            "Requirement already satisfied, skipping upgrade: retrying>=1.3.3 in /usr/local/lib/python3.7/dist-packages (from plotly) (1.3.3)\n",
            "Requirement already satisfied: pyspark in /usr/local/lib/python3.7/dist-packages (3.1.1)\n",
            "Requirement already satisfied: py4j==0.10.9 in /usr/local/lib/python3.7/dist-packages (from pyspark) (0.10.9)\n"
          ],
          "name": "stdout"
        }
      ]
    },
    {
      "cell_type": "code",
      "metadata": {
        "id": "QkLxDsKlUWdK"
      },
      "source": [
        "# import das bibliotecas usadas\n",
        "\n",
        "import pandas as pd\n",
        "import numpy as np\n",
        "import pyspark\n",
        "from pyspark.sql import SparkSession, Row\n",
        "from pyspark.sql.functions import isnan, when, count, col, isnull, asc, desc, mean, sum, lit, format_string, concat\n",
        "\n",
        "import plotly.express as px\n",
        "import plotly.graph_objects as go\n",
        "from plotly.subplots import make_subplots"
      ],
      "execution_count": 2,
      "outputs": []
    },
    {
      "cell_type": "code",
      "metadata": {
        "id": "7UeLfjrEUiS-"
      },
      "source": [
        "# Cria uma sessão spark\n",
        "spark = SparkSession.builder.master('local').appName('DataWrangling').getOrCreate()\n",
        "\n",
        "# Configura para que a visualização das saídas seja similar ao Pandas\n",
        "spark.conf.set('spark.sql.repl.eagerEval.enabled', True)\n",
        "\n",
        "sc = spark.sparkContext"
      ],
      "execution_count": 3,
      "outputs": []
    },
    {
      "cell_type": "code",
      "metadata": {
        "colab": {
          "base_uri": "https://localhost:8080/"
        },
        "id": "-5DQjRkoUlNd",
        "outputId": "6879500c-deb1-4f09-9a7c-92aab786c8a5"
      },
      "source": [
        "#montar o drive\n",
        "from google.colab import drive\n",
        "drive.mount('/drive')"
      ],
      "execution_count": 4,
      "outputs": [
        {
          "output_type": "stream",
          "text": [
            "Mounted at /drive\n"
          ],
          "name": "stdout"
        }
      ]
    },
    {
      "cell_type": "markdown",
      "metadata": {
        "id": "2lGrheXTVHy4"
      },
      "source": [
        "### Ranking dos 10 partidos que mais receberam doações em 2014"
      ]
    },
    {
      "cell_type": "code",
      "metadata": {
        "id": "hLaKmoYpwIUo"
      },
      "source": [
        "end_candidatos = '/drive/MyDrive/Desafio/receitas_candidatos_2014_brasil.txt'\n",
        "end_comites ='/drive/MyDrive/Desafio/receitas_comites_2014_brasil.txt'\n",
        "end_partidos = '/drive/MyDrive/Desafio/receitas_partidos_2014_brasil.txt'"
      ],
      "execution_count": 5,
      "outputs": []
    },
    {
      "cell_type": "code",
      "metadata": {
        "id": "fz0MYfC432Ih"
      },
      "source": [
        "def carrega_df(endereco):\n",
        "  return spark.read.option(\"header\", \"true\") \\\n",
        "    .option(\"delimiter\", \";\") \\\n",
        "    .option(\"inferSchema\", \"true\") \\\n",
        "    .option(\"encoding\", \"ISO-8859-1\") \\\n",
        "    .csv(endereco)"
      ],
      "execution_count": 6,
      "outputs": []
    },
    {
      "cell_type": "markdown",
      "metadata": {
        "id": "dn1aumuLtsIG"
      },
      "source": [
        "### Doações a Candidatos\n"
      ]
    },
    {
      "cell_type": "code",
      "metadata": {
        "colab": {
          "base_uri": "https://localhost:8080/",
          "height": 417
        },
        "id": "Bwg62al1VrL1",
        "outputId": "c16dde30-13cd-489a-85c8-d85bd1f4d13b"
      },
      "source": [
        "candidatos = carrega_df(end_candidatos)\n",
        "candidatos.limit(5)"
      ],
      "execution_count": 7,
      "outputs": [
        {
          "output_type": "execute_result",
          "data": {
            "text/html": [
              "<table border='1'>\n",
              "<tr><th>Cód. Eleição</th><th>Desc. Eleição</th><th>Data e hora</th><th>CNPJ Prestador Conta</th><th>Sequencial Candidato</th><th>UF</th><th>Sigla  Partido</th><th>Numero candidato</th><th>Cargo</th><th>Nome candidato</th><th>CPF do candidato</th><th>Numero Recibo Eleitoral</th><th>Numero do documento</th><th>CPF/CNPJ do doador</th><th>Nome do doador</th><th>Nome do doador (Receita Federal)</th><th>Sigla UE doador</th><th>Número partido doador</th><th>Número candidato doador</th><th>Cod setor econômico do doador</th><th>Setor econômico do doador</th><th>Data da receita</th><th>Valor receita</th><th>Tipo receita</th><th>Fonte recurso</th><th>Especie recurso</th><th>Descricao da receita</th><th>CPF/CNPJ do doador originário</th><th>Nome do doador originário</th><th>Tipo doador originário</th><th>Setor econômico do doador originário</th><th>Nome do doador originário (Receita Federal)</th></tr>\n",
              "<tr><td>143</td><td>Eleições Gerais 2014</td><td>09/07/201617:15:01</td><td>20578194000114</td><td>90000000637</td><td>GO</td><td>PSDB</td><td>45</td><td>Governador</td><td>MARCONI FERREIRA ...</td><td>3553821809</td><td>000450300000GO000064</td><td>20141550000</td><td>01256007000131</td><td>GOVESA GOIANIA VE...</td><td>GOVESA GOIANIA VE...</td><td>#NULO</td><td>#NULO</td><td>45</td><td>4511101</td><td>Comércio a varejo...</td><td>02/10/201400:00:00</td><td>145000</td><td>Recursos de pesso...</td><td>Nao especificado</td><td>Transferência ele...</td><td>#NULO</td><td>#NULO</td><td>#NULO</td><td>#NULO</td><td>#NULO</td><td>#NULO</td></tr>\n",
              "<tr><td>143</td><td>Eleições Gerais 2014</td><td>09/07/201617:15:01</td><td>20571797000194</td><td>90000000725</td><td>GO</td><td>PSD</td><td>5555</td><td>Deputado Federal</td><td>JOSE MARIO SCHREINER</td><td>41877004987</td><td>055550600000GO000090</td><td>553338000003336</td><td>01256007000131</td><td>GOVESA GOIANIA VE...</td><td>GOVESA GOIANIA VE...</td><td>#NULO</td><td>#NULO</td><td>5555</td><td>4511101</td><td>Comércio a varejo...</td><td>16/10/201400:00:00</td><td>100000</td><td>Recursos de pesso...</td><td>Nao especificado</td><td>Transferência ele...</td><td>#NULO</td><td>#NULO</td><td>#NULO</td><td>#NULO</td><td>#NULO</td><td>#NULO</td></tr>\n",
              "<tr><td>143</td><td>Eleições Gerais 2014</td><td>09/07/201617:15:01</td><td>20578262000145</td><td>180000000046</td><td>PI</td><td>PSB</td><td>400</td><td>Senador</td><td>WILSON NUNES MARTINS</td><td>6444555353</td><td>004000500000PI000086</td><td>#NULO</td><td>20574446000137</td><td>ELEICAO 2014 GUST...</td><td>ELEICAO 2014 GUST...</td><td>PI</td><td>40</td><td>400</td><td>9492800</td><td>Atividades de org...</td><td>18/07/201400:00:00</td><td>725</td><td>Recursos de outro...</td><td>Outros Recursos n...</td><td>Estimado</td><td>CARTAZ F2 5000 UN...</td><td>39817806391</td><td>GUSTAVO SOUSA DE ...</td><td>F</td><td>#NULO</td><td>GUSTAVO SOUSA DE ...</td></tr>\n",
              "<tr><td>143</td><td>Eleições Gerais 2014</td><td>09/07/201617:15:01</td><td>20603227000139</td><td>180000000044</td><td>PI</td><td>PMDB</td><td>15</td><td>Governador</td><td>ANTONIO JOSE DE M...</td><td>27361136320</td><td>000150300000PI000035</td><td>#NULO</td><td>20574446000137</td><td>ELEIÇAO GUSTAVO S...</td><td>ELEICAO 2014 GUST...</td><td>PI</td><td>40</td><td>15</td><td>9492800</td><td>Atividades de org...</td><td>23/07/201400:00:00</td><td>1875</td><td>Recursos de outro...</td><td>Outros Recursos n...</td><td>Estimado</td><td>ADESIVOS NF 607 D...</td><td>39817806391</td><td>GUSTAVO DE SOUSA ...</td><td>F</td><td>#NULO</td><td>GUSTAVO SOUSA DE ...</td></tr>\n",
              "<tr><td>143</td><td>Eleições Gerais 2014</td><td>09/07/201617:15:01</td><td>20603227000139</td><td>180000000044</td><td>PI</td><td>PMDB</td><td>15</td><td>Governador</td><td>ANTONIO JOSE DE M...</td><td>27361136320</td><td>000150300000PI000034</td><td>#NULO</td><td>20574446000137</td><td>ELEIÇAO GUSTAVO S...</td><td>ELEICAO 2014 GUST...</td><td>PI</td><td>40</td><td>15</td><td>9492800</td><td>Atividades de org...</td><td>18/07/201400:00:00</td><td>725</td><td>Recursos de outro...</td><td>Outros Recursos n...</td><td>Estimado</td><td>CARTAZ F2 GOV ZE ...</td><td>39817806391</td><td>GUSTAVO DE SOUSA ...</td><td>F</td><td>#NULO</td><td>GUSTAVO SOUSA DE ...</td></tr>\n",
              "</table>\n"
            ],
            "text/plain": [
              "+------------+--------------------+------------------+--------------------+--------------------+---+--------------+----------------+----------------+--------------------+----------------+-----------------------+-------------------+------------------+--------------------+--------------------------------+---------------+---------------------+-----------------------+-----------------------------+-------------------------+------------------+-------------+--------------------+--------------------+--------------------+--------------------+-----------------------------+-------------------------+----------------------+------------------------------------+-------------------------------------------+\n",
              "|Cód. Eleição|       Desc. Eleição|       Data e hora|CNPJ Prestador Conta|Sequencial Candidato| UF|Sigla  Partido|Numero candidato|           Cargo|      Nome candidato|CPF do candidato|Numero Recibo Eleitoral|Numero do documento|CPF/CNPJ do doador|      Nome do doador|Nome do doador (Receita Federal)|Sigla UE doador|Número partido doador|Número candidato doador|Cod setor econômico do doador|Setor econômico do doador|   Data da receita|Valor receita|        Tipo receita|       Fonte recurso|     Especie recurso|Descricao da receita|CPF/CNPJ do doador originário|Nome do doador originário|Tipo doador originário|Setor econômico do doador originário|Nome do doador originário (Receita Federal)|\n",
              "+------------+--------------------+------------------+--------------------+--------------------+---+--------------+----------------+----------------+--------------------+----------------+-----------------------+-------------------+------------------+--------------------+--------------------------------+---------------+---------------------+-----------------------+-----------------------------+-------------------------+------------------+-------------+--------------------+--------------------+--------------------+--------------------+-----------------------------+-------------------------+----------------------+------------------------------------+-------------------------------------------+\n",
              "|         143|Eleições Gerais 2014|09/07/201617:15:01|      20578194000114|         90000000637| GO|          PSDB|              45|      Governador|MARCONI FERREIRA ...|      3553821809|   000450300000GO000064|        20141550000|    01256007000131|GOVESA GOIANIA VE...|            GOVESA GOIANIA VE...|          #NULO|                #NULO|                     45|                      4511101|     Comércio a varejo...|02/10/201400:00:00|       145000|Recursos de pesso...|    Nao especificado|Transferência ele...|               #NULO|                        #NULO|                    #NULO|                 #NULO|                               #NULO|                                      #NULO|\n",
              "|         143|Eleições Gerais 2014|09/07/201617:15:01|      20571797000194|         90000000725| GO|           PSD|            5555|Deputado Federal|JOSE MARIO SCHREINER|     41877004987|   055550600000GO000090|    553338000003336|    01256007000131|GOVESA GOIANIA VE...|            GOVESA GOIANIA VE...|          #NULO|                #NULO|                   5555|                      4511101|     Comércio a varejo...|16/10/201400:00:00|       100000|Recursos de pesso...|    Nao especificado|Transferência ele...|               #NULO|                        #NULO|                    #NULO|                 #NULO|                               #NULO|                                      #NULO|\n",
              "|         143|Eleições Gerais 2014|09/07/201617:15:01|      20578262000145|        180000000046| PI|           PSB|             400|         Senador|WILSON NUNES MARTINS|      6444555353|   004000500000PI000086|              #NULO|    20574446000137|ELEICAO 2014 GUST...|            ELEICAO 2014 GUST...|             PI|                   40|                    400|                      9492800|     Atividades de org...|18/07/201400:00:00|          725|Recursos de outro...|Outros Recursos n...|            Estimado|CARTAZ F2 5000 UN...|                  39817806391|     GUSTAVO SOUSA DE ...|                     F|                               #NULO|                       GUSTAVO SOUSA DE ...|\n",
              "|         143|Eleições Gerais 2014|09/07/201617:15:01|      20603227000139|        180000000044| PI|          PMDB|              15|      Governador|ANTONIO JOSE DE M...|     27361136320|   000150300000PI000035|              #NULO|    20574446000137|ELEIÇAO GUSTAVO S...|            ELEICAO 2014 GUST...|             PI|                   40|                     15|                      9492800|     Atividades de org...|23/07/201400:00:00|         1875|Recursos de outro...|Outros Recursos n...|            Estimado|ADESIVOS NF 607 D...|                  39817806391|     GUSTAVO DE SOUSA ...|                     F|                               #NULO|                       GUSTAVO SOUSA DE ...|\n",
              "|         143|Eleições Gerais 2014|09/07/201617:15:01|      20603227000139|        180000000044| PI|          PMDB|              15|      Governador|ANTONIO JOSE DE M...|     27361136320|   000150300000PI000034|              #NULO|    20574446000137|ELEIÇAO GUSTAVO S...|            ELEICAO 2014 GUST...|             PI|                   40|                     15|                      9492800|     Atividades de org...|18/07/201400:00:00|          725|Recursos de outro...|Outros Recursos n...|            Estimado|CARTAZ F2 GOV ZE ...|                  39817806391|     GUSTAVO DE SOUSA ...|                     F|                               #NULO|                       GUSTAVO SOUSA DE ...|\n",
              "+------------+--------------------+------------------+--------------------+--------------------+---+--------------+----------------+----------------+--------------------+----------------+-----------------------+-------------------+------------------+--------------------+--------------------------------+---------------+---------------------+-----------------------+-----------------------------+-------------------------+------------------+-------------+--------------------+--------------------+--------------------+--------------------+-----------------------------+-------------------------+----------------------+------------------------------------+-------------------------------------------+"
            ]
          },
          "metadata": {
            "tags": []
          },
          "execution_count": 7
        }
      ]
    },
    {
      "cell_type": "markdown",
      "metadata": {
        "id": "1GQWC5FxtxC7"
      },
      "source": [
        "### Doações a Comitês"
      ]
    },
    {
      "cell_type": "code",
      "metadata": {
        "colab": {
          "base_uri": "https://localhost:8080/",
          "height": 417
        },
        "id": "tft7P0VRWfAj",
        "outputId": "7f36ea01-238f-4c92-a911-140b909d191b"
      },
      "source": [
        "comites = carrega_df(end_comites)\n",
        "comites.limit(5)"
      ],
      "execution_count": 8,
      "outputs": [
        {
          "output_type": "execute_result",
          "data": {
            "text/html": [
              "<table border='1'>\n",
              "<tr><th>Cód. Eleição</th><th>Desc. Eleição</th><th>Data e hora</th><th>CNPJ Prestador Conta</th><th>Sequencial Comite</th><th>UF</th><th>Tipo Comite</th><th>Sigla  Partido</th><th>Tipo do documento</th><th>Número do documento</th><th>CPF/CNPJ do doador</th><th>Nome do doador</th><th>Nome do doador (Receita Federal)</th><th>Sigla UE doador</th><th>Número partido doador</th><th>Número candidato doador</th><th>Cod setor econômico do doador</th><th>Setor econômico do doador</th><th>Data da receita</th><th>Valor receita</th><th>Tipo receita</th><th>Fonte recurso</th><th>Espécie recurso</th><th>Descrição da receita</th><th>CPF/CNPJ do doador originário</th><th>Nome do doador originário</th><th>Tipo doador originário</th><th>Setor econômico do doador originário</th><th>Nome do doador originário (Receita Federal)</th></tr>\n",
              "<tr><td>143</td><td>Eleições Gerais 2014</td><td>09/07/2016 17:24:00</td><td>20603433000149</td><td>448543</td><td>RS</td><td>Comitê Financeiro...</td><td>PMDB</td><td>C15000588013RS000439</td><td>2164</td><td>88348024000187</td><td>SBS ENGENHARIA E ...</td><td>SBS ENGENHARIA E ...</td><td>#NULO</td><td>#NULO</td><td>#NULO</td><td>4211101</td><td>Construção de rod...</td><td>29/10/201400:00:00</td><td>50000</td><td>Recursos de pesso...</td><td>Nao especificado</td><td>Transferência ele...</td><td>#NULO</td><td>#NULO</td><td>#NULO</td><td>#NULO</td><td>#NULO</td><td>#NULO</td></tr>\n",
              "<tr><td>143</td><td>Eleições Gerais 2014</td><td>09/07/2016 17:24:00</td><td>20603433000149</td><td>448543</td><td>RS</td><td>Comitê Financeiro...</td><td>PMDB</td><td>C15000588013RS000375</td><td>2385</td><td>02955426000124</td><td>CASTELLAR ENGENHARIA</td><td>CASTELLAR ENGENHA...</td><td>#NULO</td><td>#NULO</td><td>#NULO</td><td>4211101</td><td>Construção de rod...</td><td>10/09/201400:00:00</td><td>20000</td><td>Recursos de pesso...</td><td>Nao especificado</td><td>Transferência ele...</td><td>#NULO</td><td>#NULO</td><td>#NULO</td><td>#NULO</td><td>#NULO</td><td>#NULO</td></tr>\n",
              "<tr><td>143</td><td>Eleições Gerais 2014</td><td>09/07/2016 17:24:00</td><td>20632466000117</td><td>785026</td><td>RJ</td><td>Comitê Financeiro...</td><td>PMDB</td><td>C15000560011RJ000046</td><td>000033</td><td>09446911000111</td><td>CPM CONSTRUÇÕES LTDA</td><td>C P M CONSTRUCOES...</td><td>#NULO</td><td>#NULO</td><td>#NULO</td><td>4211101</td><td>Construção de rod...</td><td>03/09/201400:00:00</td><td>100000</td><td>Recursos de pesso...</td><td>Nao especificado</td><td>Transferência ele...</td><td>#NULO</td><td>#NULO</td><td>#NULO</td><td>#NULO</td><td>#NULO</td><td>#NULO</td></tr>\n",
              "<tr><td>143</td><td>Eleições Gerais 2014</td><td>09/07/2016 17:24:00</td><td>20609045000175</td><td>615325</td><td>MG</td><td>Comitê Financeiro...</td><td>PT</td><td>C13000541238MG000018</td><td>000011</td><td>66289471000170</td><td>LIBE CONSTRUTORA ...</td><td>LIBE CONSTRUTORA ...</td><td>#NULO</td><td>#NULO</td><td>#NULO</td><td>4211101</td><td>Construção de rod...</td><td>07/10/201400:00:00</td><td>100000</td><td>Recursos de pesso...</td><td>Nao especificado</td><td>Transferência ele...</td><td>#NULO</td><td>#NULO</td><td>#NULO</td><td>#NULO</td><td>#NULO</td><td>#NULO</td></tr>\n",
              "<tr><td>143</td><td>Eleições Gerais 2014</td><td>09/07/2016 17:24:00</td><td>20609045000175</td><td>615325</td><td>MG</td><td>Comitê Financeiro...</td><td>PT</td><td>C13000541238MG000019</td><td>999467753000011</td><td>66289471000170</td><td>LIBE CONSTRUTORA ...</td><td>LIBE CONSTRUTORA ...</td><td>#NULO</td><td>#NULO</td><td>#NULO</td><td>4211101</td><td>Construção de rod...</td><td>14/10/201400:00:00</td><td>100000</td><td>Recursos de pesso...</td><td>Nao especificado</td><td>Transferência ele...</td><td>#NULO</td><td>#NULO</td><td>#NULO</td><td>#NULO</td><td>#NULO</td><td>#NULO</td></tr>\n",
              "</table>\n"
            ],
            "text/plain": [
              "+------------+--------------------+-------------------+--------------------+-----------------+---+--------------------+--------------+--------------------+-------------------+------------------+--------------------+--------------------------------+---------------+---------------------+-----------------------+-----------------------------+-------------------------+------------------+-------------+--------------------+----------------+--------------------+--------------------+-----------------------------+-------------------------+----------------------+------------------------------------+-------------------------------------------+\n",
              "|Cód. Eleição|       Desc. Eleição|        Data e hora|CNPJ Prestador Conta|Sequencial Comite| UF|         Tipo Comite|Sigla  Partido|   Tipo do documento|Número do documento|CPF/CNPJ do doador|      Nome do doador|Nome do doador (Receita Federal)|Sigla UE doador|Número partido doador|Número candidato doador|Cod setor econômico do doador|Setor econômico do doador|   Data da receita|Valor receita|        Tipo receita|   Fonte recurso|     Espécie recurso|Descrição da receita|CPF/CNPJ do doador originário|Nome do doador originário|Tipo doador originário|Setor econômico do doador originário|Nome do doador originário (Receita Federal)|\n",
              "+------------+--------------------+-------------------+--------------------+-----------------+---+--------------------+--------------+--------------------+-------------------+------------------+--------------------+--------------------------------+---------------+---------------------+-----------------------+-----------------------------+-------------------------+------------------+-------------+--------------------+----------------+--------------------+--------------------+-----------------------------+-------------------------+----------------------+------------------------------------+-------------------------------------------+\n",
              "|         143|Eleições Gerais 2014|09/07/2016 17:24:00|      20603433000149|           448543| RS|Comitê Financeiro...|          PMDB|C15000588013RS000439|               2164|    88348024000187|SBS ENGENHARIA E ...|            SBS ENGENHARIA E ...|          #NULO|                #NULO|                  #NULO|                      4211101|     Construção de rod...|29/10/201400:00:00|        50000|Recursos de pesso...|Nao especificado|Transferência ele...|               #NULO|                        #NULO|                    #NULO|                 #NULO|                               #NULO|                                      #NULO|\n",
              "|         143|Eleições Gerais 2014|09/07/2016 17:24:00|      20603433000149|           448543| RS|Comitê Financeiro...|          PMDB|C15000588013RS000375|               2385|    02955426000124|CASTELLAR ENGENHARIA|            CASTELLAR ENGENHA...|          #NULO|                #NULO|                  #NULO|                      4211101|     Construção de rod...|10/09/201400:00:00|        20000|Recursos de pesso...|Nao especificado|Transferência ele...|               #NULO|                        #NULO|                    #NULO|                 #NULO|                               #NULO|                                      #NULO|\n",
              "|         143|Eleições Gerais 2014|09/07/2016 17:24:00|      20632466000117|           785026| RJ|Comitê Financeiro...|          PMDB|C15000560011RJ000046|             000033|    09446911000111|CPM CONSTRUÇÕES LTDA|            C P M CONSTRUCOES...|          #NULO|                #NULO|                  #NULO|                      4211101|     Construção de rod...|03/09/201400:00:00|       100000|Recursos de pesso...|Nao especificado|Transferência ele...|               #NULO|                        #NULO|                    #NULO|                 #NULO|                               #NULO|                                      #NULO|\n",
              "|         143|Eleições Gerais 2014|09/07/2016 17:24:00|      20609045000175|           615325| MG|Comitê Financeiro...|            PT|C13000541238MG000018|             000011|    66289471000170|LIBE CONSTRUTORA ...|            LIBE CONSTRUTORA ...|          #NULO|                #NULO|                  #NULO|                      4211101|     Construção de rod...|07/10/201400:00:00|       100000|Recursos de pesso...|Nao especificado|Transferência ele...|               #NULO|                        #NULO|                    #NULO|                 #NULO|                               #NULO|                                      #NULO|\n",
              "|         143|Eleições Gerais 2014|09/07/2016 17:24:00|      20609045000175|           615325| MG|Comitê Financeiro...|            PT|C13000541238MG000019|    999467753000011|    66289471000170|LIBE CONSTRUTORA ...|            LIBE CONSTRUTORA ...|          #NULO|                #NULO|                  #NULO|                      4211101|     Construção de rod...|14/10/201400:00:00|       100000|Recursos de pesso...|Nao especificado|Transferência ele...|               #NULO|                        #NULO|                    #NULO|                 #NULO|                               #NULO|                                      #NULO|\n",
              "+------------+--------------------+-------------------+--------------------+-----------------+---+--------------------+--------------+--------------------+-------------------+------------------+--------------------+--------------------------------+---------------+---------------------+-----------------------+-----------------------------+-------------------------+------------------+-------------+--------------------+----------------+--------------------+--------------------+-----------------------------+-------------------------+----------------------+------------------------------------+-------------------------------------------+"
            ]
          },
          "metadata": {
            "tags": []
          },
          "execution_count": 8
        }
      ]
    },
    {
      "cell_type": "markdown",
      "metadata": {
        "id": "rh9p0V3qt0yd"
      },
      "source": [
        "### Doações a Partidos"
      ]
    },
    {
      "cell_type": "code",
      "metadata": {
        "colab": {
          "base_uri": "https://localhost:8080/",
          "height": 417
        },
        "id": "7Xg5hBBxWpPE",
        "outputId": "90bbc11e-363b-4b0f-85b7-141ef9477aa1"
      },
      "source": [
        "partidos = carrega_df(end_partidos)\n",
        "partidos.limit(5)"
      ],
      "execution_count": 9,
      "outputs": [
        {
          "output_type": "execute_result",
          "data": {
            "text/html": [
              "<table border='1'>\n",
              "<tr><th>Cód. Eleição</th><th>Desc. Eleição</th><th>Data e hora</th><th>CNPJ Prestador Conta</th><th>Sequencial Diretorio</th><th>UF</th><th>Tipo diretorio</th><th>Sigla  Partido</th><th>Tipo do documento</th><th>Número do documento</th><th>CPF/CNPJ do doador</th><th>Nome do doador</th><th>Nome do doador (Receita Federal)</th><th>Sigla UE doador</th><th>Número partido doador</th><th>Número candidato doador</th><th>Cod setor econômico do doador</th><th>Setor econômico do doador</th><th>Data da receita</th><th>Valor receita</th><th>Tipo receita</th><th>Fonte recurso</th><th>Espécie recurso</th><th>Descrição da receita</th><th>CPF/CNPJ do doador originário</th><th>Nome do doador originário</th><th>Tipo doador originário</th><th>Setor econômico do doador originário</th><th>Nome do doador originário (Receita Federal)</th></tr>\n",
              "<tr><td>143</td><td>Eleições Gerais 2014</td><td>09/07/2016 17:23:04</td><td>59941682000180</td><td>41682</td><td>SP</td><td>Direção Estadual/...</td><td>PSDB</td><td>P45000371072SP000182</td><td>662945000452014</td><td>03653474000120</td><td>Direção Nacional</td><td>PARTIDO DA SOCIAL...</td><td>BR</td><td>45</td><td>#NULO</td><td>9492800</td><td>Atividades de org...</td><td>25-SEP-14</td><td>50000</td><td>Recursos de parti...</td><td>Outros Recursos n...</td><td>Transferência ele...</td><td>#NULO</td><td>51990695000137</td><td>BRADESCO VIDA E P...</td><td>J</td><td>Previdência compl...</td><td>BRADESCO VIDA E P...</td></tr>\n",
              "<tr><td>143</td><td>Eleições Gerais 2014</td><td>09/07/2016 17:23:04</td><td>24489114000105</td><td>23874</td><td>PB</td><td>Direção Estadual/...</td><td>PSDB</td><td>P45000320516PB000013</td><td>000</td><td>03653474000120</td><td>Direção Nacional</td><td>PARTIDO DA SOCIAL...</td><td>BR</td><td>45</td><td>#NULO</td><td>9492800</td><td>Atividades de org...</td><td>06-AUG-14</td><td>500000</td><td>Recursos de parti...</td><td>Outros Recursos n...</td><td>Transferência ele...</td><td>#NULO</td><td>51990695000137</td><td>BRADESCO VIDA E P...</td><td>J</td><td>Previdência compl...</td><td>BRADESCO VIDA E P...</td></tr>\n",
              "<tr><td>143</td><td>Eleições Gerais 2014</td><td>09/07/2016 17:23:04</td><td>14781335000107</td><td>30210</td><td>RS</td><td>Direção Estadual/...</td><td>PRTB</td><td>P28000388013RS000005</td><td>25310402004</td><td>74703034000189</td><td>Direção Estadual/...</td><td>PARTIDO PROGRESSISTA</td><td>RS</td><td>11</td><td>#NULO</td><td>9492800</td><td>Atividades de org...</td><td>08-SEP-14</td><td>10000</td><td>Recursos de parti...</td><td>Outros Recursos n...</td><td>Depósito em espécie</td><td>#NULO</td><td>51990695000137</td><td>BRADESCO VIDA E P...</td><td>J</td><td>Previdência compl...</td><td>BRADESCO VIDA E P...</td></tr>\n",
              "<tr><td>143</td><td>Eleições Gerais 2014</td><td>09/07/2016 17:23:04</td><td>14781335000107</td><td>30210</td><td>RS</td><td>Direção Estadual/...</td><td>PRTB</td><td>P28000388013RS000003</td><td>000057</td><td>74703034000189</td><td>Direção Estadual/...</td><td>PARTIDO PROGRESSISTA</td><td>RS</td><td>11</td><td>#NULO</td><td>9492800</td><td>Atividades de org...</td><td>19-AUG-14</td><td>10000</td><td>Recursos de parti...</td><td>Outros Recursos n...</td><td>Cheque</td><td>#NULO</td><td>51990695000137</td><td>BRADESCO VIDA E P...</td><td>J</td><td>Previdência compl...</td><td>BRADESCO VIDA E P...</td></tr>\n",
              "<tr><td>143</td><td>Eleições Gerais 2014</td><td>09/07/2016 17:23:04</td><td>3653474000120</td><td>234</td><td>BR</td><td>Direção Nacional</td><td>PSDB</td><td>P45000200000BR000331</td><td>128763</td><td>20572776000193</td><td>AÉCIO NEVES DA CUNHA</td><td>ELEICAO 2014 AECI...</td><td>BR</td><td>45</td><td>#NULO</td><td>9492800</td><td>Atividades de org...</td><td>17-OCT-14</td><td>2000000</td><td>Recursos de outro...</td><td>Outros Recursos n...</td><td>Transferência ele...</td><td>#NULO</td><td>51990695000137</td><td>BRADESCO VIDA E P...</td><td>J</td><td>Previdência compl...</td><td>BRADESCO VIDA E P...</td></tr>\n",
              "</table>\n"
            ],
            "text/plain": [
              "+------------+--------------------+-------------------+--------------------+--------------------+---+--------------------+--------------+--------------------+-------------------+------------------+--------------------+--------------------------------+---------------+---------------------+-----------------------+-----------------------------+-------------------------+---------------+-------------+--------------------+--------------------+--------------------+--------------------+-----------------------------+-------------------------+----------------------+------------------------------------+-------------------------------------------+\n",
              "|Cód. Eleição|       Desc. Eleição|        Data e hora|CNPJ Prestador Conta|Sequencial Diretorio| UF|      Tipo diretorio|Sigla  Partido|   Tipo do documento|Número do documento|CPF/CNPJ do doador|      Nome do doador|Nome do doador (Receita Federal)|Sigla UE doador|Número partido doador|Número candidato doador|Cod setor econômico do doador|Setor econômico do doador|Data da receita|Valor receita|        Tipo receita|       Fonte recurso|     Espécie recurso|Descrição da receita|CPF/CNPJ do doador originário|Nome do doador originário|Tipo doador originário|Setor econômico do doador originário|Nome do doador originário (Receita Federal)|\n",
              "+------------+--------------------+-------------------+--------------------+--------------------+---+--------------------+--------------+--------------------+-------------------+------------------+--------------------+--------------------------------+---------------+---------------------+-----------------------+-----------------------------+-------------------------+---------------+-------------+--------------------+--------------------+--------------------+--------------------+-----------------------------+-------------------------+----------------------+------------------------------------+-------------------------------------------+\n",
              "|         143|Eleições Gerais 2014|09/07/2016 17:23:04|      59941682000180|               41682| SP|Direção Estadual/...|          PSDB|P45000371072SP000182|    662945000452014|    03653474000120|    Direção Nacional|            PARTIDO DA SOCIAL...|             BR|                   45|                  #NULO|                      9492800|     Atividades de org...|      25-SEP-14|        50000|Recursos de parti...|Outros Recursos n...|Transferência ele...|               #NULO|               51990695000137|     BRADESCO VIDA E P...|                     J|                Previdência compl...|                       BRADESCO VIDA E P...|\n",
              "|         143|Eleições Gerais 2014|09/07/2016 17:23:04|      24489114000105|               23874| PB|Direção Estadual/...|          PSDB|P45000320516PB000013|                000|    03653474000120|    Direção Nacional|            PARTIDO DA SOCIAL...|             BR|                   45|                  #NULO|                      9492800|     Atividades de org...|      06-AUG-14|       500000|Recursos de parti...|Outros Recursos n...|Transferência ele...|               #NULO|               51990695000137|     BRADESCO VIDA E P...|                     J|                Previdência compl...|                       BRADESCO VIDA E P...|\n",
              "|         143|Eleições Gerais 2014|09/07/2016 17:23:04|      14781335000107|               30210| RS|Direção Estadual/...|          PRTB|P28000388013RS000005|        25310402004|    74703034000189|Direção Estadual/...|            PARTIDO PROGRESSISTA|             RS|                   11|                  #NULO|                      9492800|     Atividades de org...|      08-SEP-14|        10000|Recursos de parti...|Outros Recursos n...| Depósito em espécie|               #NULO|               51990695000137|     BRADESCO VIDA E P...|                     J|                Previdência compl...|                       BRADESCO VIDA E P...|\n",
              "|         143|Eleições Gerais 2014|09/07/2016 17:23:04|      14781335000107|               30210| RS|Direção Estadual/...|          PRTB|P28000388013RS000003|             000057|    74703034000189|Direção Estadual/...|            PARTIDO PROGRESSISTA|             RS|                   11|                  #NULO|                      9492800|     Atividades de org...|      19-AUG-14|        10000|Recursos de parti...|Outros Recursos n...|              Cheque|               #NULO|               51990695000137|     BRADESCO VIDA E P...|                     J|                Previdência compl...|                       BRADESCO VIDA E P...|\n",
              "|         143|Eleições Gerais 2014|09/07/2016 17:23:04|       3653474000120|                 234| BR|    Direção Nacional|          PSDB|P45000200000BR000331|             128763|    20572776000193|AÉCIO NEVES DA CUNHA|            ELEICAO 2014 AECI...|             BR|                   45|                  #NULO|                      9492800|     Atividades de org...|      17-OCT-14|      2000000|Recursos de outro...|Outros Recursos n...|Transferência ele...|               #NULO|               51990695000137|     BRADESCO VIDA E P...|                     J|                Previdência compl...|                       BRADESCO VIDA E P...|\n",
              "+------------+--------------------+-------------------+--------------------+--------------------+---+--------------------+--------------+--------------------+-------------------+------------------+--------------------+--------------------------------+---------------+---------------------+-----------------------+-----------------------------+-------------------------+---------------+-------------+--------------------+--------------------+--------------------+--------------------+-----------------------------+-------------------------+----------------------+------------------------------------+-------------------------------------------+"
            ]
          },
          "metadata": {
            "tags": []
          },
          "execution_count": 9
        }
      ]
    },
    {
      "cell_type": "code",
      "metadata": {
        "id": "nXIcP5ibVel8"
      },
      "source": [
        "doacoes_partidos = partidos.groupBy('Sigla  Partido').agg(sum('Valor receita'))\n",
        "doacoes_partidos = doacoes_partidos.withColumnRenamed('sum(Valor receita)','receita_partidos').withColumnRenamed('Sigla  Partido','sigla_partido')\n",
        "# doacoes_partidos"
      ],
      "execution_count": 10,
      "outputs": []
    },
    {
      "cell_type": "code",
      "metadata": {
        "id": "a7TfsiTy8GQ3"
      },
      "source": [
        "doacoes_candidatos = candidatos.groupBy('Sigla  Partido').agg(sum('Valor receita'))\n",
        "doacoes_candidatos = doacoes_candidatos.withColumnRenamed('sum(Valor receita)','receita_candidatos').withColumnRenamed('Sigla  Partido','candidatos_partidos')\n",
        "# doacoes_candidatos"
      ],
      "execution_count": 11,
      "outputs": []
    },
    {
      "cell_type": "code",
      "metadata": {
        "id": "sMBLAKEQ9gzW"
      },
      "source": [
        "doacoes_comites = comites.groupBy('Sigla  Partido').agg(sum('Valor receita'))\n",
        "doacoes_comites = doacoes_comites.withColumnRenamed('sum(Valor receita)','receita_comites').withColumnRenamed('Sigla  Partido','comites_partidos')\n",
        "# doacoes_comites"
      ],
      "execution_count": 12,
      "outputs": []
    },
    {
      "cell_type": "code",
      "metadata": {
        "id": "ou9iMYHg9nu2"
      },
      "source": [
        "doacoes = doacoes_partidos.join(doacoes_candidatos, doacoes_partidos.sigla_partido == doacoes_candidatos.candidatos_partidos)\n",
        "doacoes2 = doacoes.join(doacoes_comites, doacoes.sigla_partido == doacoes_comites.comites_partidos)\n",
        "\n",
        "# doacoes2"
      ],
      "execution_count": 13,
      "outputs": []
    },
    {
      "cell_type": "code",
      "metadata": {
        "id": "ciqxReAqDQP0"
      },
      "source": [
        "# doacoes2['total_doacoes'] = doacoes2['receita_partidos'] + doacoes2['receita_candidatos'] + doacoes2['receita_comites']\n",
        "# donations = doacoes2.withColumn(\"total_doacoes\", doacoes2('receita_partidos') + doacoes2('receita_candidatos') + doacoes2('receita_comites'))\n",
        "total_receita = doacoes2.withColumn(\"total_doacoes\", doacoes2.receita_partidos + doacoes2.receita_candidatos + doacoes2.receita_comites)"
      ],
      "execution_count": 14,
      "outputs": []
    },
    {
      "cell_type": "code",
      "metadata": {
        "id": "LapLzeJKHBG0"
      },
      "source": [
        "total_receita = total_receita.sort(desc('total_doacoes')).limit(10)"
      ],
      "execution_count": 15,
      "outputs": []
    },
    {
      "cell_type": "code",
      "metadata": {
        "id": "Yk_u1pBOLsgY"
      },
      "source": [
        "total_receita = total_receita.drop('candidatos_partidos','comites_partidos').sort(desc('total_doacoes'))"
      ],
      "execution_count": 16,
      "outputs": []
    },
    {
      "cell_type": "markdown",
      "metadata": {
        "id": "0TfWqhE4uerj"
      },
      "source": [
        "### 10 maiores receitas de Partidos"
      ]
    },
    {
      "cell_type": "code",
      "metadata": {
        "colab": {
          "base_uri": "https://localhost:8080/"
        },
        "id": "Qlg65BrELcux",
        "outputId": "31eb57de-a4ac-4013-93d2-21e45c01ece9"
      },
      "source": [
        "total_receita.show()"
      ],
      "execution_count": 17,
      "outputs": [
        {
          "output_type": "stream",
          "text": [
            "+-------------+----------------+------------------+---------------+-------------+\n",
            "|sigla_partido|receita_partidos|receita_candidatos|receita_comites|total_doacoes|\n",
            "+-------------+----------------+------------------+---------------+-------------+\n",
            "|           PT|    3.16596668E8|      9.19956868E8|     7.274574E7|1.309299276E9|\n",
            "|         PSDB|    3.33840403E8|      6.75281978E8|   2.93740588E8|1.302862969E9|\n",
            "|         PMDB|    4.68168731E8|      6.38647407E8|   1.49043725E8|1.255859863E9|\n",
            "|          PSB|     8.9395508E7|      2.83854798E8|    9.5294402E7| 4.68544708E8|\n",
            "|          PSD|    1.29086966E8|      2.31207726E8|      1621380.0| 3.61916072E8|\n",
            "|           PP|     1.2224843E8|      1.86493644E8|      7357800.0| 3.16099874E8|\n",
            "|           PR|     9.9068421E7|      1.39827438E8|      6319902.0| 2.45215761E8|\n",
            "|          DEM|     8.5227612E7|      1.47902837E8|      3910856.0| 2.37041305E8|\n",
            "|          PTB|     5.3939504E7|      1.24983295E8|      4727545.0| 1.83650344E8|\n",
            "|          PDT|       9671039.0|      1.36049737E8|    2.4352497E7| 1.70073273E8|\n",
            "+-------------+----------------+------------------+---------------+-------------+\n",
            "\n"
          ],
          "name": "stdout"
        }
      ]
    },
    {
      "cell_type": "code",
      "metadata": {
        "colab": {
          "base_uri": "https://localhost:8080/",
          "height": 542
        },
        "id": "xDazmPVoKqyD",
        "outputId": "eb334938-eab8-452b-f2b2-39596bf07d04"
      },
      "source": [
        "fig = px.bar(total_receita.toPandas(), x='sigla_partido', y='total_doacoes',\n",
        "             labels={'total_doacoes': 'receita', 'sigla_partido': ''})\n",
        "# fig.update_yaxes(type=\"log\")\n",
        "fig.show()"
      ],
      "execution_count": 18,
      "outputs": [
        {
          "output_type": "display_data",
          "data": {
            "text/html": [
              "<html>\n",
              "<head><meta charset=\"utf-8\" /></head>\n",
              "<body>\n",
              "    <div>            <script src=\"https://cdnjs.cloudflare.com/ajax/libs/mathjax/2.7.5/MathJax.js?config=TeX-AMS-MML_SVG\"></script><script type=\"text/javascript\">if (window.MathJax) {MathJax.Hub.Config({SVG: {font: \"STIX-Web\"}});}</script>                <script type=\"text/javascript\">window.PlotlyConfig = {MathJaxConfig: 'local'};</script>\n",
              "        <script src=\"https://cdn.plot.ly/plotly-latest.min.js\"></script>                <div id=\"8753d2fb-a684-4fec-a151-18434b383cea\" class=\"plotly-graph-div\" style=\"height:525px; width:100%;\"></div>            <script type=\"text/javascript\">                                    window.PLOTLYENV=window.PLOTLYENV || {};                                    if (document.getElementById(\"8753d2fb-a684-4fec-a151-18434b383cea\")) {                    Plotly.newPlot(                        \"8753d2fb-a684-4fec-a151-18434b383cea\",                        [{\"alignmentgroup\": \"True\", \"hovertemplate\": \"=%{x}<br>receita=%{y}<extra></extra>\", \"legendgroup\": \"\", \"marker\": {\"color\": \"#636efa\"}, \"name\": \"\", \"offsetgroup\": \"\", \"orientation\": \"v\", \"showlegend\": false, \"textposition\": \"auto\", \"type\": \"bar\", \"x\": [\"PT\", \"PSDB\", \"PMDB\", \"PSB\", \"PSD\", \"PP\", \"PR\", \"DEM\", \"PTB\", \"PDT\"], \"xaxis\": \"x\", \"y\": [1309299276.0, 1302862969.0, 1255859863.0, 468544708.0, 361916072.0, 316099874.0, 245215761.0, 237041305.0, 183650344.0, 170073273.0], \"yaxis\": \"y\"}],                        {\"barmode\": \"relative\", \"legend\": {\"tracegroupgap\": 0}, \"margin\": {\"t\": 60}, \"template\": {\"data\": {\"bar\": [{\"error_x\": {\"color\": \"#2a3f5f\"}, \"error_y\": {\"color\": \"#2a3f5f\"}, \"marker\": {\"line\": {\"color\": \"#E5ECF6\", \"width\": 0.5}}, \"type\": \"bar\"}], \"barpolar\": [{\"marker\": {\"line\": {\"color\": \"#E5ECF6\", \"width\": 0.5}}, \"type\": \"barpolar\"}], \"carpet\": [{\"aaxis\": {\"endlinecolor\": \"#2a3f5f\", \"gridcolor\": \"white\", \"linecolor\": \"white\", \"minorgridcolor\": \"white\", \"startlinecolor\": \"#2a3f5f\"}, \"baxis\": {\"endlinecolor\": \"#2a3f5f\", \"gridcolor\": \"white\", \"linecolor\": \"white\", \"minorgridcolor\": \"white\", \"startlinecolor\": \"#2a3f5f\"}, \"type\": \"carpet\"}], \"choropleth\": [{\"colorbar\": {\"outlinewidth\": 0, \"ticks\": \"\"}, \"type\": \"choropleth\"}], \"contour\": [{\"colorbar\": {\"outlinewidth\": 0, \"ticks\": \"\"}, \"colorscale\": [[0.0, \"#0d0887\"], [0.1111111111111111, \"#46039f\"], [0.2222222222222222, \"#7201a8\"], [0.3333333333333333, \"#9c179e\"], [0.4444444444444444, \"#bd3786\"], [0.5555555555555556, \"#d8576b\"], [0.6666666666666666, \"#ed7953\"], [0.7777777777777778, \"#fb9f3a\"], [0.8888888888888888, \"#fdca26\"], [1.0, \"#f0f921\"]], \"type\": \"contour\"}], \"contourcarpet\": [{\"colorbar\": {\"outlinewidth\": 0, \"ticks\": \"\"}, \"type\": \"contourcarpet\"}], \"heatmap\": [{\"colorbar\": {\"outlinewidth\": 0, \"ticks\": \"\"}, \"colorscale\": [[0.0, \"#0d0887\"], [0.1111111111111111, \"#46039f\"], [0.2222222222222222, \"#7201a8\"], [0.3333333333333333, \"#9c179e\"], [0.4444444444444444, \"#bd3786\"], [0.5555555555555556, \"#d8576b\"], [0.6666666666666666, \"#ed7953\"], [0.7777777777777778, \"#fb9f3a\"], [0.8888888888888888, \"#fdca26\"], [1.0, \"#f0f921\"]], \"type\": \"heatmap\"}], \"heatmapgl\": [{\"colorbar\": {\"outlinewidth\": 0, \"ticks\": \"\"}, \"colorscale\": [[0.0, \"#0d0887\"], [0.1111111111111111, \"#46039f\"], [0.2222222222222222, \"#7201a8\"], [0.3333333333333333, \"#9c179e\"], [0.4444444444444444, \"#bd3786\"], [0.5555555555555556, \"#d8576b\"], [0.6666666666666666, \"#ed7953\"], [0.7777777777777778, \"#fb9f3a\"], [0.8888888888888888, \"#fdca26\"], [1.0, \"#f0f921\"]], \"type\": \"heatmapgl\"}], \"histogram\": [{\"marker\": {\"colorbar\": {\"outlinewidth\": 0, \"ticks\": \"\"}}, \"type\": \"histogram\"}], \"histogram2d\": [{\"colorbar\": {\"outlinewidth\": 0, \"ticks\": \"\"}, \"colorscale\": [[0.0, \"#0d0887\"], [0.1111111111111111, \"#46039f\"], [0.2222222222222222, \"#7201a8\"], [0.3333333333333333, \"#9c179e\"], [0.4444444444444444, \"#bd3786\"], [0.5555555555555556, \"#d8576b\"], [0.6666666666666666, \"#ed7953\"], [0.7777777777777778, \"#fb9f3a\"], [0.8888888888888888, \"#fdca26\"], [1.0, \"#f0f921\"]], \"type\": \"histogram2d\"}], \"histogram2dcontour\": [{\"colorbar\": {\"outlinewidth\": 0, \"ticks\": \"\"}, \"colorscale\": [[0.0, \"#0d0887\"], [0.1111111111111111, \"#46039f\"], [0.2222222222222222, \"#7201a8\"], [0.3333333333333333, \"#9c179e\"], [0.4444444444444444, \"#bd3786\"], [0.5555555555555556, \"#d8576b\"], [0.6666666666666666, \"#ed7953\"], [0.7777777777777778, \"#fb9f3a\"], [0.8888888888888888, \"#fdca26\"], [1.0, \"#f0f921\"]], \"type\": \"histogram2dcontour\"}], \"mesh3d\": [{\"colorbar\": {\"outlinewidth\": 0, \"ticks\": \"\"}, \"type\": \"mesh3d\"}], \"parcoords\": [{\"line\": {\"colorbar\": {\"outlinewidth\": 0, \"ticks\": \"\"}}, \"type\": \"parcoords\"}], \"pie\": [{\"automargin\": true, \"type\": \"pie\"}], \"scatter\": [{\"marker\": {\"colorbar\": {\"outlinewidth\": 0, \"ticks\": \"\"}}, \"type\": \"scatter\"}], \"scatter3d\": [{\"line\": {\"colorbar\": {\"outlinewidth\": 0, \"ticks\": \"\"}}, \"marker\": {\"colorbar\": {\"outlinewidth\": 0, \"ticks\": \"\"}}, \"type\": \"scatter3d\"}], \"scattercarpet\": [{\"marker\": {\"colorbar\": {\"outlinewidth\": 0, \"ticks\": \"\"}}, \"type\": \"scattercarpet\"}], \"scattergeo\": [{\"marker\": {\"colorbar\": {\"outlinewidth\": 0, \"ticks\": \"\"}}, \"type\": \"scattergeo\"}], \"scattergl\": [{\"marker\": {\"colorbar\": {\"outlinewidth\": 0, \"ticks\": \"\"}}, \"type\": \"scattergl\"}], \"scattermapbox\": [{\"marker\": {\"colorbar\": {\"outlinewidth\": 0, \"ticks\": \"\"}}, \"type\": \"scattermapbox\"}], \"scatterpolar\": [{\"marker\": {\"colorbar\": {\"outlinewidth\": 0, \"ticks\": \"\"}}, \"type\": \"scatterpolar\"}], \"scatterpolargl\": [{\"marker\": {\"colorbar\": {\"outlinewidth\": 0, \"ticks\": \"\"}}, \"type\": \"scatterpolargl\"}], \"scatterternary\": [{\"marker\": {\"colorbar\": {\"outlinewidth\": 0, \"ticks\": \"\"}}, \"type\": \"scatterternary\"}], \"surface\": [{\"colorbar\": {\"outlinewidth\": 0, \"ticks\": \"\"}, \"colorscale\": [[0.0, \"#0d0887\"], [0.1111111111111111, \"#46039f\"], [0.2222222222222222, \"#7201a8\"], [0.3333333333333333, \"#9c179e\"], [0.4444444444444444, \"#bd3786\"], [0.5555555555555556, \"#d8576b\"], [0.6666666666666666, \"#ed7953\"], [0.7777777777777778, \"#fb9f3a\"], [0.8888888888888888, \"#fdca26\"], [1.0, \"#f0f921\"]], \"type\": \"surface\"}], \"table\": [{\"cells\": {\"fill\": {\"color\": \"#EBF0F8\"}, \"line\": {\"color\": \"white\"}}, \"header\": {\"fill\": {\"color\": \"#C8D4E3\"}, \"line\": {\"color\": \"white\"}}, \"type\": \"table\"}]}, \"layout\": {\"annotationdefaults\": {\"arrowcolor\": \"#2a3f5f\", \"arrowhead\": 0, \"arrowwidth\": 1}, \"autotypenumbers\": \"strict\", \"coloraxis\": {\"colorbar\": {\"outlinewidth\": 0, \"ticks\": \"\"}}, \"colorscale\": {\"diverging\": [[0, \"#8e0152\"], [0.1, \"#c51b7d\"], [0.2, \"#de77ae\"], [0.3, \"#f1b6da\"], [0.4, \"#fde0ef\"], [0.5, \"#f7f7f7\"], [0.6, \"#e6f5d0\"], [0.7, \"#b8e186\"], [0.8, \"#7fbc41\"], [0.9, \"#4d9221\"], [1, \"#276419\"]], \"sequential\": [[0.0, \"#0d0887\"], [0.1111111111111111, \"#46039f\"], [0.2222222222222222, \"#7201a8\"], [0.3333333333333333, \"#9c179e\"], [0.4444444444444444, \"#bd3786\"], [0.5555555555555556, \"#d8576b\"], [0.6666666666666666, \"#ed7953\"], [0.7777777777777778, \"#fb9f3a\"], [0.8888888888888888, \"#fdca26\"], [1.0, \"#f0f921\"]], \"sequentialminus\": [[0.0, \"#0d0887\"], [0.1111111111111111, \"#46039f\"], [0.2222222222222222, \"#7201a8\"], [0.3333333333333333, \"#9c179e\"], [0.4444444444444444, \"#bd3786\"], [0.5555555555555556, \"#d8576b\"], [0.6666666666666666, \"#ed7953\"], [0.7777777777777778, \"#fb9f3a\"], [0.8888888888888888, \"#fdca26\"], [1.0, \"#f0f921\"]]}, \"colorway\": [\"#636efa\", \"#EF553B\", \"#00cc96\", \"#ab63fa\", \"#FFA15A\", \"#19d3f3\", \"#FF6692\", \"#B6E880\", \"#FF97FF\", \"#FECB52\"], \"font\": {\"color\": \"#2a3f5f\"}, \"geo\": {\"bgcolor\": \"white\", \"lakecolor\": \"white\", \"landcolor\": \"#E5ECF6\", \"showlakes\": true, \"showland\": true, \"subunitcolor\": \"white\"}, \"hoverlabel\": {\"align\": \"left\"}, \"hovermode\": \"closest\", \"mapbox\": {\"style\": \"light\"}, \"paper_bgcolor\": \"white\", \"plot_bgcolor\": \"#E5ECF6\", \"polar\": {\"angularaxis\": {\"gridcolor\": \"white\", \"linecolor\": \"white\", \"ticks\": \"\"}, \"bgcolor\": \"#E5ECF6\", \"radialaxis\": {\"gridcolor\": \"white\", \"linecolor\": \"white\", \"ticks\": \"\"}}, \"scene\": {\"xaxis\": {\"backgroundcolor\": \"#E5ECF6\", \"gridcolor\": \"white\", \"gridwidth\": 2, \"linecolor\": \"white\", \"showbackground\": true, \"ticks\": \"\", \"zerolinecolor\": \"white\"}, \"yaxis\": {\"backgroundcolor\": \"#E5ECF6\", \"gridcolor\": \"white\", \"gridwidth\": 2, \"linecolor\": \"white\", \"showbackground\": true, \"ticks\": \"\", \"zerolinecolor\": \"white\"}, \"zaxis\": {\"backgroundcolor\": \"#E5ECF6\", \"gridcolor\": \"white\", \"gridwidth\": 2, \"linecolor\": \"white\", \"showbackground\": true, \"ticks\": \"\", \"zerolinecolor\": \"white\"}}, \"shapedefaults\": {\"line\": {\"color\": \"#2a3f5f\"}}, \"ternary\": {\"aaxis\": {\"gridcolor\": \"white\", \"linecolor\": \"white\", \"ticks\": \"\"}, \"baxis\": {\"gridcolor\": \"white\", \"linecolor\": \"white\", \"ticks\": \"\"}, \"bgcolor\": \"#E5ECF6\", \"caxis\": {\"gridcolor\": \"white\", \"linecolor\": \"white\", \"ticks\": \"\"}}, \"title\": {\"x\": 0.05}, \"xaxis\": {\"automargin\": true, \"gridcolor\": \"white\", \"linecolor\": \"white\", \"ticks\": \"\", \"title\": {\"standoff\": 15}, \"zerolinecolor\": \"white\", \"zerolinewidth\": 2}, \"yaxis\": {\"automargin\": true, \"gridcolor\": \"white\", \"linecolor\": \"white\", \"ticks\": \"\", \"title\": {\"standoff\": 15}, \"zerolinecolor\": \"white\", \"zerolinewidth\": 2}}}, \"xaxis\": {\"anchor\": \"y\", \"domain\": [0.0, 1.0], \"title\": {\"text\": \"\"}}, \"yaxis\": {\"anchor\": \"x\", \"domain\": [0.0, 1.0], \"title\": {\"text\": \"receita\"}}},                        {\"responsive\": true}                    ).then(function(){\n",
              "                            \n",
              "var gd = document.getElementById('8753d2fb-a684-4fec-a151-18434b383cea');\n",
              "var x = new MutationObserver(function (mutations, observer) {{\n",
              "        var display = window.getComputedStyle(gd).display;\n",
              "        if (!display || display === 'none') {{\n",
              "            console.log([gd, 'removed!']);\n",
              "            Plotly.purge(gd);\n",
              "            observer.disconnect();\n",
              "        }}\n",
              "}});\n",
              "\n",
              "// Listen for the removal of the full notebook cells\n",
              "var notebookContainer = gd.closest('#notebook-container');\n",
              "if (notebookContainer) {{\n",
              "    x.observe(notebookContainer, {childList: true});\n",
              "}}\n",
              "\n",
              "// Listen for the clearing of the current output cell\n",
              "var outputEl = gd.closest('.output');\n",
              "if (outputEl) {{\n",
              "    x.observe(outputEl, {childList: true});\n",
              "}}\n",
              "\n",
              "                        })                };                            </script>        </div>\n",
              "</body>\n",
              "</html>"
            ]
          },
          "metadata": {
            "tags": []
          }
        }
      ]
    },
    {
      "cell_type": "markdown",
      "metadata": {
        "id": "HLP9qXY5O32h"
      },
      "source": [
        "### A votação que os candidatos a presidente tiveram no segundo turno e quanto seus partidos arrecadaram"
      ]
    },
    {
      "cell_type": "code",
      "metadata": {
        "id": "pudKcoF_LSkG"
      },
      "source": [
        "candidatos = spark.read.csv('/drive/MyDrive/Desafio/receitas_candidatos_2014_brasil_english.csv', header=True)\n",
        "# candidatos.limit(5)\n",
        "candidatos = candidatos.select('cat_candidate_name', 'id_candidate_num', 'cat_party', 'cat_political_office')\n",
        "presidentes = candidatos.filter(candidatos.cat_political_office == 'Presidente')\n",
        "presidentes = presidentes.dropDuplicates()\n",
        "presidentes = presidentes.withColumnRenamed('cat_candidate_name','cat_candidate_name_pres').withColumnRenamed('id_candidate_num','id_candidate_num_pres').withColumnRenamed('cat_party','cat_party_pres').withColumnRenamed('cat_political_office','cat_political_office_pres')\n",
        "\n",
        "# presidentes.show()"
      ],
      "execution_count": 19,
      "outputs": []
    },
    {
      "cell_type": "code",
      "metadata": {
        "id": "Nw321qYIPNZP"
      },
      "source": [
        "votacao = spark.read.csv('/drive/MyDrive/Desafio/votacao_brasil_english.csv',header=True)\n",
        "votacao = votacao.filter(votacao.num_turn == 2)"
      ],
      "execution_count": 20,
      "outputs": []
    },
    {
      "cell_type": "code",
      "metadata": {
        "id": "H8JRN4n-PWfj"
      },
      "source": [
        "presidentes_segundo_turno = votacao.join(presidentes, votacao.cat_candidate_name == presidentes.cat_candidate_name_pres)"
      ],
      "execution_count": 21,
      "outputs": []
    },
    {
      "cell_type": "code",
      "metadata": {
        "id": "WIGu61zMPjNC"
      },
      "source": [
        "presidentes_segundo_turno = presidentes_segundo_turno.groupBy('cat_candidate_name',).agg(sum('num_votes'))"
      ],
      "execution_count": 23,
      "outputs": []
    },
    {
      "cell_type": "code",
      "metadata": {
        "id": "pH7vLEnbP7ax"
      },
      "source": [
        "presidentes_segundo_turno = presidentes_segundo_turno.withColumnRenamed('cat_candidate_name','candidato').withColumnRenamed('sum(num_votes)','total_votos')\n",
        "presidentes_segundo_turno = presidentes_segundo_turno.join(presidentes, presidentes.cat_candidate_name_pres == presidentes_segundo_turno.candidato)\n",
        "presidentes_segundo_turno = presidentes_segundo_turno.join(total_receita, presidentes_segundo_turno.cat_party_pres == total_receita.sigla_partido)\n",
        "presidentes_segundo_turno = presidentes_segundo_turno.drop('cat_political_office_pres', 'cat_candidate_name_pres','sigla_partido')\n",
        "presidentes_segundo_turno = presidentes_segundo_turno.withColumn(\"candidato_partido\", concat(col('id_candidate_num_pres'), lit(' - '), col('candidato')))\n",
        "\n",
        "# presidentes_segundo_turno"
      ],
      "execution_count": 24,
      "outputs": []
    },
    {
      "cell_type": "code",
      "metadata": {
        "colab": {
          "base_uri": "https://localhost:8080/",
          "height": 637
        },
        "id": "0HlXjHG1a3pe",
        "outputId": "08456c65-0357-46b3-cfee-ee77b41b13d5"
      },
      "source": [
        "# converte colunas em uma lista\n",
        "labels = presidentes_segundo_turno.select('candidato_partido').toPandas()['candidato_partido'].tolist()\n",
        "total_votos = presidentes_segundo_turno.select('total_votos').toPandas()['total_votos'].tolist()\n",
        "total_doacoes = presidentes_segundo_turno.select('total_doacoes').toPandas()['total_doacoes'].tolist()\n",
        "\n",
        "# plota subgráficos com as colunas 'total_doacoes' e 'total_votos'\n",
        "fig = make_subplots(rows=1, cols=2, specs=[[{'type':'domain'}, {'type':'domain'}]], subplot_titles=['receita', 'votos'])\n",
        "fig.add_trace(go.Pie(labels=labels, values=total_doacoes, name=\"receita\"), \n",
        "              1, 1)\n",
        "fig.add_trace(go.Pie(labels=labels, values=total_votos, name=\"votos\"),\n",
        "              1, 2)\n",
        "\n",
        "fig.update_layout(height=600, width=1200, title_text='Receita X Votação')"
      ],
      "execution_count": 29,
      "outputs": [
        {
          "output_type": "display_data",
          "data": {
            "text/html": [
              "<html>\n",
              "<head><meta charset=\"utf-8\" /></head>\n",
              "<body>\n",
              "    <div>            <script src=\"https://cdnjs.cloudflare.com/ajax/libs/mathjax/2.7.5/MathJax.js?config=TeX-AMS-MML_SVG\"></script><script type=\"text/javascript\">if (window.MathJax) {MathJax.Hub.Config({SVG: {font: \"STIX-Web\"}});}</script>                <script type=\"text/javascript\">window.PlotlyConfig = {MathJaxConfig: 'local'};</script>\n",
              "        <script src=\"https://cdn.plot.ly/plotly-latest.min.js\"></script>                <div id=\"7db9b276-e096-42c6-8a3f-07105b35c804\" class=\"plotly-graph-div\" style=\"height:600px; width:1200px;\"></div>            <script type=\"text/javascript\">                                    window.PLOTLYENV=window.PLOTLYENV || {};                                    if (document.getElementById(\"7db9b276-e096-42c6-8a3f-07105b35c804\")) {                    Plotly.newPlot(                        \"7db9b276-e096-42c6-8a3f-07105b35c804\",                        [{\"domain\": {\"x\": [0.0, 0.45], \"y\": [0.0, 1.0]}, \"labels\": [\"13 - DILMA VANA ROUSSEFF\", \"45 - A\\u00c9CIO NEVES DA CUNHA\"], \"name\": \"receita\", \"type\": \"pie\", \"values\": [1309299276.0, 1302862969.0]}, {\"domain\": {\"x\": [0.55, 1.0], \"y\": [0.0, 1.0]}, \"labels\": [\"13 - DILMA VANA ROUSSEFF\", \"45 - A\\u00c9CIO NEVES DA CUNHA\"], \"name\": \"votos\", \"type\": \"pie\", \"values\": [54501118.0, 51041155.0]}],                        {\"annotations\": [{\"font\": {\"size\": 16}, \"showarrow\": false, \"text\": \"receita\", \"x\": 0.225, \"xanchor\": \"center\", \"xref\": \"paper\", \"y\": 1.0, \"yanchor\": \"bottom\", \"yref\": \"paper\"}, {\"font\": {\"size\": 16}, \"showarrow\": false, \"text\": \"votos\", \"x\": 0.775, \"xanchor\": \"center\", \"xref\": \"paper\", \"y\": 1.0, \"yanchor\": \"bottom\", \"yref\": \"paper\"}], \"height\": 600, \"template\": {\"data\": {\"bar\": [{\"error_x\": {\"color\": \"#2a3f5f\"}, \"error_y\": {\"color\": \"#2a3f5f\"}, \"marker\": {\"line\": {\"color\": \"#E5ECF6\", \"width\": 0.5}}, \"type\": \"bar\"}], \"barpolar\": [{\"marker\": {\"line\": {\"color\": \"#E5ECF6\", \"width\": 0.5}}, \"type\": \"barpolar\"}], \"carpet\": [{\"aaxis\": {\"endlinecolor\": \"#2a3f5f\", \"gridcolor\": \"white\", \"linecolor\": \"white\", \"minorgridcolor\": \"white\", \"startlinecolor\": \"#2a3f5f\"}, \"baxis\": {\"endlinecolor\": \"#2a3f5f\", \"gridcolor\": \"white\", \"linecolor\": \"white\", \"minorgridcolor\": \"white\", \"startlinecolor\": \"#2a3f5f\"}, \"type\": \"carpet\"}], \"choropleth\": [{\"colorbar\": {\"outlinewidth\": 0, \"ticks\": \"\"}, \"type\": \"choropleth\"}], \"contour\": [{\"colorbar\": {\"outlinewidth\": 0, \"ticks\": \"\"}, \"colorscale\": [[0.0, \"#0d0887\"], [0.1111111111111111, \"#46039f\"], [0.2222222222222222, \"#7201a8\"], [0.3333333333333333, \"#9c179e\"], [0.4444444444444444, \"#bd3786\"], [0.5555555555555556, \"#d8576b\"], [0.6666666666666666, \"#ed7953\"], [0.7777777777777778, \"#fb9f3a\"], [0.8888888888888888, \"#fdca26\"], [1.0, \"#f0f921\"]], \"type\": \"contour\"}], \"contourcarpet\": [{\"colorbar\": {\"outlinewidth\": 0, \"ticks\": \"\"}, \"type\": \"contourcarpet\"}], \"heatmap\": [{\"colorbar\": {\"outlinewidth\": 0, \"ticks\": \"\"}, \"colorscale\": [[0.0, \"#0d0887\"], [0.1111111111111111, \"#46039f\"], [0.2222222222222222, \"#7201a8\"], [0.3333333333333333, \"#9c179e\"], [0.4444444444444444, \"#bd3786\"], [0.5555555555555556, \"#d8576b\"], [0.6666666666666666, \"#ed7953\"], [0.7777777777777778, \"#fb9f3a\"], [0.8888888888888888, \"#fdca26\"], [1.0, \"#f0f921\"]], \"type\": \"heatmap\"}], \"heatmapgl\": [{\"colorbar\": {\"outlinewidth\": 0, \"ticks\": \"\"}, \"colorscale\": [[0.0, \"#0d0887\"], [0.1111111111111111, \"#46039f\"], [0.2222222222222222, \"#7201a8\"], [0.3333333333333333, \"#9c179e\"], [0.4444444444444444, \"#bd3786\"], [0.5555555555555556, \"#d8576b\"], [0.6666666666666666, \"#ed7953\"], [0.7777777777777778, \"#fb9f3a\"], [0.8888888888888888, \"#fdca26\"], [1.0, \"#f0f921\"]], \"type\": \"heatmapgl\"}], \"histogram\": [{\"marker\": {\"colorbar\": {\"outlinewidth\": 0, \"ticks\": \"\"}}, \"type\": \"histogram\"}], \"histogram2d\": [{\"colorbar\": {\"outlinewidth\": 0, \"ticks\": \"\"}, \"colorscale\": [[0.0, \"#0d0887\"], [0.1111111111111111, \"#46039f\"], [0.2222222222222222, \"#7201a8\"], [0.3333333333333333, \"#9c179e\"], [0.4444444444444444, \"#bd3786\"], [0.5555555555555556, \"#d8576b\"], [0.6666666666666666, \"#ed7953\"], [0.7777777777777778, \"#fb9f3a\"], [0.8888888888888888, \"#fdca26\"], [1.0, \"#f0f921\"]], \"type\": \"histogram2d\"}], \"histogram2dcontour\": [{\"colorbar\": {\"outlinewidth\": 0, \"ticks\": \"\"}, \"colorscale\": [[0.0, \"#0d0887\"], [0.1111111111111111, \"#46039f\"], [0.2222222222222222, \"#7201a8\"], [0.3333333333333333, \"#9c179e\"], [0.4444444444444444, \"#bd3786\"], [0.5555555555555556, \"#d8576b\"], [0.6666666666666666, \"#ed7953\"], [0.7777777777777778, \"#fb9f3a\"], [0.8888888888888888, \"#fdca26\"], [1.0, \"#f0f921\"]], \"type\": \"histogram2dcontour\"}], \"mesh3d\": [{\"colorbar\": {\"outlinewidth\": 0, \"ticks\": \"\"}, \"type\": \"mesh3d\"}], \"parcoords\": [{\"line\": {\"colorbar\": {\"outlinewidth\": 0, \"ticks\": \"\"}}, \"type\": \"parcoords\"}], \"pie\": [{\"automargin\": true, \"type\": \"pie\"}], \"scatter\": [{\"marker\": {\"colorbar\": {\"outlinewidth\": 0, \"ticks\": \"\"}}, \"type\": \"scatter\"}], \"scatter3d\": [{\"line\": {\"colorbar\": {\"outlinewidth\": 0, \"ticks\": \"\"}}, \"marker\": {\"colorbar\": {\"outlinewidth\": 0, \"ticks\": \"\"}}, \"type\": \"scatter3d\"}], \"scattercarpet\": [{\"marker\": {\"colorbar\": {\"outlinewidth\": 0, \"ticks\": \"\"}}, \"type\": \"scattercarpet\"}], \"scattergeo\": [{\"marker\": {\"colorbar\": {\"outlinewidth\": 0, \"ticks\": \"\"}}, \"type\": \"scattergeo\"}], \"scattergl\": [{\"marker\": {\"colorbar\": {\"outlinewidth\": 0, \"ticks\": \"\"}}, \"type\": \"scattergl\"}], \"scattermapbox\": [{\"marker\": {\"colorbar\": {\"outlinewidth\": 0, \"ticks\": \"\"}}, \"type\": \"scattermapbox\"}], \"scatterpolar\": [{\"marker\": {\"colorbar\": {\"outlinewidth\": 0, \"ticks\": \"\"}}, \"type\": \"scatterpolar\"}], \"scatterpolargl\": [{\"marker\": {\"colorbar\": {\"outlinewidth\": 0, \"ticks\": \"\"}}, \"type\": \"scatterpolargl\"}], \"scatterternary\": [{\"marker\": {\"colorbar\": {\"outlinewidth\": 0, \"ticks\": \"\"}}, \"type\": \"scatterternary\"}], \"surface\": [{\"colorbar\": {\"outlinewidth\": 0, \"ticks\": \"\"}, \"colorscale\": [[0.0, \"#0d0887\"], [0.1111111111111111, \"#46039f\"], [0.2222222222222222, \"#7201a8\"], [0.3333333333333333, \"#9c179e\"], [0.4444444444444444, \"#bd3786\"], [0.5555555555555556, \"#d8576b\"], [0.6666666666666666, \"#ed7953\"], [0.7777777777777778, \"#fb9f3a\"], [0.8888888888888888, \"#fdca26\"], [1.0, \"#f0f921\"]], \"type\": \"surface\"}], \"table\": [{\"cells\": {\"fill\": {\"color\": \"#EBF0F8\"}, \"line\": {\"color\": \"white\"}}, \"header\": {\"fill\": {\"color\": \"#C8D4E3\"}, \"line\": {\"color\": \"white\"}}, \"type\": \"table\"}]}, \"layout\": {\"annotationdefaults\": {\"arrowcolor\": \"#2a3f5f\", \"arrowhead\": 0, \"arrowwidth\": 1}, \"autotypenumbers\": \"strict\", \"coloraxis\": {\"colorbar\": {\"outlinewidth\": 0, \"ticks\": \"\"}}, \"colorscale\": {\"diverging\": [[0, \"#8e0152\"], [0.1, \"#c51b7d\"], [0.2, \"#de77ae\"], [0.3, \"#f1b6da\"], [0.4, \"#fde0ef\"], [0.5, \"#f7f7f7\"], [0.6, \"#e6f5d0\"], [0.7, \"#b8e186\"], [0.8, \"#7fbc41\"], [0.9, \"#4d9221\"], [1, \"#276419\"]], \"sequential\": [[0.0, \"#0d0887\"], [0.1111111111111111, \"#46039f\"], [0.2222222222222222, \"#7201a8\"], [0.3333333333333333, \"#9c179e\"], [0.4444444444444444, \"#bd3786\"], [0.5555555555555556, \"#d8576b\"], [0.6666666666666666, \"#ed7953\"], [0.7777777777777778, \"#fb9f3a\"], [0.8888888888888888, \"#fdca26\"], [1.0, \"#f0f921\"]], \"sequentialminus\": [[0.0, \"#0d0887\"], [0.1111111111111111, \"#46039f\"], [0.2222222222222222, \"#7201a8\"], [0.3333333333333333, \"#9c179e\"], [0.4444444444444444, \"#bd3786\"], [0.5555555555555556, \"#d8576b\"], [0.6666666666666666, \"#ed7953\"], [0.7777777777777778, \"#fb9f3a\"], [0.8888888888888888, \"#fdca26\"], [1.0, \"#f0f921\"]]}, \"colorway\": [\"#636efa\", \"#EF553B\", \"#00cc96\", \"#ab63fa\", \"#FFA15A\", \"#19d3f3\", \"#FF6692\", \"#B6E880\", \"#FF97FF\", \"#FECB52\"], \"font\": {\"color\": \"#2a3f5f\"}, \"geo\": {\"bgcolor\": \"white\", \"lakecolor\": \"white\", \"landcolor\": \"#E5ECF6\", \"showlakes\": true, \"showland\": true, \"subunitcolor\": \"white\"}, \"hoverlabel\": {\"align\": \"left\"}, \"hovermode\": \"closest\", \"mapbox\": {\"style\": \"light\"}, \"paper_bgcolor\": \"white\", \"plot_bgcolor\": \"#E5ECF6\", \"polar\": {\"angularaxis\": {\"gridcolor\": \"white\", \"linecolor\": \"white\", \"ticks\": \"\"}, \"bgcolor\": \"#E5ECF6\", \"radialaxis\": {\"gridcolor\": \"white\", \"linecolor\": \"white\", \"ticks\": \"\"}}, \"scene\": {\"xaxis\": {\"backgroundcolor\": \"#E5ECF6\", \"gridcolor\": \"white\", \"gridwidth\": 2, \"linecolor\": \"white\", \"showbackground\": true, \"ticks\": \"\", \"zerolinecolor\": \"white\"}, \"yaxis\": {\"backgroundcolor\": \"#E5ECF6\", \"gridcolor\": \"white\", \"gridwidth\": 2, \"linecolor\": \"white\", \"showbackground\": true, \"ticks\": \"\", \"zerolinecolor\": \"white\"}, \"zaxis\": {\"backgroundcolor\": \"#E5ECF6\", \"gridcolor\": \"white\", \"gridwidth\": 2, \"linecolor\": \"white\", \"showbackground\": true, \"ticks\": \"\", \"zerolinecolor\": \"white\"}}, \"shapedefaults\": {\"line\": {\"color\": \"#2a3f5f\"}}, \"ternary\": {\"aaxis\": {\"gridcolor\": \"white\", \"linecolor\": \"white\", \"ticks\": \"\"}, \"baxis\": {\"gridcolor\": \"white\", \"linecolor\": \"white\", \"ticks\": \"\"}, \"bgcolor\": \"#E5ECF6\", \"caxis\": {\"gridcolor\": \"white\", \"linecolor\": \"white\", \"ticks\": \"\"}}, \"title\": {\"x\": 0.05}, \"xaxis\": {\"automargin\": true, \"gridcolor\": \"white\", \"linecolor\": \"white\", \"ticks\": \"\", \"title\": {\"standoff\": 15}, \"zerolinecolor\": \"white\", \"zerolinewidth\": 2}, \"yaxis\": {\"automargin\": true, \"gridcolor\": \"white\", \"linecolor\": \"white\", \"ticks\": \"\", \"title\": {\"standoff\": 15}, \"zerolinecolor\": \"white\", \"zerolinewidth\": 2}}}, \"title\": {\"text\": \"Receita X Vota\\u00e7\\u00e3o\"}, \"width\": 1200},                        {\"responsive\": true}                    ).then(function(){\n",
              "                            \n",
              "var gd = document.getElementById('7db9b276-e096-42c6-8a3f-07105b35c804');\n",
              "var x = new MutationObserver(function (mutations, observer) {{\n",
              "        var display = window.getComputedStyle(gd).display;\n",
              "        if (!display || display === 'none') {{\n",
              "            console.log([gd, 'removed!']);\n",
              "            Plotly.purge(gd);\n",
              "            observer.disconnect();\n",
              "        }}\n",
              "}});\n",
              "\n",
              "// Listen for the removal of the full notebook cells\n",
              "var notebookContainer = gd.closest('#notebook-container');\n",
              "if (notebookContainer) {{\n",
              "    x.observe(notebookContainer, {childList: true});\n",
              "}}\n",
              "\n",
              "// Listen for the clearing of the current output cell\n",
              "var outputEl = gd.closest('.output');\n",
              "if (outputEl) {{\n",
              "    x.observe(outputEl, {childList: true});\n",
              "}}\n",
              "\n",
              "                        })                };                            </script>        </div>\n",
              "</body>\n",
              "</html>"
            ]
          },
          "metadata": {
            "tags": []
          }
        }
      ]
    },
    {
      "cell_type": "code",
      "metadata": {
        "id": "acYnguLqp0AK"
      },
      "source": [
        ""
      ],
      "execution_count": 28,
      "outputs": []
    }
  ]
}