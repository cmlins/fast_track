{
 "metadata": {
  "language_info": {
   "codemirror_mode": {
    "name": "ipython",
    "version": 3
   },
   "file_extension": ".py",
   "mimetype": "text/x-python",
   "name": "python",
   "nbconvert_exporter": "python",
   "pygments_lexer": "ipython3",
   "version": "3.9.5-final"
  },
  "orig_nbformat": 2,
  "kernelspec": {
   "name": "python3",
   "display_name": "Python 3.9.5 64-bit",
   "metadata": {
    "interpreter": {
     "hash": "80f86b25897c9ef6df09b78df6c4287c2aab8ff183948276f95a4705cf536b45"
    }
   }
  }
 },
 "nbformat": 4,
 "nbformat_minor": 2,
 "cells": [
  {
   "source": [
    "# Conjuntos (sets)\n",
    "em Python, conjuntos não tem elementos repetidos"
   ],
   "cell_type": "markdown",
   "metadata": {}
  },
  {
   "cell_type": "code",
   "execution_count": 1,
   "metadata": {},
   "outputs": [
    {
     "output_type": "execute_result",
     "data": {
      "text/plain": [
       "8"
      ]
     },
     "metadata": {},
     "execution_count": 1
    }
   ],
   "source": [
    "watched = [15, 23, 43, 56, 13, 23, 56, 42]\n",
    "\n",
    "len(watched)"
   ]
  },
  {
   "cell_type": "code",
   "execution_count": 2,
   "metadata": {},
   "outputs": [
    {
     "output_type": "execute_result",
     "data": {
      "text/plain": [
       "{13, 15, 23, 42, 43, 56}"
      ]
     },
     "metadata": {},
     "execution_count": 2
    }
   ],
   "source": [
    "set(watched)"
   ]
  },
  {
   "cell_type": "code",
   "execution_count": 3,
   "metadata": {},
   "outputs": [
    {
     "output_type": "execute_result",
     "data": {
      "text/plain": [
       "{13, 15, 23, 42, 43, 56}"
      ]
     },
     "metadata": {},
     "execution_count": 3
    }
   ],
   "source": [
    "{15, 23, 43, 56, 13, 23, 56, 42}"
   ]
  },
  {
   "cell_type": "code",
   "execution_count": 4,
   "metadata": {},
   "outputs": [],
   "source": [
    "users_ds = {15, 23, 43, 56}\n",
    "users_ml = {13, 23, 56, 42}"
   ]
  },
  {
   "source": [
    "Utilizar o | para juntar conjuntos"
   ],
   "cell_type": "markdown",
   "metadata": {}
  },
  {
   "cell_type": "code",
   "execution_count": 5,
   "metadata": {},
   "outputs": [
    {
     "output_type": "execute_result",
     "data": {
      "text/plain": [
       "{13, 15, 23, 42, 43, 56}"
      ]
     },
     "metadata": {},
     "execution_count": 5
    }
   ],
   "source": [
    "users_ds | users_ml"
   ]
  },
  {
   "source": [
    "Utilizar o & para juntar apenas números que estão no mesmo conjunto"
   ],
   "cell_type": "markdown",
   "metadata": {}
  },
  {
   "cell_type": "code",
   "execution_count": 6,
   "metadata": {},
   "outputs": [
    {
     "output_type": "execute_result",
     "data": {
      "text/plain": [
       "{23, 56}"
      ]
     },
     "metadata": {},
     "execution_count": 6
    }
   ],
   "source": [
    "users_ds & users_ml"
   ]
  },
  {
   "source": [
    "Utilizar o - para remover números repetidos que estão no em dois conjuntos"
   ],
   "cell_type": "markdown",
   "metadata": {}
  },
  {
   "cell_type": "code",
   "execution_count": 7,
   "metadata": {},
   "outputs": [
    {
     "output_type": "execute_result",
     "data": {
      "text/plain": [
       "{15, 43}"
      ]
     },
     "metadata": {},
     "execution_count": 7
    }
   ],
   "source": [
    "users_ds - users_ml"
   ]
  },
  {
   "source": [
    "O que é ou (^) exclusivo"
   ],
   "cell_type": "markdown",
   "metadata": {}
  },
  {
   "cell_type": "code",
   "execution_count": 9,
   "metadata": {},
   "outputs": [
    {
     "output_type": "execute_result",
     "data": {
      "text/plain": [
       "{13, 15, 42, 43}"
      ]
     },
     "metadata": {},
     "execution_count": 9
    }
   ],
   "source": [
    "users_ds ^ users_ml"
   ]
  },
  {
   "source": [
    "### frozenset --> congela um conjunto"
   ],
   "cell_type": "markdown",
   "metadata": {}
  },
  {
   "cell_type": "code",
   "execution_count": 16,
   "metadata": {},
   "outputs": [
    {
     "output_type": "stream",
     "name": "stdout",
     "text": [
      "['Se', 'aproveitou', 'do', 'discurso', 'da', 'homoafetividade', 'com', 'o', 'intuito', 'egoístico', 'que', 'transcendem', 'a', 'normalidade', 'dos', 'fatos.', 'Se', 'aproveitou', 'do', 'discurso', 'da', 'mulher', 'branca', 'socialmente', 'privilegiada,', 'em', 'detrimento', 'da', 'pauta', 'antirracial', 'cujos', 'fenótipos', 'nunca', 'serão', 'sobrepujados', 'em', 'detrimento', 'dos', 'negros.', 'Se', 'apropriou', 'da', 'comunidade', 'LGBTQIA+', 'no', 'contexto', 'civilizacional', 'contemporâneo', 'de', 'maneira', 'a', 'dizimar', 'o', 'discurso', 'acolhedor,', 'quizsfazer', 'palco', 'em', 'cima', 'da', 'luta', 'anti-colonialista', 'sendo', 'contraproducente', 'com', 'quem', 'é', 'diferente', 'de', 'você.']\n"
     ]
    },
    {
     "output_type": "execute_result",
     "data": {
      "text/plain": [
       "70"
      ]
     },
     "metadata": {},
     "execution_count": 16
    }
   ],
   "source": [
    "lumena = 'Se aproveitou do discurso da homoafetividade com o intuito egoístico que transcendem a normalidade dos fatos. Se aproveitou do discurso da mulher branca socialmente privilegiada, em detrimento da pauta antirracial cujos fenótipos nunca serão sobrepujados em detrimento dos negros. Se apropriou da comunidade LGBTQIA+ no contexto civilizacional contemporâneo de maneira a dizimar o discurso acolhedor, quizsfazer palco em cima da luta anti-colonialista sendo contraproducente com quem é diferente de você.'\n",
    "\n",
    "lumena_split = lumena.split(' ')\n",
    "print(lumena_split)\n",
    "len(lumena_split)"
   ]
  },
  {
   "cell_type": "code",
   "execution_count": 17,
   "metadata": {},
   "outputs": [
    {
     "output_type": "stream",
     "name": "stdout",
     "text": [
      "{'cujos', 'LGBTQIA+', 'branca', 'normalidade', 'fenótipos', 'discurso', 'egoístico', 'nunca', 'é', 'quizsfazer', 'com', 'que', 'sendo', 'o', 'antirracial', 'você.', 'aproveitou', 'a', 'negros.', 'de', 'contraproducente', 'privilegiada,', 'fatos.', 'serão', 'pauta', 'transcendem', 'intuito', 'da', 'socialmente', 'dizimar', 'Se', 'civilizacional', 'no', 'luta', 'maneira', 'sobrepujados', 'detrimento', 'apropriou', 'em', 'comunidade', 'acolhedor,', 'contemporâneo', 'anti-colonialista', 'contexto', 'cima', 'do', 'diferente', 'homoafetividade', 'palco', 'dos', 'quem', 'mulher'}\n52\n"
     ]
    }
   ],
   "source": [
    "lumena_set = set(lumena_split)\n",
    "print(lumena_set)\n",
    "print(len(lumena_set))"
   ]
  },
  {
   "source": [
    "# Dicionário"
   ],
   "cell_type": "markdown",
   "metadata": {}
  },
  {
   "cell_type": "code",
   "execution_count": null,
   "metadata": {},
   "outputs": [],
   "source": []
  }
 ]
}